{
 "cells": [
  {
   "cell_type": "markdown",
   "metadata": {},
   "source": [
    "# Classification of blood-brain-barrier permeability data\n",
    "\n",
    "**Input data**: Simplified Molecular Input Line Entry System (SMILES) strings as molecular descriptors converted to feature embeddings with ChemBERTa-2."
   ]
  },
  {
   "cell_type": "code",
   "execution_count": 1,
   "metadata": {
    "id": "fvFvBLJV0Dkv"
   },
   "outputs": [],
   "source": [
    "from os.path import join\n",
    "from collections import Counter\n",
    "\n",
    "import numpy as np\n",
    "import pandas as pd\n",
    "import h5py\n",
    "from pandas import HDFStore\n",
    "\n",
    "from sklearn.decomposition import PCA\n",
    "from imblearn.over_sampling import RandomOverSampler\n",
    "\n",
    "import matplotlib.pyplot as plt\n",
    "import seaborn as sns\n",
    "\n",
    "from molecule_gym.config import DATA_DIR, RESULTS_DIR\n",
    "from molecule_gym.core.classifiers import classify_binary_data\n",
    "from molecule_gym.core.visualizations import plot_explained_variance\n",
    "\n",
    "import warnings\n",
    "warnings.filterwarnings('ignore')\n",
    "\n",
    "%matplotlib inline"
   ]
  },
  {
   "cell_type": "markdown",
   "metadata": {
    "id": "zQ-42fh0hjsF"
   },
   "source": [
    "## Importing the raw dataset\n",
    "\n",
    "Loading the raw dataset into a dataframe."
   ]
  },
  {
   "cell_type": "code",
   "execution_count": 2,
   "metadata": {
    "id": "MDs0otYi4tEK"
   },
   "outputs": [],
   "source": [
    "h5file = HDFStore(join(DATA_DIR, 'chemberta2_blood_brain_barrier_permeability.h5'), mode='r')"
   ]
  },
  {
   "cell_type": "code",
   "execution_count": 3,
   "metadata": {
    "colab": {
     "base_uri": "https://localhost:8080/"
    },
    "id": "I5CET7sa4tG6",
    "outputId": "fb246be0-7759-41fc-dfad-75accf22b582"
   },
   "outputs": [
    {
     "data": {
      "text/plain": [
       "['/bbbp_raw']"
      ]
     },
     "execution_count": 3,
     "metadata": {},
     "output_type": "execute_result"
    }
   ],
   "source": [
    "h5file.keys()"
   ]
  },
  {
   "cell_type": "code",
   "execution_count": 4,
   "metadata": {
    "id": "5HT5YrNDCi_Y"
   },
   "outputs": [],
   "source": [
    "data = h5file.get('/bbbp_raw')"
   ]
  },
  {
   "cell_type": "code",
   "execution_count": 5,
   "metadata": {},
   "outputs": [],
   "source": [
    "h5file.close()"
   ]
  },
  {
   "cell_type": "code",
   "execution_count": 6,
   "metadata": {
    "colab": {
     "base_uri": "https://localhost:8080/",
     "height": 206
    },
    "id": "3hHjr1eiCi2Y",
    "outputId": "08ad887f-25c5-4a6e-f4f4-c4cb59870b7f"
   },
   "outputs": [
    {
     "data": {
      "text/html": [
       "<div>\n",
       "<style scoped>\n",
       "    .dataframe tbody tr th:only-of-type {\n",
       "        vertical-align: middle;\n",
       "    }\n",
       "\n",
       "    .dataframe tbody tr th {\n",
       "        vertical-align: top;\n",
       "    }\n",
       "\n",
       "    .dataframe thead th {\n",
       "        text-align: right;\n",
       "    }\n",
       "</style>\n",
       "<table border=\"1\" class=\"dataframe\">\n",
       "  <thead>\n",
       "    <tr style=\"text-align: right;\">\n",
       "      <th></th>\n",
       "      <th>num</th>\n",
       "      <th>name</th>\n",
       "      <th>p_np</th>\n",
       "      <th>smiles</th>\n",
       "    </tr>\n",
       "  </thead>\n",
       "  <tbody>\n",
       "    <tr>\n",
       "      <th>0</th>\n",
       "      <td>1</td>\n",
       "      <td>Propanolol</td>\n",
       "      <td>1</td>\n",
       "      <td>[Cl].CC(C)NCC(O)COc1cccc2ccccc12</td>\n",
       "    </tr>\n",
       "    <tr>\n",
       "      <th>1</th>\n",
       "      <td>2</td>\n",
       "      <td>Terbutylchlorambucil</td>\n",
       "      <td>1</td>\n",
       "      <td>C(=O)(OC(C)(C)C)CCCc1ccc(cc1)N(CCCl)CCCl</td>\n",
       "    </tr>\n",
       "    <tr>\n",
       "      <th>2</th>\n",
       "      <td>3</td>\n",
       "      <td>40730</td>\n",
       "      <td>1</td>\n",
       "      <td>c12c3c(N4CCN(C)CC4)c(F)cc1c(c(C(O)=O)cn2C(C)CO...</td>\n",
       "    </tr>\n",
       "    <tr>\n",
       "      <th>3</th>\n",
       "      <td>4</td>\n",
       "      <td>24</td>\n",
       "      <td>1</td>\n",
       "      <td>C1CCN(CC1)Cc1cccc(c1)OCCCNC(=O)C</td>\n",
       "    </tr>\n",
       "    <tr>\n",
       "      <th>4</th>\n",
       "      <td>5</td>\n",
       "      <td>cloxacillin</td>\n",
       "      <td>1</td>\n",
       "      <td>Cc1onc(c2ccccc2Cl)c1C(=O)N[C@H]3[C@H]4SC(C)(C)...</td>\n",
       "    </tr>\n",
       "  </tbody>\n",
       "</table>\n",
       "</div>"
      ],
      "text/plain": [
       "   num                  name  p_np  \\\n",
       "0    1            Propanolol     1   \n",
       "1    2  Terbutylchlorambucil     1   \n",
       "2    3                 40730     1   \n",
       "3    4                    24     1   \n",
       "4    5           cloxacillin     1   \n",
       "\n",
       "                                              smiles  \n",
       "0                   [Cl].CC(C)NCC(O)COc1cccc2ccccc12  \n",
       "1           C(=O)(OC(C)(C)C)CCCc1ccc(cc1)N(CCCl)CCCl  \n",
       "2  c12c3c(N4CCN(C)CC4)c(F)cc1c(c(C(O)=O)cn2C(C)CO...  \n",
       "3                   C1CCN(CC1)Cc1cccc(c1)OCCCNC(=O)C  \n",
       "4  Cc1onc(c2ccccc2Cl)c1C(=O)N[C@H]3[C@H]4SC(C)(C)...  "
      ]
     },
     "execution_count": 6,
     "metadata": {},
     "output_type": "execute_result"
    }
   ],
   "source": [
    "data.head()"
   ]
  },
  {
   "cell_type": "code",
   "execution_count": 7,
   "metadata": {},
   "outputs": [
    {
     "data": {
      "text/plain": [
       "(2050, 4)"
      ]
     },
     "execution_count": 7,
     "metadata": {},
     "output_type": "execute_result"
    }
   ],
   "source": [
    "data.shape"
   ]
  },
  {
   "cell_type": "code",
   "execution_count": 8,
   "metadata": {},
   "outputs": [
    {
     "data": {
      "text/plain": [
       "1    1567\n",
       "0     483\n",
       "Name: p_np, dtype: int64"
      ]
     },
     "execution_count": 8,
     "metadata": {},
     "output_type": "execute_result"
    }
   ],
   "source": [
    "labels = data['p_np']\n",
    "labels.value_counts()"
   ]
  },
  {
   "cell_type": "markdown",
   "metadata": {},
   "source": [
    "## Load numeric feature embeddings of SMILES strings generated with ChemBERTa-2"
   ]
  },
  {
   "cell_type": "code",
   "execution_count": 9,
   "metadata": {},
   "outputs": [],
   "source": [
    "f = h5py.File(join(DATA_DIR, 'chemberta2_blood_brain_barrier_permeability.h5'), 'r')"
   ]
  },
  {
   "cell_type": "code",
   "execution_count": 10,
   "metadata": {},
   "outputs": [
    {
     "data": {
      "text/plain": [
       "<KeysViewHDF5 ['bbbp_raw', 'chemberta_2_features']>"
      ]
     },
     "execution_count": 10,
     "metadata": {},
     "output_type": "execute_result"
    }
   ],
   "source": [
    "f.keys()"
   ]
  },
  {
   "cell_type": "code",
   "execution_count": 11,
   "metadata": {
    "colab": {
     "base_uri": "https://localhost:8080/"
    },
    "id": "lgfnmtjTCikn",
    "outputId": "cee7e2ba-a51f-4135-f082-8dcdd3f36cd7"
   },
   "outputs": [],
   "source": [
    "features = f.get('chemberta_2_features')"
   ]
  },
  {
   "cell_type": "code",
   "execution_count": 12,
   "metadata": {},
   "outputs": [
    {
     "data": {
      "text/plain": [
       "(2050, 7924)"
      ]
     },
     "execution_count": 12,
     "metadata": {},
     "output_type": "execute_result"
    }
   ],
   "source": [
    "features.shape"
   ]
  },
  {
   "cell_type": "code",
   "execution_count": 13,
   "metadata": {},
   "outputs": [
    {
     "data": {
      "text/html": [
       "<div>\n",
       "<style scoped>\n",
       "    .dataframe tbody tr th:only-of-type {\n",
       "        vertical-align: middle;\n",
       "    }\n",
       "\n",
       "    .dataframe tbody tr th {\n",
       "        vertical-align: top;\n",
       "    }\n",
       "\n",
       "    .dataframe thead th {\n",
       "        text-align: right;\n",
       "    }\n",
       "</style>\n",
       "<table border=\"1\" class=\"dataframe\">\n",
       "  <thead>\n",
       "    <tr style=\"text-align: right;\">\n",
       "      <th></th>\n",
       "      <th>0</th>\n",
       "    </tr>\n",
       "  </thead>\n",
       "  <tbody>\n",
       "    <tr>\n",
       "      <th>count</th>\n",
       "      <td>7924.000000</td>\n",
       "    </tr>\n",
       "    <tr>\n",
       "      <th>mean</th>\n",
       "      <td>-6.741820</td>\n",
       "    </tr>\n",
       "    <tr>\n",
       "      <th>std</th>\n",
       "      <td>1.530230</td>\n",
       "    </tr>\n",
       "    <tr>\n",
       "      <th>min</th>\n",
       "      <td>-10.536302</td>\n",
       "    </tr>\n",
       "    <tr>\n",
       "      <th>25%</th>\n",
       "      <td>-7.563511</td>\n",
       "    </tr>\n",
       "    <tr>\n",
       "      <th>50%</th>\n",
       "      <td>-6.983957</td>\n",
       "    </tr>\n",
       "    <tr>\n",
       "      <th>75%</th>\n",
       "      <td>-6.325683</td>\n",
       "    </tr>\n",
       "    <tr>\n",
       "      <th>max</th>\n",
       "      <td>7.956779</td>\n",
       "    </tr>\n",
       "  </tbody>\n",
       "</table>\n",
       "</div>"
      ],
      "text/plain": [
       "                 0\n",
       "count  7924.000000\n",
       "mean     -6.741820\n",
       "std       1.530230\n",
       "min     -10.536302\n",
       "25%      -7.563511\n",
       "50%      -6.983957\n",
       "75%      -6.325683\n",
       "max       7.956779"
      ]
     },
     "execution_count": 13,
     "metadata": {},
     "output_type": "execute_result"
    }
   ],
   "source": [
    "# Distribution description of a feature sample\n",
    "features_describe = pd.DataFrame(features[0,:])\n",
    "features_describe.describe()"
   ]
  },
  {
   "cell_type": "markdown",
   "metadata": {},
   "source": [
    "## Binary classification with embeddings data"
   ]
  },
  {
   "cell_type": "code",
   "execution_count": 14,
   "metadata": {},
   "outputs": [
    {
     "data": {
      "text/plain": [
       "(2050, 7924)"
      ]
     },
     "execution_count": 14,
     "metadata": {},
     "output_type": "execute_result"
    }
   ],
   "source": [
    "features.shape"
   ]
  },
  {
   "cell_type": "code",
   "execution_count": 15,
   "metadata": {},
   "outputs": [
    {
     "data": {
      "text/plain": [
       "1    1567\n",
       "0     483\n",
       "Name: p_np, dtype: int64"
      ]
     },
     "execution_count": 15,
     "metadata": {},
     "output_type": "execute_result"
    }
   ],
   "source": [
    "labels.value_counts()"
   ]
  },
  {
   "cell_type": "code",
   "execution_count": 16,
   "metadata": {},
   "outputs": [
    {
     "data": {
      "text/plain": [
       "1    483\n",
       "0    483\n",
       "Name: p_np, dtype: int64"
      ]
     },
     "execution_count": 16,
     "metadata": {},
     "output_type": "execute_result"
    }
   ],
   "source": [
    "labels[:966].value_counts()"
   ]
  },
  {
   "cell_type": "code",
   "execution_count": 17,
   "metadata": {},
   "outputs": [
    {
     "name": "stdout",
     "output_type": "stream",
     "text": [
      "Training target statistics: Counter({0: 341, 1: 335})\n",
      "Testing target statistics: Counter({1: 148, 0: 142})\n",
      "Using SVC classifier\n",
      "\n",
      "Model performance on training data:\n",
      "              precision    recall  f1-score   support\n",
      "\n",
      "           0       0.81      0.73      0.77       341\n",
      "           1       0.75      0.83      0.79       335\n",
      "\n",
      "    accuracy                           0.78       676\n",
      "   macro avg       0.78      0.78      0.78       676\n",
      "weighted avg       0.78      0.78      0.78       676\n",
      "\n",
      "\n",
      "Model performance on test data:\n",
      "              precision    recall  f1-score   support\n",
      "\n",
      "           0       0.82      0.72      0.76       142\n",
      "           1       0.76      0.84      0.80       148\n",
      "\n",
      "    accuracy                           0.78       290\n",
      "   macro avg       0.79      0.78      0.78       290\n",
      "weighted avg       0.79      0.78      0.78       290\n",
      "\n"
     ]
    },
    {
     "data": {
      "image/png": "[encoded data removed]",
      "text/plain": [
       "<Figure size 640x480 with 2 Axes>"
      ]
     },
     "metadata": {},
     "output_type": "display_data"
    }
   ],
   "source": [
    "classify_binary_data(features[:966, :], labels[:966])"
   ]
  },
  {
   "cell_type": "markdown",
   "metadata": {
    "id": "m6ql2xKm8ZvQ"
   },
   "source": [
    "## Feature reduction with PCA Analysis"
   ]
  },
  {
   "cell_type": "code",
   "execution_count": 18,
   "metadata": {
    "id": "yRnwSm2g_ncC"
   },
   "outputs": [],
   "source": [
    "pca = PCA()"
   ]
  },
  {
   "cell_type": "code",
   "execution_count": 19,
   "metadata": {},
   "outputs": [],
   "source": [
    "features_transformed = pca.fit_transform(features)"
   ]
  },
  {
   "cell_type": "code",
   "execution_count": 20,
   "metadata": {},
   "outputs": [
    {
     "data": {
      "text/plain": [
       "array([0.5938465 , 0.10870522, 0.07596859, 0.03343878, 0.02153103,\n",
       "       0.01561497, 0.01211777, 0.01090148, 0.00931212, 0.00752243,\n",
       "       0.00695139, 0.00620874, 0.00573067, 0.00467514, 0.00443109,\n",
       "       0.00391127, 0.00385056, 0.00366863, 0.00342663, 0.00282674],\n",
       "      dtype=float32)"
      ]
     },
     "execution_count": 20,
     "metadata": {},
     "output_type": "execute_result"
    }
   ],
   "source": [
    "exp_var_pca = pca.explained_variance_ratio_[:20]\n",
    "exp_var_pca"
   ]
  },
  {
   "cell_type": "code",
   "execution_count": 21,
   "metadata": {},
   "outputs": [
    {
     "data": {
      "text/plain": [
       "array([0.5938465 , 0.7025517 , 0.7785203 , 0.8119591 , 0.83349013,\n",
       "       0.8491051 , 0.86122286, 0.8721243 , 0.8814364 , 0.8889588 ,\n",
       "       0.8959102 , 0.9021189 , 0.9078496 , 0.91252476, 0.9169558 ,\n",
       "       0.9208671 , 0.92471766, 0.9283863 , 0.9318129 , 0.93463963],\n",
       "      dtype=float32)"
      ]
     },
     "execution_count": 21,
     "metadata": {},
     "output_type": "execute_result"
    }
   ],
   "source": [
    "cum_sum_eigenvalues = np.cumsum(exp_var_pca)\n",
    "cum_sum_eigenvalues"
   ]
  },
  {
   "cell_type": "code",
   "execution_count": 22,
   "metadata": {},
   "outputs": [
    {
     "data": {
      "image/png": "[encoded data removed]",
      "text/plain": [
       "<Figure size 640x480 with 1 Axes>"
      ]
     },
     "metadata": {},
     "output_type": "display_data"
    }
   ],
   "source": [
    "plot_explained_variance(exp_var_pca)"
   ]
  },
  {
   "cell_type": "code",
   "execution_count": 23,
   "metadata": {},
   "outputs": [],
   "source": [
    "features_reduced = features_transformed[:,:20]"
   ]
  },
  {
   "cell_type": "code",
   "execution_count": 24,
   "metadata": {},
   "outputs": [
    {
     "data": {
      "text/plain": [
       "(2050, 20)"
      ]
     },
     "execution_count": 24,
     "metadata": {},
     "output_type": "execute_result"
    }
   ],
   "source": [
    "features_reduced.shape"
   ]
  },
  {
   "cell_type": "code",
   "execution_count": 25,
   "metadata": {},
   "outputs": [
    {
     "name": "stdout",
     "output_type": "stream",
     "text": [
      "Training target statistics: Counter({1: 340, 0: 336})\n",
      "Testing target statistics: Counter({0: 147, 1: 143})\n",
      "Using SVC classifier\n",
      "\n",
      "Model performance on training data:\n",
      "              precision    recall  f1-score   support\n",
      "\n",
      "           0       0.85      0.68      0.75       336\n",
      "           1       0.73      0.89      0.80       340\n",
      "\n",
      "    accuracy                           0.78       676\n",
      "   macro avg       0.79      0.78      0.78       676\n",
      "weighted avg       0.79      0.78      0.78       676\n",
      "\n",
      "\n",
      "Model performance on test data:\n",
      "              precision    recall  f1-score   support\n",
      "\n",
      "           0       0.83      0.65      0.73       147\n",
      "           1       0.70      0.87      0.78       143\n",
      "\n",
      "    accuracy                           0.76       290\n",
      "   macro avg       0.77      0.76      0.75       290\n",
      "weighted avg       0.77      0.76      0.75       290\n",
      "\n"
     ]
    },
    {
     "data": {
      "image/png": "[encoded data removed]",
      "text/plain": [
       "<Figure size 640x480 with 2 Axes>"
      ]
     },
     "metadata": {},
     "output_type": "display_data"
    }
   ],
   "source": [
    "classify_binary_data(features_reduced[:966, :], labels[:966])"
   ]
  },
  {
   "cell_type": "markdown",
   "metadata": {},
   "source": [
    "## Oversampling the smallest class"
   ]
  },
  {
   "cell_type": "code",
   "execution_count": 26,
   "metadata": {},
   "outputs": [],
   "source": [
    "over_sampler = RandomOverSampler(random_state=42)\n",
    "X_res, y_res = over_sampler.fit_resample(features_reduced, labels)"
   ]
  },
  {
   "cell_type": "code",
   "execution_count": 27,
   "metadata": {},
   "outputs": [
    {
     "name": "stdout",
     "output_type": "stream",
     "text": [
      "(3134, 20) (3134,)\n"
     ]
    }
   ],
   "source": [
    "print(X_res.shape, y_res.shape)"
   ]
  },
  {
   "cell_type": "code",
   "execution_count": 28,
   "metadata": {},
   "outputs": [
    {
     "name": "stdout",
     "output_type": "stream",
     "text": [
      "Training target statistics: Counter({1: 1110, 0: 1083})\n",
      "Testing target statistics: Counter({0: 484, 1: 457})\n",
      "Using SVC classifier\n",
      "\n",
      "Model performance on training data:\n",
      "              precision    recall  f1-score   support\n",
      "\n",
      "           0       0.84      0.89      0.87      1083\n",
      "           1       0.88      0.84      0.86      1110\n",
      "\n",
      "    accuracy                           0.86      2193\n",
      "   macro avg       0.86      0.86      0.86      2193\n",
      "weighted avg       0.86      0.86      0.86      2193\n",
      "\n",
      "\n",
      "Model performance on test data:\n",
      "              precision    recall  f1-score   support\n",
      "\n",
      "           0       0.82      0.86      0.84       484\n",
      "           1       0.84      0.80      0.82       457\n",
      "\n",
      "    accuracy                           0.83       941\n",
      "   macro avg       0.83      0.83      0.83       941\n",
      "weighted avg       0.83      0.83      0.83       941\n",
      "\n"
     ]
    },
    {
     "data": {
      "image/png": "[encoded data removed]",
      "text/plain": [
       "<Figure size 640x480 with 2 Axes>"
      ]
     },
     "metadata": {},
     "output_type": "display_data"
    }
   ],
   "source": [
    "classify_binary_data(X_res, y_res)"
   ]
  },
  {
   "cell_type": "markdown",
   "metadata": {},
   "source": [
    "## Pycaret pipeline for classification"
   ]
  },
  {
   "cell_type": "code",
   "execution_count": 29,
   "metadata": {},
   "outputs": [],
   "source": [
    "from pycaret.classification import *"
   ]
  },
  {
   "cell_type": "code",
   "execution_count": 30,
   "metadata": {},
   "outputs": [],
   "source": [
    "reduced_data = pd.DataFrame(X_res)\n",
    "reduced_data['labels'] = y_res"
   ]
  },
  {
   "cell_type": "code",
   "execution_count": 31,
   "metadata": {},
   "outputs": [
    {
     "data": {
      "text/html": [
       "<div>\n",
       "<style scoped>\n",
       "    .dataframe tbody tr th:only-of-type {\n",
       "        vertical-align: middle;\n",
       "    }\n",
       "\n",
       "    .dataframe tbody tr th {\n",
       "        vertical-align: top;\n",
       "    }\n",
       "\n",
       "    .dataframe thead th {\n",
       "        text-align: right;\n",
       "    }\n",
       "</style>\n",
       "<table border=\"1\" class=\"dataframe\">\n",
       "  <thead>\n",
       "    <tr style=\"text-align: right;\">\n",
       "      <th></th>\n",
       "      <th>0</th>\n",
       "      <th>1</th>\n",
       "      <th>2</th>\n",
       "      <th>3</th>\n",
       "      <th>4</th>\n",
       "      <th>5</th>\n",
       "      <th>6</th>\n",
       "      <th>7</th>\n",
       "      <th>8</th>\n",
       "      <th>9</th>\n",
       "      <th>...</th>\n",
       "      <th>11</th>\n",
       "      <th>12</th>\n",
       "      <th>13</th>\n",
       "      <th>14</th>\n",
       "      <th>15</th>\n",
       "      <th>16</th>\n",
       "      <th>17</th>\n",
       "      <th>18</th>\n",
       "      <th>19</th>\n",
       "      <th>labels</th>\n",
       "    </tr>\n",
       "  </thead>\n",
       "  <tbody>\n",
       "    <tr>\n",
       "      <th>0</th>\n",
       "      <td>-74.167587</td>\n",
       "      <td>-0.996756</td>\n",
       "      <td>7.954123</td>\n",
       "      <td>-10.170083</td>\n",
       "      <td>-9.089236</td>\n",
       "      <td>0.543555</td>\n",
       "      <td>12.341965</td>\n",
       "      <td>0.624062</td>\n",
       "      <td>2.688728</td>\n",
       "      <td>-1.458065</td>\n",
       "      <td>...</td>\n",
       "      <td>-7.552795</td>\n",
       "      <td>5.322787</td>\n",
       "      <td>0.619413</td>\n",
       "      <td>-8.618954</td>\n",
       "      <td>-3.480988</td>\n",
       "      <td>-0.400625</td>\n",
       "      <td>1.117439</td>\n",
       "      <td>-1.061518</td>\n",
       "      <td>-4.796038</td>\n",
       "      <td>1</td>\n",
       "    </tr>\n",
       "    <tr>\n",
       "      <th>1</th>\n",
       "      <td>92.225037</td>\n",
       "      <td>42.419735</td>\n",
       "      <td>4.716671</td>\n",
       "      <td>24.825651</td>\n",
       "      <td>-37.279255</td>\n",
       "      <td>-3.626776</td>\n",
       "      <td>1.437448</td>\n",
       "      <td>2.698268</td>\n",
       "      <td>2.054265</td>\n",
       "      <td>6.807059</td>\n",
       "      <td>...</td>\n",
       "      <td>1.629251</td>\n",
       "      <td>-3.775596</td>\n",
       "      <td>-8.851215</td>\n",
       "      <td>0.914740</td>\n",
       "      <td>4.299535</td>\n",
       "      <td>-13.252625</td>\n",
       "      <td>3.122720</td>\n",
       "      <td>-2.901517</td>\n",
       "      <td>-0.668159</td>\n",
       "      <td>1</td>\n",
       "    </tr>\n",
       "    <tr>\n",
       "      <th>2</th>\n",
       "      <td>-31.415817</td>\n",
       "      <td>-17.568005</td>\n",
       "      <td>-29.415537</td>\n",
       "      <td>4.012112</td>\n",
       "      <td>-3.580359</td>\n",
       "      <td>8.638283</td>\n",
       "      <td>-4.589925</td>\n",
       "      <td>-13.917303</td>\n",
       "      <td>-0.626637</td>\n",
       "      <td>12.066761</td>\n",
       "      <td>...</td>\n",
       "      <td>4.960220</td>\n",
       "      <td>4.564825</td>\n",
       "      <td>2.261058</td>\n",
       "      <td>-4.861485</td>\n",
       "      <td>-9.279594</td>\n",
       "      <td>1.337490</td>\n",
       "      <td>3.126763</td>\n",
       "      <td>-1.087729</td>\n",
       "      <td>-0.588485</td>\n",
       "      <td>1</td>\n",
       "    </tr>\n",
       "    <tr>\n",
       "      <th>3</th>\n",
       "      <td>-75.985245</td>\n",
       "      <td>3.011175</td>\n",
       "      <td>17.944036</td>\n",
       "      <td>17.009014</td>\n",
       "      <td>-8.112281</td>\n",
       "      <td>11.603303</td>\n",
       "      <td>2.847257</td>\n",
       "      <td>3.253739</td>\n",
       "      <td>7.401922</td>\n",
       "      <td>7.330302</td>\n",
       "      <td>...</td>\n",
       "      <td>-7.301838</td>\n",
       "      <td>-0.741727</td>\n",
       "      <td>-8.923892</td>\n",
       "      <td>4.528469</td>\n",
       "      <td>3.458456</td>\n",
       "      <td>-1.959076</td>\n",
       "      <td>-0.213407</td>\n",
       "      <td>2.972574</td>\n",
       "      <td>0.245770</td>\n",
       "      <td>1</td>\n",
       "    </tr>\n",
       "    <tr>\n",
       "      <th>4</th>\n",
       "      <td>-2.505742</td>\n",
       "      <td>1.356949</td>\n",
       "      <td>-32.659760</td>\n",
       "      <td>-3.806558</td>\n",
       "      <td>2.829599</td>\n",
       "      <td>2.198839</td>\n",
       "      <td>-8.433534</td>\n",
       "      <td>-11.375056</td>\n",
       "      <td>-4.505994</td>\n",
       "      <td>6.733484</td>\n",
       "      <td>...</td>\n",
       "      <td>-2.938817</td>\n",
       "      <td>5.512522</td>\n",
       "      <td>-2.902334</td>\n",
       "      <td>-2.648396</td>\n",
       "      <td>-1.194102</td>\n",
       "      <td>3.019176</td>\n",
       "      <td>-7.291344</td>\n",
       "      <td>5.654909</td>\n",
       "      <td>-1.800486</td>\n",
       "      <td>1</td>\n",
       "    </tr>\n",
       "  </tbody>\n",
       "</table>\n",
       "<p>5 rows × 21 columns</p>\n",
       "</div>"
      ],
      "text/plain": [
       "           0          1          2          3          4          5  \\\n",
       "0 -74.167587  -0.996756   7.954123 -10.170083  -9.089236   0.543555   \n",
       "1  92.225037  42.419735   4.716671  24.825651 -37.279255  -3.626776   \n",
       "2 -31.415817 -17.568005 -29.415537   4.012112  -3.580359   8.638283   \n",
       "3 -75.985245   3.011175  17.944036  17.009014  -8.112281  11.603303   \n",
       "4  -2.505742   1.356949 -32.659760  -3.806558   2.829599   2.198839   \n",
       "\n",
       "           6          7         8          9  ...        11        12  \\\n",
       "0  12.341965   0.624062  2.688728  -1.458065  ... -7.552795  5.322787   \n",
       "1   1.437448   2.698268  2.054265   6.807059  ...  1.629251 -3.775596   \n",
       "2  -4.589925 -13.917303 -0.626637  12.066761  ...  4.960220  4.564825   \n",
       "3   2.847257   3.253739  7.401922   7.330302  ... -7.301838 -0.741727   \n",
       "4  -8.433534 -11.375056 -4.505994   6.733484  ... -2.938817  5.512522   \n",
       "\n",
       "         13        14        15         16        17        18        19  \\\n",
       "0  0.619413 -8.618954 -3.480988  -0.400625  1.117439 -1.061518 -4.796038   \n",
       "1 -8.851215  0.914740  4.299535 -13.252625  3.122720 -2.901517 -0.668159   \n",
       "2  2.261058 -4.861485 -9.279594   1.337490  3.126763 -1.087729 -0.588485   \n",
       "3 -8.923892  4.528469  3.458456  -1.959076 -0.213407  2.972574  0.245770   \n",
       "4 -2.902334 -2.648396 -1.194102   3.019176 -7.291344  5.654909 -1.800486   \n",
       "\n",
       "   labels  \n",
       "0       1  \n",
       "1       1  \n",
       "2       1  \n",
       "3       1  \n",
       "4       1  \n",
       "\n",
       "[5 rows x 21 columns]"
      ]
     },
     "execution_count": 31,
     "metadata": {},
     "output_type": "execute_result"
    }
   ],
   "source": [
    "reduced_data.head()"
   ]
  },
  {
   "cell_type": "code",
   "execution_count": 32,
   "metadata": {},
   "outputs": [
    {
     "data": {
      "text/html": [
       "<style type=\"text/css\">\n",
       "#T_a2510_row8_col1 {\n",
       "  background-color: lightgreen;\n",
       "}\n",
       "</style>\n",
       "<table id=\"T_a2510\">\n",
       "  <thead>\n",
       "    <tr>\n",
       "      <th class=\"blank level0\" >&nbsp;</th>\n",
       "      <th id=\"T_a2510_level0_col0\" class=\"col_heading level0 col0\" >Description</th>\n",
       "      <th id=\"T_a2510_level0_col1\" class=\"col_heading level0 col1\" >Value</th>\n",
       "    </tr>\n",
       "  </thead>\n",
       "  <tbody>\n",
       "    <tr>\n",
       "      <th id=\"T_a2510_level0_row0\" class=\"row_heading level0 row0\" >0</th>\n",
       "      <td id=\"T_a2510_row0_col0\" class=\"data row0 col0\" >Session id</td>\n",
       "      <td id=\"T_a2510_row0_col1\" class=\"data row0 col1\" >69763</td>\n",
       "    </tr>\n",
       "    <tr>\n",
       "      <th id=\"T_a2510_level0_row1\" class=\"row_heading level0 row1\" >1</th>\n",
       "      <td id=\"T_a2510_row1_col0\" class=\"data row1 col0\" >Target</td>\n",
       "      <td id=\"T_a2510_row1_col1\" class=\"data row1 col1\" >labels</td>\n",
       "    </tr>\n",
       "    <tr>\n",
       "      <th id=\"T_a2510_level0_row2\" class=\"row_heading level0 row2\" >2</th>\n",
       "      <td id=\"T_a2510_row2_col0\" class=\"data row2 col0\" >Target type</td>\n",
       "      <td id=\"T_a2510_row2_col1\" class=\"data row2 col1\" >Binary</td>\n",
       "    </tr>\n",
       "    <tr>\n",
       "      <th id=\"T_a2510_level0_row3\" class=\"row_heading level0 row3\" >3</th>\n",
       "      <td id=\"T_a2510_row3_col0\" class=\"data row3 col0\" >Original data shape</td>\n",
       "      <td id=\"T_a2510_row3_col1\" class=\"data row3 col1\" >(3134, 21)</td>\n",
       "    </tr>\n",
       "    <tr>\n",
       "      <th id=\"T_a2510_level0_row4\" class=\"row_heading level0 row4\" >4</th>\n",
       "      <td id=\"T_a2510_row4_col0\" class=\"data row4 col0\" >Transformed data shape</td>\n",
       "      <td id=\"T_a2510_row4_col1\" class=\"data row4 col1\" >(3134, 21)</td>\n",
       "    </tr>\n",
       "    <tr>\n",
       "      <th id=\"T_a2510_level0_row5\" class=\"row_heading level0 row5\" >5</th>\n",
       "      <td id=\"T_a2510_row5_col0\" class=\"data row5 col0\" >Transformed train set shape</td>\n",
       "      <td id=\"T_a2510_row5_col1\" class=\"data row5 col1\" >(2193, 21)</td>\n",
       "    </tr>\n",
       "    <tr>\n",
       "      <th id=\"T_a2510_level0_row6\" class=\"row_heading level0 row6\" >6</th>\n",
       "      <td id=\"T_a2510_row6_col0\" class=\"data row6 col0\" >Transformed test set shape</td>\n",
       "      <td id=\"T_a2510_row6_col1\" class=\"data row6 col1\" >(941, 21)</td>\n",
       "    </tr>\n",
       "    <tr>\n",
       "      <th id=\"T_a2510_level0_row7\" class=\"row_heading level0 row7\" >7</th>\n",
       "      <td id=\"T_a2510_row7_col0\" class=\"data row7 col0\" >Numeric features</td>\n",
       "      <td id=\"T_a2510_row7_col1\" class=\"data row7 col1\" >20</td>\n",
       "    </tr>\n",
       "    <tr>\n",
       "      <th id=\"T_a2510_level0_row8\" class=\"row_heading level0 row8\" >8</th>\n",
       "      <td id=\"T_a2510_row8_col0\" class=\"data row8 col0\" >Preprocess</td>\n",
       "      <td id=\"T_a2510_row8_col1\" class=\"data row8 col1\" >True</td>\n",
       "    </tr>\n",
       "    <tr>\n",
       "      <th id=\"T_a2510_level0_row9\" class=\"row_heading level0 row9\" >9</th>\n",
       "      <td id=\"T_a2510_row9_col0\" class=\"data row9 col0\" >Imputation type</td>\n",
       "      <td id=\"T_a2510_row9_col1\" class=\"data row9 col1\" >simple</td>\n",
       "    </tr>\n",
       "    <tr>\n",
       "      <th id=\"T_a2510_level0_row10\" class=\"row_heading level0 row10\" >10</th>\n",
       "      <td id=\"T_a2510_row10_col0\" class=\"data row10 col0\" >Numeric imputation</td>\n",
       "      <td id=\"T_a2510_row10_col1\" class=\"data row10 col1\" >mean</td>\n",
       "    </tr>\n",
       "    <tr>\n",
       "      <th id=\"T_a2510_level0_row11\" class=\"row_heading level0 row11\" >11</th>\n",
       "      <td id=\"T_a2510_row11_col0\" class=\"data row11 col0\" >Categorical imputation</td>\n",
       "      <td id=\"T_a2510_row11_col1\" class=\"data row11 col1\" >mode</td>\n",
       "    </tr>\n",
       "    <tr>\n",
       "      <th id=\"T_a2510_level0_row12\" class=\"row_heading level0 row12\" >12</th>\n",
       "      <td id=\"T_a2510_row12_col0\" class=\"data row12 col0\" >Fold Generator</td>\n",
       "      <td id=\"T_a2510_row12_col1\" class=\"data row12 col1\" >KFold</td>\n",
       "    </tr>\n",
       "    <tr>\n",
       "      <th id=\"T_a2510_level0_row13\" class=\"row_heading level0 row13\" >13</th>\n",
       "      <td id=\"T_a2510_row13_col0\" class=\"data row13 col0\" >Fold Number</td>\n",
       "      <td id=\"T_a2510_row13_col1\" class=\"data row13 col1\" >10</td>\n",
       "    </tr>\n",
       "    <tr>\n",
       "      <th id=\"T_a2510_level0_row14\" class=\"row_heading level0 row14\" >14</th>\n",
       "      <td id=\"T_a2510_row14_col0\" class=\"data row14 col0\" >CPU Jobs</td>\n",
       "      <td id=\"T_a2510_row14_col1\" class=\"data row14 col1\" >-1</td>\n",
       "    </tr>\n",
       "    <tr>\n",
       "      <th id=\"T_a2510_level0_row15\" class=\"row_heading level0 row15\" >15</th>\n",
       "      <td id=\"T_a2510_row15_col0\" class=\"data row15 col0\" >Use GPU</td>\n",
       "      <td id=\"T_a2510_row15_col1\" class=\"data row15 col1\" >False</td>\n",
       "    </tr>\n",
       "    <tr>\n",
       "      <th id=\"T_a2510_level0_row16\" class=\"row_heading level0 row16\" >16</th>\n",
       "      <td id=\"T_a2510_row16_col0\" class=\"data row16 col0\" >Log Experiment</td>\n",
       "      <td id=\"T_a2510_row16_col1\" class=\"data row16 col1\" >False</td>\n",
       "    </tr>\n",
       "    <tr>\n",
       "      <th id=\"T_a2510_level0_row17\" class=\"row_heading level0 row17\" >17</th>\n",
       "      <td id=\"T_a2510_row17_col0\" class=\"data row17 col0\" >Experiment Name</td>\n",
       "      <td id=\"T_a2510_row17_col1\" class=\"data row17 col1\" >bbbp_classifier</td>\n",
       "    </tr>\n",
       "    <tr>\n",
       "      <th id=\"T_a2510_level0_row18\" class=\"row_heading level0 row18\" >18</th>\n",
       "      <td id=\"T_a2510_row18_col0\" class=\"data row18 col0\" >USI</td>\n",
       "      <td id=\"T_a2510_row18_col1\" class=\"data row18 col1\" >6726</td>\n",
       "    </tr>\n",
       "  </tbody>\n",
       "</table>\n"
      ],
      "text/plain": [
       "<pandas.io.formats.style.Styler at 0x7f1e679f70d0>"
      ]
     },
     "metadata": {},
     "output_type": "display_data"
    },
    {
     "name": "stdout",
     "output_type": "stream",
     "text": [
      "Loading profile... Please Wait!\n",
      "Profiler Failed. No output to show, continue with modeling.\n"
     ]
    }
   ],
   "source": [
    "exp_clf101 = setup(data=reduced_data, target='labels',\n",
    "                   fold_strategy='kfold', fold_shuffle=True,\n",
    "                   #fix_imbalance=True, fix_imbalance_method='SMOTE',\n",
    "                   normalize=False,# normalize_method='robust',\n",
    "                   remove_multicollinearity=False,# multicollinearity_threshold=0.9,\n",
    "                   experiment_name='bbbp_classifier',\n",
    "                   memory=RESULTS_DIR, profile=True,\n",
    "                   session_id=69763)"
   ]
  },
  {
   "cell_type": "code",
   "execution_count": 33,
   "metadata": {},
   "outputs": [
    {
     "data": {
      "text/html": [],
      "text/plain": [
       "<IPython.core.display.HTML object>"
      ]
     },
     "metadata": {},
     "output_type": "display_data"
    },
    {
     "data": {
      "text/html": [
       "<style type=\"text/css\">\n",
       "#T_c6aec th {\n",
       "  text-align: left;\n",
       "}\n",
       "#T_c6aec_row0_col0, #T_c6aec_row0_col4, #T_c6aec_row1_col0, #T_c6aec_row1_col1, #T_c6aec_row1_col2, #T_c6aec_row1_col3, #T_c6aec_row1_col4, #T_c6aec_row1_col5, #T_c6aec_row1_col6, #T_c6aec_row1_col7, #T_c6aec_row2_col0, #T_c6aec_row2_col1, #T_c6aec_row2_col2, #T_c6aec_row2_col3, #T_c6aec_row2_col5, #T_c6aec_row2_col6, #T_c6aec_row2_col7, #T_c6aec_row3_col0, #T_c6aec_row3_col1, #T_c6aec_row3_col2, #T_c6aec_row3_col3, #T_c6aec_row3_col4, #T_c6aec_row3_col5, #T_c6aec_row3_col6, #T_c6aec_row3_col7, #T_c6aec_row4_col0, #T_c6aec_row4_col1, #T_c6aec_row4_col2, #T_c6aec_row4_col3, #T_c6aec_row4_col4, #T_c6aec_row4_col5, #T_c6aec_row4_col6, #T_c6aec_row4_col7, #T_c6aec_row5_col0, #T_c6aec_row5_col1, #T_c6aec_row5_col2, #T_c6aec_row5_col3, #T_c6aec_row5_col4, #T_c6aec_row5_col5, #T_c6aec_row5_col6, #T_c6aec_row5_col7, #T_c6aec_row6_col0, #T_c6aec_row6_col1, #T_c6aec_row6_col2, #T_c6aec_row6_col3, #T_c6aec_row6_col4, #T_c6aec_row6_col5, #T_c6aec_row6_col6, #T_c6aec_row6_col7, #T_c6aec_row7_col0, #T_c6aec_row7_col1, #T_c6aec_row7_col2, #T_c6aec_row7_col3, #T_c6aec_row7_col4, #T_c6aec_row7_col5, #T_c6aec_row7_col6, #T_c6aec_row7_col7, #T_c6aec_row8_col0, #T_c6aec_row8_col1, #T_c6aec_row8_col2, #T_c6aec_row8_col3, #T_c6aec_row8_col4, #T_c6aec_row8_col5, #T_c6aec_row8_col6, #T_c6aec_row8_col7, #T_c6aec_row9_col0, #T_c6aec_row9_col1, #T_c6aec_row9_col2, #T_c6aec_row9_col3, #T_c6aec_row9_col4, #T_c6aec_row9_col5, #T_c6aec_row9_col6, #T_c6aec_row9_col7, #T_c6aec_row10_col0, #T_c6aec_row10_col1, #T_c6aec_row10_col2, #T_c6aec_row10_col3, #T_c6aec_row10_col4, #T_c6aec_row10_col5, #T_c6aec_row10_col6, #T_c6aec_row10_col7, #T_c6aec_row11_col0, #T_c6aec_row11_col1, #T_c6aec_row11_col2, #T_c6aec_row11_col3, #T_c6aec_row11_col4, #T_c6aec_row11_col5, #T_c6aec_row11_col6, #T_c6aec_row11_col7, #T_c6aec_row12_col0, #T_c6aec_row12_col1, #T_c6aec_row12_col2, #T_c6aec_row12_col3, #T_c6aec_row12_col4, #T_c6aec_row12_col5, #T_c6aec_row12_col6, #T_c6aec_row12_col7, #T_c6aec_row13_col0, #T_c6aec_row13_col1, #T_c6aec_row13_col2, #T_c6aec_row13_col3, #T_c6aec_row13_col4, #T_c6aec_row13_col5, #T_c6aec_row13_col6, #T_c6aec_row13_col7 {\n",
       "  text-align: left;\n",
       "}\n",
       "#T_c6aec_row0_col1, #T_c6aec_row0_col2, #T_c6aec_row0_col3, #T_c6aec_row0_col5, #T_c6aec_row0_col6, #T_c6aec_row0_col7, #T_c6aec_row2_col4 {\n",
       "  text-align: left;\n",
       "  background-color: yellow;\n",
       "}\n",
       "#T_c6aec_row0_col8, #T_c6aec_row1_col8, #T_c6aec_row2_col8, #T_c6aec_row3_col8, #T_c6aec_row4_col8, #T_c6aec_row5_col8, #T_c6aec_row6_col8, #T_c6aec_row7_col8, #T_c6aec_row8_col8, #T_c6aec_row10_col8, #T_c6aec_row11_col8, #T_c6aec_row12_col8, #T_c6aec_row13_col8 {\n",
       "  text-align: left;\n",
       "  background-color: lightgrey;\n",
       "}\n",
       "#T_c6aec_row9_col8 {\n",
       "  text-align: left;\n",
       "  background-color: yellow;\n",
       "  background-color: lightgrey;\n",
       "}\n",
       "</style>\n",
       "<table id=\"T_c6aec\">\n",
       "  <thead>\n",
       "    <tr>\n",
       "      <th class=\"blank level0\" >&nbsp;</th>\n",
       "      <th id=\"T_c6aec_level0_col0\" class=\"col_heading level0 col0\" >Model</th>\n",
       "      <th id=\"T_c6aec_level0_col1\" class=\"col_heading level0 col1\" >Accuracy</th>\n",
       "      <th id=\"T_c6aec_level0_col2\" class=\"col_heading level0 col2\" >AUC</th>\n",
       "      <th id=\"T_c6aec_level0_col3\" class=\"col_heading level0 col3\" >Recall</th>\n",
       "      <th id=\"T_c6aec_level0_col4\" class=\"col_heading level0 col4\" >Prec.</th>\n",
       "      <th id=\"T_c6aec_level0_col5\" class=\"col_heading level0 col5\" >F1</th>\n",
       "      <th id=\"T_c6aec_level0_col6\" class=\"col_heading level0 col6\" >Kappa</th>\n",
       "      <th id=\"T_c6aec_level0_col7\" class=\"col_heading level0 col7\" >MCC</th>\n",
       "      <th id=\"T_c6aec_level0_col8\" class=\"col_heading level0 col8\" >TT (Sec)</th>\n",
       "    </tr>\n",
       "  </thead>\n",
       "  <tbody>\n",
       "    <tr>\n",
       "      <th id=\"T_c6aec_level0_row0\" class=\"row_heading level0 row0\" >et</th>\n",
       "      <td id=\"T_c6aec_row0_col0\" class=\"data row0 col0\" >Extra Trees Classifier</td>\n",
       "      <td id=\"T_c6aec_row0_col1\" class=\"data row0 col1\" >0.9576</td>\n",
       "      <td id=\"T_c6aec_row0_col2\" class=\"data row0 col2\" >0.9880</td>\n",
       "      <td id=\"T_c6aec_row0_col3\" class=\"data row0 col3\" >0.9609</td>\n",
       "      <td id=\"T_c6aec_row0_col4\" class=\"data row0 col4\" >0.9547</td>\n",
       "      <td id=\"T_c6aec_row0_col5\" class=\"data row0 col5\" >0.9577</td>\n",
       "      <td id=\"T_c6aec_row0_col6\" class=\"data row0 col6\" >0.9150</td>\n",
       "      <td id=\"T_c6aec_row0_col7\" class=\"data row0 col7\" >0.9152</td>\n",
       "      <td id=\"T_c6aec_row0_col8\" class=\"data row0 col8\" >0.0510</td>\n",
       "    </tr>\n",
       "    <tr>\n",
       "      <th id=\"T_c6aec_level0_row1\" class=\"row_heading level0 row1\" >rf</th>\n",
       "      <td id=\"T_c6aec_row1_col0\" class=\"data row1 col0\" >Random Forest Classifier</td>\n",
       "      <td id=\"T_c6aec_row1_col1\" class=\"data row1 col1\" >0.9462</td>\n",
       "      <td id=\"T_c6aec_row1_col2\" class=\"data row1 col2\" >0.9861</td>\n",
       "      <td id=\"T_c6aec_row1_col3\" class=\"data row1 col3\" >0.9376</td>\n",
       "      <td id=\"T_c6aec_row1_col4\" class=\"data row1 col4\" >0.9547</td>\n",
       "      <td id=\"T_c6aec_row1_col5\" class=\"data row1 col5\" >0.9459</td>\n",
       "      <td id=\"T_c6aec_row1_col6\" class=\"data row1 col6\" >0.8922</td>\n",
       "      <td id=\"T_c6aec_row1_col7\" class=\"data row1 col7\" >0.8927</td>\n",
       "      <td id=\"T_c6aec_row1_col8\" class=\"data row1 col8\" >0.0480</td>\n",
       "    </tr>\n",
       "    <tr>\n",
       "      <th id=\"T_c6aec_level0_row2\" class=\"row_heading level0 row2\" >lightgbm</th>\n",
       "      <td id=\"T_c6aec_row2_col0\" class=\"data row2 col0\" >Light Gradient Boosting Machine</td>\n",
       "      <td id=\"T_c6aec_row2_col1\" class=\"data row2 col1\" >0.9334</td>\n",
       "      <td id=\"T_c6aec_row2_col2\" class=\"data row2 col2\" >0.9799</td>\n",
       "      <td id=\"T_c6aec_row2_col3\" class=\"data row2 col3\" >0.9050</td>\n",
       "      <td id=\"T_c6aec_row2_col4\" class=\"data row2 col4\" >0.9596</td>\n",
       "      <td id=\"T_c6aec_row2_col5\" class=\"data row2 col5\" >0.9312</td>\n",
       "      <td id=\"T_c6aec_row2_col6\" class=\"data row2 col6\" >0.8665</td>\n",
       "      <td id=\"T_c6aec_row2_col7\" class=\"data row2 col7\" >0.8683</td>\n",
       "      <td id=\"T_c6aec_row2_col8\" class=\"data row2 col8\" >0.0320</td>\n",
       "    </tr>\n",
       "    <tr>\n",
       "      <th id=\"T_c6aec_level0_row3\" class=\"row_heading level0 row3\" >gbc</th>\n",
       "      <td id=\"T_c6aec_row3_col0\" class=\"data row3 col0\" >Gradient Boosting Classifier</td>\n",
       "      <td id=\"T_c6aec_row3_col1\" class=\"data row3 col1\" >0.9020</td>\n",
       "      <td id=\"T_c6aec_row3_col2\" class=\"data row3 col2\" >0.9575</td>\n",
       "      <td id=\"T_c6aec_row3_col3\" class=\"data row3 col3\" >0.8510</td>\n",
       "      <td id=\"T_c6aec_row3_col4\" class=\"data row3 col4\" >0.9491</td>\n",
       "      <td id=\"T_c6aec_row3_col5\" class=\"data row3 col5\" >0.8964</td>\n",
       "      <td id=\"T_c6aec_row3_col6\" class=\"data row3 col6\" >0.8037</td>\n",
       "      <td id=\"T_c6aec_row3_col7\" class=\"data row3 col7\" >0.8095</td>\n",
       "      <td id=\"T_c6aec_row3_col8\" class=\"data row3 col8\" >0.0310</td>\n",
       "    </tr>\n",
       "    <tr>\n",
       "      <th id=\"T_c6aec_level0_row4\" class=\"row_heading level0 row4\" >dt</th>\n",
       "      <td id=\"T_c6aec_row4_col0\" class=\"data row4 col0\" >Decision Tree Classifier</td>\n",
       "      <td id=\"T_c6aec_row4_col1\" class=\"data row4 col1\" >0.8910</td>\n",
       "      <td id=\"T_c6aec_row4_col2\" class=\"data row4 col2\" >0.8913</td>\n",
       "      <td id=\"T_c6aec_row4_col3\" class=\"data row4 col3\" >0.8350</td>\n",
       "      <td id=\"T_c6aec_row4_col4\" class=\"data row4 col4\" >0.9418</td>\n",
       "      <td id=\"T_c6aec_row4_col5\" class=\"data row4 col5\" >0.8848</td>\n",
       "      <td id=\"T_c6aec_row4_col6\" class=\"data row4 col6\" >0.7819</td>\n",
       "      <td id=\"T_c6aec_row4_col7\" class=\"data row4 col7\" >0.7875</td>\n",
       "      <td id=\"T_c6aec_row4_col8\" class=\"data row4 col8\" >0.0230</td>\n",
       "    </tr>\n",
       "    <tr>\n",
       "      <th id=\"T_c6aec_level0_row5\" class=\"row_heading level0 row5\" >ada</th>\n",
       "      <td id=\"T_c6aec_row5_col0\" class=\"data row5 col0\" >Ada Boost Classifier</td>\n",
       "      <td id=\"T_c6aec_row5_col1\" class=\"data row5 col1\" >0.8226</td>\n",
       "      <td id=\"T_c6aec_row5_col2\" class=\"data row5 col2\" >0.8959</td>\n",
       "      <td id=\"T_c6aec_row5_col3\" class=\"data row5 col3\" >0.7965</td>\n",
       "      <td id=\"T_c6aec_row5_col4\" class=\"data row5 col4\" >0.8411</td>\n",
       "      <td id=\"T_c6aec_row5_col5\" class=\"data row5 col5\" >0.8170</td>\n",
       "      <td id=\"T_c6aec_row5_col6\" class=\"data row5 col6\" >0.6451</td>\n",
       "      <td id=\"T_c6aec_row5_col7\" class=\"data row5 col7\" >0.6477</td>\n",
       "      <td id=\"T_c6aec_row5_col8\" class=\"data row5 col8\" >0.0300</td>\n",
       "    </tr>\n",
       "    <tr>\n",
       "      <th id=\"T_c6aec_level0_row6\" class=\"row_heading level0 row6\" >knn</th>\n",
       "      <td id=\"T_c6aec_row6_col0\" class=\"data row6 col0\" >K Neighbors Classifier</td>\n",
       "      <td id=\"T_c6aec_row6_col1\" class=\"data row6 col1\" >0.8331</td>\n",
       "      <td id=\"T_c6aec_row6_col2\" class=\"data row6 col2\" >0.9144</td>\n",
       "      <td id=\"T_c6aec_row6_col3\" class=\"data row6 col3\" >0.7358</td>\n",
       "      <td id=\"T_c6aec_row6_col4\" class=\"data row6 col4\" >0.9148</td>\n",
       "      <td id=\"T_c6aec_row6_col5\" class=\"data row6 col5\" >0.8146</td>\n",
       "      <td id=\"T_c6aec_row6_col6\" class=\"data row6 col6\" >0.6658</td>\n",
       "      <td id=\"T_c6aec_row6_col7\" class=\"data row6 col7\" >0.6798</td>\n",
       "      <td id=\"T_c6aec_row6_col8\" class=\"data row6 col8\" >0.0900</td>\n",
       "    </tr>\n",
       "    <tr>\n",
       "      <th id=\"T_c6aec_level0_row7\" class=\"row_heading level0 row7\" >qda</th>\n",
       "      <td id=\"T_c6aec_row7_col0\" class=\"data row7 col0\" >Quadratic Discriminant Analysis</td>\n",
       "      <td id=\"T_c6aec_row7_col1\" class=\"data row7 col1\" >0.8003</td>\n",
       "      <td id=\"T_c6aec_row7_col2\" class=\"data row7 col2\" >0.8969</td>\n",
       "      <td id=\"T_c6aec_row7_col3\" class=\"data row7 col3\" >0.7512</td>\n",
       "      <td id=\"T_c6aec_row7_col4\" class=\"data row7 col4\" >0.8341</td>\n",
       "      <td id=\"T_c6aec_row7_col5\" class=\"data row7 col5\" >0.7895</td>\n",
       "      <td id=\"T_c6aec_row7_col6\" class=\"data row7 col6\" >0.6006</td>\n",
       "      <td id=\"T_c6aec_row7_col7\" class=\"data row7 col7\" >0.6048</td>\n",
       "      <td id=\"T_c6aec_row7_col8\" class=\"data row7 col8\" >0.0210</td>\n",
       "    </tr>\n",
       "    <tr>\n",
       "      <th id=\"T_c6aec_level0_row8\" class=\"row_heading level0 row8\" >lr</th>\n",
       "      <td id=\"T_c6aec_row8_col0\" class=\"data row8 col0\" >Logistic Regression</td>\n",
       "      <td id=\"T_c6aec_row8_col1\" class=\"data row8 col1\" >0.7770</td>\n",
       "      <td id=\"T_c6aec_row8_col2\" class=\"data row8 col2\" >0.8718</td>\n",
       "      <td id=\"T_c6aec_row8_col3\" class=\"data row8 col3\" >0.7548</td>\n",
       "      <td id=\"T_c6aec_row8_col4\" class=\"data row8 col4\" >0.7912</td>\n",
       "      <td id=\"T_c6aec_row8_col5\" class=\"data row8 col5\" >0.7714</td>\n",
       "      <td id=\"T_c6aec_row8_col6\" class=\"data row8 col6\" >0.5544</td>\n",
       "      <td id=\"T_c6aec_row8_col7\" class=\"data row8 col7\" >0.5566</td>\n",
       "      <td id=\"T_c6aec_row8_col8\" class=\"data row8 col8\" >0.2660</td>\n",
       "    </tr>\n",
       "    <tr>\n",
       "      <th id=\"T_c6aec_level0_row9\" class=\"row_heading level0 row9\" >ridge</th>\n",
       "      <td id=\"T_c6aec_row9_col0\" class=\"data row9 col0\" >Ridge Classifier</td>\n",
       "      <td id=\"T_c6aec_row9_col1\" class=\"data row9 col1\" >0.7679</td>\n",
       "      <td id=\"T_c6aec_row9_col2\" class=\"data row9 col2\" >0.0000</td>\n",
       "      <td id=\"T_c6aec_row9_col3\" class=\"data row9 col3\" >0.7167</td>\n",
       "      <td id=\"T_c6aec_row9_col4\" class=\"data row9 col4\" >0.7995</td>\n",
       "      <td id=\"T_c6aec_row9_col5\" class=\"data row9 col5\" >0.7549</td>\n",
       "      <td id=\"T_c6aec_row9_col6\" class=\"data row9 col6\" >0.5361</td>\n",
       "      <td id=\"T_c6aec_row9_col7\" class=\"data row9 col7\" >0.5403</td>\n",
       "      <td id=\"T_c6aec_row9_col8\" class=\"data row9 col8\" >0.0180</td>\n",
       "    </tr>\n",
       "    <tr>\n",
       "      <th id=\"T_c6aec_level0_row10\" class=\"row_heading level0 row10\" >lda</th>\n",
       "      <td id=\"T_c6aec_row10_col0\" class=\"data row10 col0\" >Linear Discriminant Analysis</td>\n",
       "      <td id=\"T_c6aec_row10_col1\" class=\"data row10 col1\" >0.7679</td>\n",
       "      <td id=\"T_c6aec_row10_col2\" class=\"data row10 col2\" >0.8655</td>\n",
       "      <td id=\"T_c6aec_row10_col3\" class=\"data row10 col3\" >0.7167</td>\n",
       "      <td id=\"T_c6aec_row10_col4\" class=\"data row10 col4\" >0.7995</td>\n",
       "      <td id=\"T_c6aec_row10_col5\" class=\"data row10 col5\" >0.7549</td>\n",
       "      <td id=\"T_c6aec_row10_col6\" class=\"data row10 col6\" >0.5361</td>\n",
       "      <td id=\"T_c6aec_row10_col7\" class=\"data row10 col7\" >0.5403</td>\n",
       "      <td id=\"T_c6aec_row10_col8\" class=\"data row10 col8\" >0.0210</td>\n",
       "    </tr>\n",
       "    <tr>\n",
       "      <th id=\"T_c6aec_level0_row11\" class=\"row_heading level0 row11\" >svm</th>\n",
       "      <td id=\"T_c6aec_row11_col0\" class=\"data row11 col0\" >SVM - Linear Kernel</td>\n",
       "      <td id=\"T_c6aec_row11_col1\" class=\"data row11 col1\" >0.7409</td>\n",
       "      <td id=\"T_c6aec_row11_col2\" class=\"data row11 col2\" >0.0000</td>\n",
       "      <td id=\"T_c6aec_row11_col3\" class=\"data row11 col3\" >0.7816</td>\n",
       "      <td id=\"T_c6aec_row11_col4\" class=\"data row11 col4\" >0.7245</td>\n",
       "      <td id=\"T_c6aec_row11_col5\" class=\"data row11 col5\" >0.7507</td>\n",
       "      <td id=\"T_c6aec_row11_col6\" class=\"data row11 col6\" >0.4817</td>\n",
       "      <td id=\"T_c6aec_row11_col7\" class=\"data row11 col7\" >0.4848</td>\n",
       "      <td id=\"T_c6aec_row11_col8\" class=\"data row11 col8\" >0.0210</td>\n",
       "    </tr>\n",
       "    <tr>\n",
       "      <th id=\"T_c6aec_level0_row12\" class=\"row_heading level0 row12\" >nb</th>\n",
       "      <td id=\"T_c6aec_row12_col0\" class=\"data row12 col0\" >Naive Bayes</td>\n",
       "      <td id=\"T_c6aec_row12_col1\" class=\"data row12 col1\" >0.7205</td>\n",
       "      <td id=\"T_c6aec_row12_col2\" class=\"data row12 col2\" >0.8082</td>\n",
       "      <td id=\"T_c6aec_row12_col3\" class=\"data row12 col3\" >0.6916</td>\n",
       "      <td id=\"T_c6aec_row12_col4\" class=\"data row12 col4\" >0.7355</td>\n",
       "      <td id=\"T_c6aec_row12_col5\" class=\"data row12 col5\" >0.7114</td>\n",
       "      <td id=\"T_c6aec_row12_col6\" class=\"data row12 col6\" >0.4417</td>\n",
       "      <td id=\"T_c6aec_row12_col7\" class=\"data row12 col7\" >0.4441</td>\n",
       "      <td id=\"T_c6aec_row12_col8\" class=\"data row12 col8\" >0.0200</td>\n",
       "    </tr>\n",
       "    <tr>\n",
       "      <th id=\"T_c6aec_level0_row13\" class=\"row_heading level0 row13\" >dummy</th>\n",
       "      <td id=\"T_c6aec_row13_col0\" class=\"data row13 col0\" >Dummy Classifier</td>\n",
       "      <td id=\"T_c6aec_row13_col1\" class=\"data row13 col1\" >0.4783</td>\n",
       "      <td id=\"T_c6aec_row13_col2\" class=\"data row13 col2\" >0.5000</td>\n",
       "      <td id=\"T_c6aec_row13_col3\" class=\"data row13 col3\" >0.4000</td>\n",
       "      <td id=\"T_c6aec_row13_col4\" class=\"data row13 col4\" >0.1891</td>\n",
       "      <td id=\"T_c6aec_row13_col5\" class=\"data row13 col5\" >0.2567</td>\n",
       "      <td id=\"T_c6aec_row13_col6\" class=\"data row13 col6\" >0.0000</td>\n",
       "      <td id=\"T_c6aec_row13_col7\" class=\"data row13 col7\" >0.0000</td>\n",
       "      <td id=\"T_c6aec_row13_col8\" class=\"data row13 col8\" >0.0190</td>\n",
       "    </tr>\n",
       "  </tbody>\n",
       "</table>\n"
      ],
      "text/plain": [
       "<pandas.io.formats.style.Styler at 0x7f1e706836d0>"
      ]
     },
     "metadata": {},
     "output_type": "display_data"
    },
    {
     "data": {
      "text/html": [],
      "text/plain": [
       "<IPython.core.display.HTML object>"
      ]
     },
     "metadata": {},
     "output_type": "display_data"
    }
   ],
   "source": [
    "top_n = compare_models(sort='F1', n_select=2)"
   ]
  },
  {
   "cell_type": "markdown",
   "metadata": {},
   "source": [
    "### Fine tuning best model"
   ]
  },
  {
   "cell_type": "code",
   "execution_count": 34,
   "metadata": {},
   "outputs": [
    {
     "data": {
      "text/html": [],
      "text/plain": [
       "<IPython.core.display.HTML object>"
      ]
     },
     "metadata": {},
     "output_type": "display_data"
    },
    {
     "data": {
      "text/html": [
       "<style type=\"text/css\">\n",
       "#T_a3e0f_row10_col0, #T_a3e0f_row10_col1, #T_a3e0f_row10_col2, #T_a3e0f_row10_col3, #T_a3e0f_row10_col4, #T_a3e0f_row10_col5, #T_a3e0f_row10_col6 {\n",
       "  background: yellow;\n",
       "}\n",
       "</style>\n",
       "<table id=\"T_a3e0f\">\n",
       "  <thead>\n",
       "    <tr>\n",
       "      <th class=\"blank level0\" >&nbsp;</th>\n",
       "      <th id=\"T_a3e0f_level0_col0\" class=\"col_heading level0 col0\" >Accuracy</th>\n",
       "      <th id=\"T_a3e0f_level0_col1\" class=\"col_heading level0 col1\" >AUC</th>\n",
       "      <th id=\"T_a3e0f_level0_col2\" class=\"col_heading level0 col2\" >Recall</th>\n",
       "      <th id=\"T_a3e0f_level0_col3\" class=\"col_heading level0 col3\" >Prec.</th>\n",
       "      <th id=\"T_a3e0f_level0_col4\" class=\"col_heading level0 col4\" >F1</th>\n",
       "      <th id=\"T_a3e0f_level0_col5\" class=\"col_heading level0 col5\" >Kappa</th>\n",
       "      <th id=\"T_a3e0f_level0_col6\" class=\"col_heading level0 col6\" >MCC</th>\n",
       "    </tr>\n",
       "    <tr>\n",
       "      <th class=\"index_name level0\" >Fold</th>\n",
       "      <th class=\"blank col0\" >&nbsp;</th>\n",
       "      <th class=\"blank col1\" >&nbsp;</th>\n",
       "      <th class=\"blank col2\" >&nbsp;</th>\n",
       "      <th class=\"blank col3\" >&nbsp;</th>\n",
       "      <th class=\"blank col4\" >&nbsp;</th>\n",
       "      <th class=\"blank col5\" >&nbsp;</th>\n",
       "      <th class=\"blank col6\" >&nbsp;</th>\n",
       "    </tr>\n",
       "  </thead>\n",
       "  <tbody>\n",
       "    <tr>\n",
       "      <th id=\"T_a3e0f_level0_row0\" class=\"row_heading level0 row0\" >0</th>\n",
       "      <td id=\"T_a3e0f_row0_col0\" class=\"data row0 col0\" >0.9727</td>\n",
       "      <td id=\"T_a3e0f_row0_col1\" class=\"data row0 col1\" >0.9799</td>\n",
       "      <td id=\"T_a3e0f_row0_col2\" class=\"data row0 col2\" >0.9906</td>\n",
       "      <td id=\"T_a3e0f_row0_col3\" class=\"data row0 col3\" >0.9545</td>\n",
       "      <td id=\"T_a3e0f_row0_col4\" class=\"data row0 col4\" >0.9722</td>\n",
       "      <td id=\"T_a3e0f_row0_col5\" class=\"data row0 col5\" >0.9455</td>\n",
       "      <td id=\"T_a3e0f_row0_col6\" class=\"data row0 col6\" >0.9461</td>\n",
       "    </tr>\n",
       "    <tr>\n",
       "      <th id=\"T_a3e0f_level0_row1\" class=\"row_heading level0 row1\" >1</th>\n",
       "      <td id=\"T_a3e0f_row1_col0\" class=\"data row1 col0\" >0.9409</td>\n",
       "      <td id=\"T_a3e0f_row1_col1\" class=\"data row1 col1\" >0.9727</td>\n",
       "      <td id=\"T_a3e0f_row1_col2\" class=\"data row1 col2\" >0.9643</td>\n",
       "      <td id=\"T_a3e0f_row1_col3\" class=\"data row1 col3\" >0.9231</td>\n",
       "      <td id=\"T_a3e0f_row1_col4\" class=\"data row1 col4\" >0.9432</td>\n",
       "      <td id=\"T_a3e0f_row1_col5\" class=\"data row1 col5\" >0.8817</td>\n",
       "      <td id=\"T_a3e0f_row1_col6\" class=\"data row1 col6\" >0.8826</td>\n",
       "    </tr>\n",
       "    <tr>\n",
       "      <th id=\"T_a3e0f_level0_row2\" class=\"row_heading level0 row2\" >2</th>\n",
       "      <td id=\"T_a3e0f_row2_col0\" class=\"data row2 col0\" >0.9545</td>\n",
       "      <td id=\"T_a3e0f_row2_col1\" class=\"data row2 col1\" >0.9870</td>\n",
       "      <td id=\"T_a3e0f_row2_col2\" class=\"data row2 col2\" >0.9633</td>\n",
       "      <td id=\"T_a3e0f_row2_col3\" class=\"data row2 col3\" >0.9459</td>\n",
       "      <td id=\"T_a3e0f_row2_col4\" class=\"data row2 col4\" >0.9545</td>\n",
       "      <td id=\"T_a3e0f_row2_col5\" class=\"data row2 col5\" >0.9091</td>\n",
       "      <td id=\"T_a3e0f_row2_col6\" class=\"data row2 col6\" >0.9092</td>\n",
       "    </tr>\n",
       "    <tr>\n",
       "      <th id=\"T_a3e0f_level0_row3\" class=\"row_heading level0 row3\" >3</th>\n",
       "      <td id=\"T_a3e0f_row3_col0\" class=\"data row3 col0\" >0.9726</td>\n",
       "      <td id=\"T_a3e0f_row3_col1\" class=\"data row3 col1\" >0.9906</td>\n",
       "      <td id=\"T_a3e0f_row3_col2\" class=\"data row3 col2\" >0.9658</td>\n",
       "      <td id=\"T_a3e0f_row3_col3\" class=\"data row3 col3\" >0.9826</td>\n",
       "      <td id=\"T_a3e0f_row3_col4\" class=\"data row3 col4\" >0.9741</td>\n",
       "      <td id=\"T_a3e0f_row3_col5\" class=\"data row3 col5\" >0.9450</td>\n",
       "      <td id=\"T_a3e0f_row3_col6\" class=\"data row3 col6\" >0.9452</td>\n",
       "    </tr>\n",
       "    <tr>\n",
       "      <th id=\"T_a3e0f_level0_row4\" class=\"row_heading level0 row4\" >4</th>\n",
       "      <td id=\"T_a3e0f_row4_col0\" class=\"data row4 col0\" >0.9498</td>\n",
       "      <td id=\"T_a3e0f_row4_col1\" class=\"data row4 col1\" >0.9929</td>\n",
       "      <td id=\"T_a3e0f_row4_col2\" class=\"data row4 col2\" >0.9364</td>\n",
       "      <td id=\"T_a3e0f_row4_col3\" class=\"data row4 col3\" >0.9626</td>\n",
       "      <td id=\"T_a3e0f_row4_col4\" class=\"data row4 col4\" >0.9493</td>\n",
       "      <td id=\"T_a3e0f_row4_col5\" class=\"data row4 col5\" >0.8996</td>\n",
       "      <td id=\"T_a3e0f_row4_col6\" class=\"data row4 col6\" >0.8999</td>\n",
       "    </tr>\n",
       "    <tr>\n",
       "      <th id=\"T_a3e0f_level0_row5\" class=\"row_heading level0 row5\" >5</th>\n",
       "      <td id=\"T_a3e0f_row5_col0\" class=\"data row5 col0\" >0.9635</td>\n",
       "      <td id=\"T_a3e0f_row5_col1\" class=\"data row5 col1\" >0.9913</td>\n",
       "      <td id=\"T_a3e0f_row5_col2\" class=\"data row5 col2\" >0.9737</td>\n",
       "      <td id=\"T_a3e0f_row5_col3\" class=\"data row5 col3\" >0.9569</td>\n",
       "      <td id=\"T_a3e0f_row5_col4\" class=\"data row5 col4\" >0.9652</td>\n",
       "      <td id=\"T_a3e0f_row5_col5\" class=\"data row5 col5\" >0.9268</td>\n",
       "      <td id=\"T_a3e0f_row5_col6\" class=\"data row5 col6\" >0.9269</td>\n",
       "    </tr>\n",
       "    <tr>\n",
       "      <th id=\"T_a3e0f_level0_row6\" class=\"row_heading level0 row6\" >6</th>\n",
       "      <td id=\"T_a3e0f_row6_col0\" class=\"data row6 col0\" >0.9406</td>\n",
       "      <td id=\"T_a3e0f_row6_col1\" class=\"data row6 col1\" >0.9844</td>\n",
       "      <td id=\"T_a3e0f_row6_col2\" class=\"data row6 col2\" >0.9322</td>\n",
       "      <td id=\"T_a3e0f_row6_col3\" class=\"data row6 col3\" >0.9565</td>\n",
       "      <td id=\"T_a3e0f_row6_col4\" class=\"data row6 col4\" >0.9442</td>\n",
       "      <td id=\"T_a3e0f_row6_col5\" class=\"data row6 col5\" >0.8808</td>\n",
       "      <td id=\"T_a3e0f_row6_col6\" class=\"data row6 col6\" >0.8811</td>\n",
       "    </tr>\n",
       "    <tr>\n",
       "      <th id=\"T_a3e0f_level0_row7\" class=\"row_heading level0 row7\" >7</th>\n",
       "      <td id=\"T_a3e0f_row7_col0\" class=\"data row7 col0\" >0.9452</td>\n",
       "      <td id=\"T_a3e0f_row7_col1\" class=\"data row7 col1\" >0.9912</td>\n",
       "      <td id=\"T_a3e0f_row7_col2\" class=\"data row7 col2\" >0.9394</td>\n",
       "      <td id=\"T_a3e0f_row7_col3\" class=\"data row7 col3\" >0.9394</td>\n",
       "      <td id=\"T_a3e0f_row7_col4\" class=\"data row7 col4\" >0.9394</td>\n",
       "      <td id=\"T_a3e0f_row7_col5\" class=\"data row7 col5\" >0.8894</td>\n",
       "      <td id=\"T_a3e0f_row7_col6\" class=\"data row7 col6\" >0.8894</td>\n",
       "    </tr>\n",
       "    <tr>\n",
       "      <th id=\"T_a3e0f_level0_row8\" class=\"row_heading level0 row8\" >8</th>\n",
       "      <td id=\"T_a3e0f_row8_col0\" class=\"data row8 col0\" >0.9635</td>\n",
       "      <td id=\"T_a3e0f_row8_col1\" class=\"data row8 col1\" >0.9932</td>\n",
       "      <td id=\"T_a3e0f_row8_col2\" class=\"data row8 col2\" >0.9727</td>\n",
       "      <td id=\"T_a3e0f_row8_col3\" class=\"data row8 col3\" >0.9554</td>\n",
       "      <td id=\"T_a3e0f_row8_col4\" class=\"data row8 col4\" >0.9640</td>\n",
       "      <td id=\"T_a3e0f_row8_col5\" class=\"data row8 col5\" >0.9269</td>\n",
       "      <td id=\"T_a3e0f_row8_col6\" class=\"data row8 col6\" >0.9271</td>\n",
       "    </tr>\n",
       "    <tr>\n",
       "      <th id=\"T_a3e0f_level0_row9\" class=\"row_heading level0 row9\" >9</th>\n",
       "      <td id=\"T_a3e0f_row9_col0\" class=\"data row9 col0\" >0.9726</td>\n",
       "      <td id=\"T_a3e0f_row9_col1\" class=\"data row9 col1\" >0.9969</td>\n",
       "      <td id=\"T_a3e0f_row9_col2\" class=\"data row9 col2\" >0.9703</td>\n",
       "      <td id=\"T_a3e0f_row9_col3\" class=\"data row9 col3\" >0.9703</td>\n",
       "      <td id=\"T_a3e0f_row9_col4\" class=\"data row9 col4\" >0.9703</td>\n",
       "      <td id=\"T_a3e0f_row9_col5\" class=\"data row9 col5\" >0.9449</td>\n",
       "      <td id=\"T_a3e0f_row9_col6\" class=\"data row9 col6\" >0.9449</td>\n",
       "    </tr>\n",
       "    <tr>\n",
       "      <th id=\"T_a3e0f_level0_row10\" class=\"row_heading level0 row10\" >Mean</th>\n",
       "      <td id=\"T_a3e0f_row10_col0\" class=\"data row10 col0\" >0.9576</td>\n",
       "      <td id=\"T_a3e0f_row10_col1\" class=\"data row10 col1\" >0.9880</td>\n",
       "      <td id=\"T_a3e0f_row10_col2\" class=\"data row10 col2\" >0.9609</td>\n",
       "      <td id=\"T_a3e0f_row10_col3\" class=\"data row10 col3\" >0.9547</td>\n",
       "      <td id=\"T_a3e0f_row10_col4\" class=\"data row10 col4\" >0.9577</td>\n",
       "      <td id=\"T_a3e0f_row10_col5\" class=\"data row10 col5\" >0.9150</td>\n",
       "      <td id=\"T_a3e0f_row10_col6\" class=\"data row10 col6\" >0.9152</td>\n",
       "    </tr>\n",
       "    <tr>\n",
       "      <th id=\"T_a3e0f_level0_row11\" class=\"row_heading level0 row11\" >Std</th>\n",
       "      <td id=\"T_a3e0f_row11_col0\" class=\"data row11 col0\" >0.0124</td>\n",
       "      <td id=\"T_a3e0f_row11_col1\" class=\"data row11 col1\" >0.0069</td>\n",
       "      <td id=\"T_a3e0f_row11_col2\" class=\"data row11 col2\" >0.0179</td>\n",
       "      <td id=\"T_a3e0f_row11_col3\" class=\"data row11 col3\" >0.0155</td>\n",
       "      <td id=\"T_a3e0f_row11_col4\" class=\"data row11 col4\" >0.0124</td>\n",
       "      <td id=\"T_a3e0f_row11_col5\" class=\"data row11 col5\" >0.0249</td>\n",
       "      <td id=\"T_a3e0f_row11_col6\" class=\"data row11 col6\" >0.0248</td>\n",
       "    </tr>\n",
       "  </tbody>\n",
       "</table>\n"
      ],
      "text/plain": [
       "<pandas.io.formats.style.Styler at 0x7f1e68360430>"
      ]
     },
     "metadata": {},
     "output_type": "display_data"
    },
    {
     "data": {
      "text/html": [],
      "text/plain": [
       "<IPython.core.display.HTML object>"
      ]
     },
     "metadata": {},
     "output_type": "display_data"
    }
   ],
   "source": [
    "best_model = create_model('et')"
   ]
  },
  {
   "cell_type": "code",
   "execution_count": 35,
   "metadata": {},
   "outputs": [
    {
     "data": {
      "text/html": [],
      "text/plain": [
       "<IPython.core.display.HTML object>"
      ]
     },
     "metadata": {},
     "output_type": "display_data"
    },
    {
     "data": {
      "text/html": [
       "<style type=\"text/css\">\n",
       "#T_bf68e_row10_col0, #T_bf68e_row10_col1, #T_bf68e_row10_col2, #T_bf68e_row10_col3, #T_bf68e_row10_col4, #T_bf68e_row10_col5, #T_bf68e_row10_col6 {\n",
       "  background: yellow;\n",
       "}\n",
       "</style>\n",
       "<table id=\"T_bf68e\">\n",
       "  <thead>\n",
       "    <tr>\n",
       "      <th class=\"blank level0\" >&nbsp;</th>\n",
       "      <th id=\"T_bf68e_level0_col0\" class=\"col_heading level0 col0\" >Accuracy</th>\n",
       "      <th id=\"T_bf68e_level0_col1\" class=\"col_heading level0 col1\" >AUC</th>\n",
       "      <th id=\"T_bf68e_level0_col2\" class=\"col_heading level0 col2\" >Recall</th>\n",
       "      <th id=\"T_bf68e_level0_col3\" class=\"col_heading level0 col3\" >Prec.</th>\n",
       "      <th id=\"T_bf68e_level0_col4\" class=\"col_heading level0 col4\" >F1</th>\n",
       "      <th id=\"T_bf68e_level0_col5\" class=\"col_heading level0 col5\" >Kappa</th>\n",
       "      <th id=\"T_bf68e_level0_col6\" class=\"col_heading level0 col6\" >MCC</th>\n",
       "    </tr>\n",
       "    <tr>\n",
       "      <th class=\"index_name level0\" >Fold</th>\n",
       "      <th class=\"blank col0\" >&nbsp;</th>\n",
       "      <th class=\"blank col1\" >&nbsp;</th>\n",
       "      <th class=\"blank col2\" >&nbsp;</th>\n",
       "      <th class=\"blank col3\" >&nbsp;</th>\n",
       "      <th class=\"blank col4\" >&nbsp;</th>\n",
       "      <th class=\"blank col5\" >&nbsp;</th>\n",
       "      <th class=\"blank col6\" >&nbsp;</th>\n",
       "    </tr>\n",
       "  </thead>\n",
       "  <tbody>\n",
       "    <tr>\n",
       "      <th id=\"T_bf68e_level0_row0\" class=\"row_heading level0 row0\" >0</th>\n",
       "      <td id=\"T_bf68e_row0_col0\" class=\"data row0 col0\" >0.8818</td>\n",
       "      <td id=\"T_bf68e_row0_col1\" class=\"data row0 col1\" >0.9448</td>\n",
       "      <td id=\"T_bf68e_row0_col2\" class=\"data row0 col2\" >0.9245</td>\n",
       "      <td id=\"T_bf68e_row0_col3\" class=\"data row0 col3\" >0.8448</td>\n",
       "      <td id=\"T_bf68e_row0_col4\" class=\"data row0 col4\" >0.8829</td>\n",
       "      <td id=\"T_bf68e_row0_col5\" class=\"data row0 col5\" >0.7641</td>\n",
       "      <td id=\"T_bf68e_row0_col6\" class=\"data row0 col6\" >0.7673</td>\n",
       "    </tr>\n",
       "    <tr>\n",
       "      <th id=\"T_bf68e_level0_row1\" class=\"row_heading level0 row1\" >1</th>\n",
       "      <td id=\"T_bf68e_row1_col0\" class=\"data row1 col0\" >0.8409</td>\n",
       "      <td id=\"T_bf68e_row1_col1\" class=\"data row1 col1\" >0.9208</td>\n",
       "      <td id=\"T_bf68e_row1_col2\" class=\"data row1 col2\" >0.8393</td>\n",
       "      <td id=\"T_bf68e_row1_col3\" class=\"data row1 col3\" >0.8468</td>\n",
       "      <td id=\"T_bf68e_row1_col4\" class=\"data row1 col4\" >0.8430</td>\n",
       "      <td id=\"T_bf68e_row1_col5\" class=\"data row1 col5\" >0.6818</td>\n",
       "      <td id=\"T_bf68e_row1_col6\" class=\"data row1 col6\" >0.6818</td>\n",
       "    </tr>\n",
       "    <tr>\n",
       "      <th id=\"T_bf68e_level0_row2\" class=\"row_heading level0 row2\" >2</th>\n",
       "      <td id=\"T_bf68e_row2_col0\" class=\"data row2 col0\" >0.8545</td>\n",
       "      <td id=\"T_bf68e_row2_col1\" class=\"data row2 col1\" >0.9374</td>\n",
       "      <td id=\"T_bf68e_row2_col2\" class=\"data row2 col2\" >0.8807</td>\n",
       "      <td id=\"T_bf68e_row2_col3\" class=\"data row2 col3\" >0.8348</td>\n",
       "      <td id=\"T_bf68e_row2_col4\" class=\"data row2 col4\" >0.8571</td>\n",
       "      <td id=\"T_bf68e_row2_col5\" class=\"data row2 col5\" >0.7092</td>\n",
       "      <td id=\"T_bf68e_row2_col6\" class=\"data row2 col6\" >0.7103</td>\n",
       "    </tr>\n",
       "    <tr>\n",
       "      <th id=\"T_bf68e_level0_row3\" class=\"row_heading level0 row3\" >3</th>\n",
       "      <td id=\"T_bf68e_row3_col0\" class=\"data row3 col0\" >0.8447</td>\n",
       "      <td id=\"T_bf68e_row3_col1\" class=\"data row3 col1\" >0.9354</td>\n",
       "      <td id=\"T_bf68e_row3_col2\" class=\"data row3 col2\" >0.7949</td>\n",
       "      <td id=\"T_bf68e_row3_col3\" class=\"data row3 col3\" >0.9029</td>\n",
       "      <td id=\"T_bf68e_row3_col4\" class=\"data row3 col4\" >0.8455</td>\n",
       "      <td id=\"T_bf68e_row3_col5\" class=\"data row3 col5\" >0.6908</td>\n",
       "      <td id=\"T_bf68e_row3_col6\" class=\"data row3 col6\" >0.6964</td>\n",
       "    </tr>\n",
       "    <tr>\n",
       "      <th id=\"T_bf68e_level0_row4\" class=\"row_heading level0 row4\" >4</th>\n",
       "      <td id=\"T_bf68e_row4_col0\" class=\"data row4 col0\" >0.8584</td>\n",
       "      <td id=\"T_bf68e_row4_col1\" class=\"data row4 col1\" >0.9227</td>\n",
       "      <td id=\"T_bf68e_row4_col2\" class=\"data row4 col2\" >0.8636</td>\n",
       "      <td id=\"T_bf68e_row4_col3\" class=\"data row4 col3\" >0.8559</td>\n",
       "      <td id=\"T_bf68e_row4_col4\" class=\"data row4 col4\" >0.8597</td>\n",
       "      <td id=\"T_bf68e_row4_col5\" class=\"data row4 col5\" >0.7169</td>\n",
       "      <td id=\"T_bf68e_row4_col6\" class=\"data row4 col6\" >0.7169</td>\n",
       "    </tr>\n",
       "    <tr>\n",
       "      <th id=\"T_bf68e_level0_row5\" class=\"row_heading level0 row5\" >5</th>\n",
       "      <td id=\"T_bf68e_row5_col0\" class=\"data row5 col0\" >0.8630</td>\n",
       "      <td id=\"T_bf68e_row5_col1\" class=\"data row5 col1\" >0.9404</td>\n",
       "      <td id=\"T_bf68e_row5_col2\" class=\"data row5 col2\" >0.8684</td>\n",
       "      <td id=\"T_bf68e_row5_col3\" class=\"data row5 col3\" >0.8684</td>\n",
       "      <td id=\"T_bf68e_row5_col4\" class=\"data row5 col4\" >0.8684</td>\n",
       "      <td id=\"T_bf68e_row5_col5\" class=\"data row5 col5\" >0.7256</td>\n",
       "      <td id=\"T_bf68e_row5_col6\" class=\"data row5 col6\" >0.7256</td>\n",
       "    </tr>\n",
       "    <tr>\n",
       "      <th id=\"T_bf68e_level0_row6\" class=\"row_heading level0 row6\" >6</th>\n",
       "      <td id=\"T_bf68e_row6_col0\" class=\"data row6 col0\" >0.8493</td>\n",
       "      <td id=\"T_bf68e_row6_col1\" class=\"data row6 col1\" >0.9112</td>\n",
       "      <td id=\"T_bf68e_row6_col2\" class=\"data row6 col2\" >0.8051</td>\n",
       "      <td id=\"T_bf68e_row6_col3\" class=\"data row6 col3\" >0.9048</td>\n",
       "      <td id=\"T_bf68e_row6_col4\" class=\"data row6 col4\" >0.8520</td>\n",
       "      <td id=\"T_bf68e_row6_col5\" class=\"data row6 col5\" >0.6996</td>\n",
       "      <td id=\"T_bf68e_row6_col6\" class=\"data row6 col6\" >0.7045</td>\n",
       "    </tr>\n",
       "    <tr>\n",
       "      <th id=\"T_bf68e_level0_row7\" class=\"row_heading level0 row7\" >7</th>\n",
       "      <td id=\"T_bf68e_row7_col0\" class=\"data row7 col0\" >0.8402</td>\n",
       "      <td id=\"T_bf68e_row7_col1\" class=\"data row7 col1\" >0.9322</td>\n",
       "      <td id=\"T_bf68e_row7_col2\" class=\"data row7 col2\" >0.8283</td>\n",
       "      <td id=\"T_bf68e_row7_col3\" class=\"data row7 col3\" >0.8200</td>\n",
       "      <td id=\"T_bf68e_row7_col4\" class=\"data row7 col4\" >0.8241</td>\n",
       "      <td id=\"T_bf68e_row7_col5\" class=\"data row7 col5\" >0.6777</td>\n",
       "      <td id=\"T_bf68e_row7_col6\" class=\"data row7 col6\" >0.6777</td>\n",
       "    </tr>\n",
       "    <tr>\n",
       "      <th id=\"T_bf68e_level0_row8\" class=\"row_heading level0 row8\" >8</th>\n",
       "      <td id=\"T_bf68e_row8_col0\" class=\"data row8 col0\" >0.8904</td>\n",
       "      <td id=\"T_bf68e_row8_col1\" class=\"data row8 col1\" >0.9518</td>\n",
       "      <td id=\"T_bf68e_row8_col2\" class=\"data row8 col2\" >0.8909</td>\n",
       "      <td id=\"T_bf68e_row8_col3\" class=\"data row8 col3\" >0.8909</td>\n",
       "      <td id=\"T_bf68e_row8_col4\" class=\"data row8 col4\" >0.8909</td>\n",
       "      <td id=\"T_bf68e_row8_col5\" class=\"data row8 col5\" >0.7808</td>\n",
       "      <td id=\"T_bf68e_row8_col6\" class=\"data row8 col6\" >0.7808</td>\n",
       "    </tr>\n",
       "    <tr>\n",
       "      <th id=\"T_bf68e_level0_row9\" class=\"row_heading level0 row9\" >9</th>\n",
       "      <td id=\"T_bf68e_row9_col0\" class=\"data row9 col0\" >0.8630</td>\n",
       "      <td id=\"T_bf68e_row9_col1\" class=\"data row9 col1\" >0.9434</td>\n",
       "      <td id=\"T_bf68e_row9_col2\" class=\"data row9 col2\" >0.8614</td>\n",
       "      <td id=\"T_bf68e_row9_col3\" class=\"data row9 col3\" >0.8447</td>\n",
       "      <td id=\"T_bf68e_row9_col4\" class=\"data row9 col4\" >0.8529</td>\n",
       "      <td id=\"T_bf68e_row9_col5\" class=\"data row9 col5\" >0.7248</td>\n",
       "      <td id=\"T_bf68e_row9_col6\" class=\"data row9 col6\" >0.7249</td>\n",
       "    </tr>\n",
       "    <tr>\n",
       "      <th id=\"T_bf68e_level0_row10\" class=\"row_heading level0 row10\" >Mean</th>\n",
       "      <td id=\"T_bf68e_row10_col0\" class=\"data row10 col0\" >0.8586</td>\n",
       "      <td id=\"T_bf68e_row10_col1\" class=\"data row10 col1\" >0.9340</td>\n",
       "      <td id=\"T_bf68e_row10_col2\" class=\"data row10 col2\" >0.8557</td>\n",
       "      <td id=\"T_bf68e_row10_col3\" class=\"data row10 col3\" >0.8614</td>\n",
       "      <td id=\"T_bf68e_row10_col4\" class=\"data row10 col4\" >0.8577</td>\n",
       "      <td id=\"T_bf68e_row10_col5\" class=\"data row10 col5\" >0.7171</td>\n",
       "      <td id=\"T_bf68e_row10_col6\" class=\"data row10 col6\" >0.7186</td>\n",
       "    </tr>\n",
       "    <tr>\n",
       "      <th id=\"T_bf68e_level0_row11\" class=\"row_heading level0 row11\" >Std</th>\n",
       "      <td id=\"T_bf68e_row11_col0\" class=\"data row11 col0\" >0.0159</td>\n",
       "      <td id=\"T_bf68e_row11_col1\" class=\"data row11 col1\" >0.0118</td>\n",
       "      <td id=\"T_bf68e_row11_col2\" class=\"data row11 col2\" >0.0376</td>\n",
       "      <td id=\"T_bf68e_row11_col3\" class=\"data row11 col3\" >0.0278</td>\n",
       "      <td id=\"T_bf68e_row11_col4\" class=\"data row11 col4\" >0.0184</td>\n",
       "      <td id=\"T_bf68e_row11_col5\" class=\"data row11 col5\" >0.0320</td>\n",
       "      <td id=\"T_bf68e_row11_col6\" class=\"data row11 col6\" >0.0318</td>\n",
       "    </tr>\n",
       "  </tbody>\n",
       "</table>\n"
      ],
      "text/plain": [
       "<pandas.io.formats.style.Styler at 0x7f1e67947be0>"
      ]
     },
     "metadata": {},
     "output_type": "display_data"
    },
    {
     "data": {
      "text/html": [],
      "text/plain": [
       "<IPython.core.display.HTML object>"
      ]
     },
     "metadata": {},
     "output_type": "display_data"
    },
    {
     "name": "stdout",
     "output_type": "stream",
     "text": [
      "Fitting 10 folds for each of 10 candidates, totalling 100 fits\n",
      "Original model was better than the tuned model, hence it will be returned. NOTE: The display metrics are for the tuned model (not the original one).\n"
     ]
    }
   ],
   "source": [
    "tuned_model = tune_model(best_model, optimize='F1')"
   ]
  },
  {
   "cell_type": "code",
   "execution_count": 36,
   "metadata": {},
   "outputs": [
    {
     "data": {
      "text/html": [],
      "text/plain": [
       "<IPython.core.display.HTML object>"
      ]
     },
     "metadata": {},
     "output_type": "display_data"
    },
    {
     "data": {
      "image/png": "[encoded data removed]",
      "text/plain": [
       "<Figure size 800x550 with 1 Axes>"
      ]
     },
     "metadata": {},
     "output_type": "display_data"
    }
   ],
   "source": [
    "plot_model(tuned_model, plot = 'auc')#, save=True)"
   ]
  },
  {
   "cell_type": "code",
   "execution_count": 37,
   "metadata": {},
   "outputs": [
    {
     "data": {
      "text/html": [],
      "text/plain": [
       "<IPython.core.display.HTML object>"
      ]
     },
     "metadata": {},
     "output_type": "display_data"
    },
    {
     "data": {
      "image/png": "[encoded data removed]",
      "text/plain": [
       "<Figure size 800x550 with 1 Axes>"
      ]
     },
     "metadata": {},
     "output_type": "display_data"
    }
   ],
   "source": [
    "plot_model(tuned_model, plot = 'pr')#save=True"
   ]
  },
  {
   "cell_type": "code",
   "execution_count": 38,
   "metadata": {},
   "outputs": [
    {
     "data": {
      "text/html": [],
      "text/plain": [
       "<IPython.core.display.HTML object>"
      ]
     },
     "metadata": {},
     "output_type": "display_data"
    },
    {
     "data": {
      "image/png": "[encoded data removed]",
      "text/plain": [
       "<Figure size 800x500 with 1 Axes>"
      ]
     },
     "metadata": {},
     "output_type": "display_data"
    }
   ],
   "source": [
    "plot = plot_model(tuned_model, plot='feature')#save=True"
   ]
  },
  {
   "cell_type": "code",
   "execution_count": 39,
   "metadata": {},
   "outputs": [
    {
     "data": {
      "text/html": [],
      "text/plain": [
       "<IPython.core.display.HTML object>"
      ]
     },
     "metadata": {},
     "output_type": "display_data"
    },
    {
     "data": {
      "image/png": "[encoded data removed]",
      "text/plain": [
       "<Figure size 800x550 with 1 Axes>"
      ]
     },
     "metadata": {},
     "output_type": "display_data"
    }
   ],
   "source": [
    "plot_model(tuned_model, plot = 'confusion_matrix')#save=True"
   ]
  },
  {
   "cell_type": "code",
   "execution_count": 40,
   "metadata": {
    "scrolled": false
   },
   "outputs": [
    {
     "data": {
      "application/vnd.jupyter.widget-view+json": {
       "model_id": "53c7bbd8a0e04471a5025b5d61765977",
       "version_major": 2,
       "version_minor": 0
      },
      "text/plain": [
       "interactive(children=(ToggleButtons(description='Plot Type:', icons=('',), options=(('Pipeline Plot', 'pipelin…"
      ]
     },
     "metadata": {},
     "output_type": "display_data"
    }
   ],
   "source": [
    "evaluate_model(tuned_model)"
   ]
  },
  {
   "cell_type": "code",
   "execution_count": 41,
   "metadata": {},
   "outputs": [],
   "source": [
    "final_model = finalize_model(tuned_model)\n",
    "#print(final_model)"
   ]
  },
  {
   "cell_type": "code",
   "execution_count": null,
   "metadata": {},
   "outputs": [],
   "source": []
  }
 ],
 "metadata": {
  "accelerator": "TPU",
  "colab": {
   "machine_shape": "hm",
   "provenance": []
  },
  "kernelspec": {
   "display_name": "Python 3 (ipykernel)",
   "language": "python",
   "name": "python3"
  },
  "language_info": {
   "codemirror_mode": {
    "name": "ipython",
    "version": 3
   },
   "file_extension": ".py",
   "mimetype": "text/x-python",
   "name": "python",
   "nbconvert_exporter": "python",
   "pygments_lexer": "ipython3",
   "version": "3.10.6"
  },
  "widgets": {
   "application/vnd.jupyter.widget-state+json": {
    "0030fbbac62e4a3080da57ad65f8566c": {
     "model_module": "@jupyter-widgets/controls",
     "model_module_version": "1.5.0",
     "model_name": "ProgressStyleModel",
     "state": {
      "_model_module": "@jupyter-widgets/controls",
      "_model_module_version": "1.5.0",
      "_model_name": "ProgressStyleModel",
      "_view_count": null,
      "_view_module": "@jupyter-widgets/base",
      "_view_module_version": "1.2.0",
      "_view_name": "StyleView",
      "bar_color": null,
      "description_width": ""
     }
    },
    "055439f636fa4f2d9091e04f9e07ef0a": {
     "model_module": "@jupyter-widgets/controls",
     "model_module_version": "1.5.0",
     "model_name": "HTMLModel",
     "state": {
      "_dom_classes": [],
      "_model_module": "@jupyter-widgets/controls",
      "_model_module_version": "1.5.0",
      "_model_name": "HTMLModel",
      "_view_count": null,
      "_view_module": "@jupyter-widgets/controls",
      "_view_module_version": "1.5.0",
      "_view_name": "HTMLView",
      "description": "",
      "description_tooltip": null,
      "layout": "IPY_MODEL_b22312c90cd9453cac241a6bea9c380e",
      "placeholder": "​",
      "style": "IPY_MODEL_95821da205e64fe78aff6fec0a52ddb6",
      "value": " 670/670 [00:00&lt;00:00, 68.7kB/s]"
     }
    },
    "08b342b1e0e545b7a8e083386444a7c7": {
     "model_module": "@jupyter-widgets/base",
     "model_module_version": "1.2.0",
     "model_name": "LayoutModel",
     "state": {
      "_model_module": "@jupyter-widgets/base",
      "_model_module_version": "1.2.0",
      "_model_name": "LayoutModel",
      "_view_count": null,
      "_view_module": "@jupyter-widgets/base",
      "_view_module_version": "1.2.0",
      "_view_name": "LayoutView",
      "align_content": null,
      "align_items": null,
      "align_self": null,
      "border": null,
      "bottom": null,
      "display": null,
      "flex": null,
      "flex_flow": null,
      "grid_area": null,
      "grid_auto_columns": null,
      "grid_auto_flow": null,
      "grid_auto_rows": null,
      "grid_column": null,
      "grid_gap": null,
      "grid_row": null,
      "grid_template_areas": null,
      "grid_template_columns": null,
      "grid_template_rows": null,
      "height": null,
      "justify_content": null,
      "justify_items": null,
      "left": null,
      "margin": null,
      "max_height": null,
      "max_width": null,
      "min_height": null,
      "min_width": null,
      "object_fit": null,
      "object_position": null,
      "order": null,
      "overflow": null,
      "overflow_x": null,
      "overflow_y": null,
      "padding": null,
      "right": null,
      "top": null,
      "visibility": null,
      "width": null
     }
    },
    "0a90dd980cc541ce87dc2d20299396e1": {
     "model_module": "@jupyter-widgets/controls",
     "model_module_version": "1.5.0",
     "model_name": "HTMLModel",
     "state": {
      "_dom_classes": [],
      "_model_module": "@jupyter-widgets/controls",
      "_model_module_version": "1.5.0",
      "_model_name": "HTMLModel",
      "_view_count": null,
      "_view_module": "@jupyter-widgets/controls",
      "_view_module_version": "1.5.0",
      "_view_name": "HTMLView",
      "description": "",
      "description_tooltip": null,
      "layout": "IPY_MODEL_398108b46cd2431e9ea398aada6584a5",
      "placeholder": "​",
      "style": "IPY_MODEL_6e0fecfc69344e0195620c8f9eaaf2a1",
      "value": "Downloading (…)cial_tokens_map.json: 100%"
     }
    },
    "0c13a41ae9834fff8463c00c24c554a6": {
     "model_module": "@jupyter-widgets/controls",
     "model_module_version": "1.5.0",
     "model_name": "HBoxModel",
     "state": {
      "_dom_classes": [],
      "_model_module": "@jupyter-widgets/controls",
      "_model_module_version": "1.5.0",
      "_model_name": "HBoxModel",
      "_view_count": null,
      "_view_module": "@jupyter-widgets/controls",
      "_view_module_version": "1.5.0",
      "_view_name": "HBoxView",
      "box_style": "",
      "children": [
       "IPY_MODEL_b960464ab32a4fc88c0be0c77afb84fa",
       "IPY_MODEL_7e6b3f44176e45f38e0852bb933b5b0e",
       "IPY_MODEL_2c5a074d84ad4358bb091ecd225c0908"
      ],
      "layout": "IPY_MODEL_c8e7591baac84fe7ab6db89d0d588cd2"
     }
    },
    "0c804d3052de49a696552861120d2851": {
     "model_module": "@jupyter-widgets/base",
     "model_module_version": "1.2.0",
     "model_name": "LayoutModel",
     "state": {
      "_model_module": "@jupyter-widgets/base",
      "_model_module_version": "1.2.0",
      "_model_name": "LayoutModel",
      "_view_count": null,
      "_view_module": "@jupyter-widgets/base",
      "_view_module_version": "1.2.0",
      "_view_name": "LayoutView",
      "align_content": null,
      "align_items": null,
      "align_self": null,
      "border": null,
      "bottom": null,
      "display": null,
      "flex": null,
      "flex_flow": null,
      "grid_area": null,
      "grid_auto_columns": null,
      "grid_auto_flow": null,
      "grid_auto_rows": null,
      "grid_column": null,
      "grid_gap": null,
      "grid_row": null,
      "grid_template_areas": null,
      "grid_template_columns": null,
      "grid_template_rows": null,
      "height": null,
      "justify_content": null,
      "justify_items": null,
      "left": null,
      "margin": null,
      "max_height": null,
      "max_width": null,
      "min_height": null,
      "min_width": null,
      "object_fit": null,
      "object_position": null,
      "order": null,
      "overflow": null,
      "overflow_x": null,
      "overflow_y": null,
      "padding": null,
      "right": null,
      "top": null,
      "visibility": null,
      "width": null
     }
    },
    "11f2f14be684474494a1f7deaca19896": {
     "model_module": "@jupyter-widgets/controls",
     "model_module_version": "1.5.0",
     "model_name": "DescriptionStyleModel",
     "state": {
      "_model_module": "@jupyter-widgets/controls",
      "_model_module_version": "1.5.0",
      "_model_name": "DescriptionStyleModel",
      "_view_count": null,
      "_view_module": "@jupyter-widgets/base",
      "_view_module_version": "1.2.0",
      "_view_name": "StyleView",
      "description_width": ""
     }
    },
    "1b8488c5d4274335ba6dc8d678b8dbbe": {
     "model_module": "@jupyter-widgets/controls",
     "model_module_version": "1.5.0",
     "model_name": "HTMLModel",
     "state": {
      "_dom_classes": [],
      "_model_module": "@jupyter-widgets/controls",
      "_model_module_version": "1.5.0",
      "_model_name": "HTMLModel",
      "_view_count": null,
      "_view_module": "@jupyter-widgets/controls",
      "_view_module_version": "1.5.0",
      "_view_name": "HTMLView",
      "description": "",
      "description_tooltip": null,
      "layout": "IPY_MODEL_378a670d67c141caabb012f02a216859",
      "placeholder": "​",
      "style": "IPY_MODEL_1f24f6262d354cc1b83bb6df761f8d95",
      "value": "Downloading (…)olve/main/vocab.json: 100%"
     }
    },
    "1be46621513b4344b14b2cba3dabbf94": {
     "model_module": "@jupyter-widgets/base",
     "model_module_version": "1.2.0",
     "model_name": "LayoutModel",
     "state": {
      "_model_module": "@jupyter-widgets/base",
      "_model_module_version": "1.2.0",
      "_model_name": "LayoutModel",
      "_view_count": null,
      "_view_module": "@jupyter-widgets/base",
      "_view_module_version": "1.2.0",
      "_view_name": "LayoutView",
      "align_content": null,
      "align_items": null,
      "align_self": null,
      "border": null,
      "bottom": null,
      "display": null,
      "flex": null,
      "flex_flow": null,
      "grid_area": null,
      "grid_auto_columns": null,
      "grid_auto_flow": null,
      "grid_auto_rows": null,
      "grid_column": null,
      "grid_gap": null,
      "grid_row": null,
      "grid_template_areas": null,
      "grid_template_columns": null,
      "grid_template_rows": null,
      "height": null,
      "justify_content": null,
      "justify_items": null,
      "left": null,
      "margin": null,
      "max_height": null,
      "max_width": null,
      "min_height": null,
      "min_width": null,
      "object_fit": null,
      "object_position": null,
      "order": null,
      "overflow": null,
      "overflow_x": null,
      "overflow_y": null,
      "padding": null,
      "right": null,
      "top": null,
      "visibility": null,
      "width": null
     }
    },
    "1f24f6262d354cc1b83bb6df761f8d95": {
     "model_module": "@jupyter-widgets/controls",
     "model_module_version": "1.5.0",
     "model_name": "DescriptionStyleModel",
     "state": {
      "_model_module": "@jupyter-widgets/controls",
      "_model_module_version": "1.5.0",
      "_model_name": "DescriptionStyleModel",
      "_view_count": null,
      "_view_module": "@jupyter-widgets/base",
      "_view_module_version": "1.2.0",
      "_view_name": "StyleView",
      "description_width": ""
     }
    },
    "20d72d8868234307a26639476fb31603": {
     "model_module": "@jupyter-widgets/controls",
     "model_module_version": "1.5.0",
     "model_name": "DescriptionStyleModel",
     "state": {
      "_model_module": "@jupyter-widgets/controls",
      "_model_module_version": "1.5.0",
      "_model_name": "DescriptionStyleModel",
      "_view_count": null,
      "_view_module": "@jupyter-widgets/base",
      "_view_module_version": "1.2.0",
      "_view_name": "StyleView",
      "description_width": ""
     }
    },
    "29299875dc95492db4198a01baca8359": {
     "model_module": "@jupyter-widgets/controls",
     "model_module_version": "1.5.0",
     "model_name": "DescriptionStyleModel",
     "state": {
      "_model_module": "@jupyter-widgets/controls",
      "_model_module_version": "1.5.0",
      "_model_name": "DescriptionStyleModel",
      "_view_count": null,
      "_view_module": "@jupyter-widgets/base",
      "_view_module_version": "1.2.0",
      "_view_name": "StyleView",
      "description_width": ""
     }
    },
    "296a55f6f4e241d8a0e100d6b7f5bf55": {
     "model_module": "@jupyter-widgets/controls",
     "model_module_version": "1.5.0",
     "model_name": "FloatProgressModel",
     "state": {
      "_dom_classes": [],
      "_model_module": "@jupyter-widgets/controls",
      "_model_module_version": "1.5.0",
      "_model_name": "FloatProgressModel",
      "_view_count": null,
      "_view_module": "@jupyter-widgets/controls",
      "_view_module_version": "1.5.0",
      "_view_name": "ProgressView",
      "bar_style": "success",
      "description": "",
      "description_tooltip": null,
      "layout": "IPY_MODEL_e5118923e52e4d27a9dc2b4b39029427",
      "max": 957,
      "min": 0,
      "orientation": "horizontal",
      "style": "IPY_MODEL_8f15ed83cf0047bbb497d43d15eab915",
      "value": 957
     }
    },
    "2b0b6cfe5ca04f838502d4fcd8e331fb": {
     "model_module": "@jupyter-widgets/base",
     "model_module_version": "1.2.0",
     "model_name": "LayoutModel",
     "state": {
      "_model_module": "@jupyter-widgets/base",
      "_model_module_version": "1.2.0",
      "_model_name": "LayoutModel",
      "_view_count": null,
      "_view_module": "@jupyter-widgets/base",
      "_view_module_version": "1.2.0",
      "_view_name": "LayoutView",
      "align_content": null,
      "align_items": null,
      "align_self": null,
      "border": null,
      "bottom": null,
      "display": null,
      "flex": null,
      "flex_flow": null,
      "grid_area": null,
      "grid_auto_columns": null,
      "grid_auto_flow": null,
      "grid_auto_rows": null,
      "grid_column": null,
      "grid_gap": null,
      "grid_row": null,
      "grid_template_areas": null,
      "grid_template_columns": null,
      "grid_template_rows": null,
      "height": null,
      "justify_content": null,
      "justify_items": null,
      "left": null,
      "margin": null,
      "max_height": null,
      "max_width": null,
      "min_height": null,
      "min_width": null,
      "object_fit": null,
      "object_position": null,
      "order": null,
      "overflow": null,
      "overflow_x": null,
      "overflow_y": null,
      "padding": null,
      "right": null,
      "top": null,
      "visibility": null,
      "width": null
     }
    },
    "2c5a074d84ad4358bb091ecd225c0908": {
     "model_module": "@jupyter-widgets/controls",
     "model_module_version": "1.5.0",
     "model_name": "HTMLModel",
     "state": {
      "_dom_classes": [],
      "_model_module": "@jupyter-widgets/controls",
      "_model_module_version": "1.5.0",
      "_model_name": "HTMLModel",
      "_view_count": null,
      "_view_module": "@jupyter-widgets/controls",
      "_view_module_version": "1.5.0",
      "_view_name": "HTMLView",
      "description": "",
      "description_tooltip": null,
      "layout": "IPY_MODEL_dd149c1ee35f46f1917f1396ceab6611",
      "placeholder": "​",
      "style": "IPY_MODEL_5a9fc59b78fb44039daa160cb30cff14",
      "value": " 198M/198M [00:00&lt;00:00, 242MB/s]"
     }
    },
    "3285c7a4726b490787b39bcf53b15766": {
     "model_module": "@jupyter-widgets/controls",
     "model_module_version": "1.5.0",
     "model_name": "HTMLModel",
     "state": {
      "_dom_classes": [],
      "_model_module": "@jupyter-widgets/controls",
      "_model_module_version": "1.5.0",
      "_model_name": "HTMLModel",
      "_view_count": null,
      "_view_module": "@jupyter-widgets/controls",
      "_view_module_version": "1.5.0",
      "_view_name": "HTMLView",
      "description": "",
      "description_tooltip": null,
      "layout": "IPY_MODEL_803e2389cf2f4e5aa05156bf5a6b2413",
      "placeholder": "​",
      "style": "IPY_MODEL_29299875dc95492db4198a01baca8359",
      "value": "Downloading (…)okenizer_config.json: 100%"
     }
    },
    "378a670d67c141caabb012f02a216859": {
     "model_module": "@jupyter-widgets/base",
     "model_module_version": "1.2.0",
     "model_name": "LayoutModel",
     "state": {
      "_model_module": "@jupyter-widgets/base",
      "_model_module_version": "1.2.0",
      "_model_name": "LayoutModel",
      "_view_count": null,
      "_view_module": "@jupyter-widgets/base",
      "_view_module_version": "1.2.0",
      "_view_name": "LayoutView",
      "align_content": null,
      "align_items": null,
      "align_self": null,
      "border": null,
      "bottom": null,
      "display": null,
      "flex": null,
      "flex_flow": null,
      "grid_area": null,
      "grid_auto_columns": null,
      "grid_auto_flow": null,
      "grid_auto_rows": null,
      "grid_column": null,
      "grid_gap": null,
      "grid_row": null,
      "grid_template_areas": null,
      "grid_template_columns": null,
      "grid_template_rows": null,
      "height": null,
      "justify_content": null,
      "justify_items": null,
      "left": null,
      "margin": null,
      "max_height": null,
      "max_width": null,
      "min_height": null,
      "min_width": null,
      "object_fit": null,
      "object_position": null,
      "order": null,
      "overflow": null,
      "overflow_x": null,
      "overflow_y": null,
      "padding": null,
      "right": null,
      "top": null,
      "visibility": null,
      "width": null
     }
    },
    "398108b46cd2431e9ea398aada6584a5": {
     "model_module": "@jupyter-widgets/base",
     "model_module_version": "1.2.0",
     "model_name": "LayoutModel",
     "state": {
      "_model_module": "@jupyter-widgets/base",
      "_model_module_version": "1.2.0",
      "_model_name": "LayoutModel",
      "_view_count": null,
      "_view_module": "@jupyter-widgets/base",
      "_view_module_version": "1.2.0",
      "_view_name": "LayoutView",
      "align_content": null,
      "align_items": null,
      "align_self": null,
      "border": null,
      "bottom": null,
      "display": null,
      "flex": null,
      "flex_flow": null,
      "grid_area": null,
      "grid_auto_columns": null,
      "grid_auto_flow": null,
      "grid_auto_rows": null,
      "grid_column": null,
      "grid_gap": null,
      "grid_row": null,
      "grid_template_areas": null,
      "grid_template_columns": null,
      "grid_template_rows": null,
      "height": null,
      "justify_content": null,
      "justify_items": null,
      "left": null,
      "margin": null,
      "max_height": null,
      "max_width": null,
      "min_height": null,
      "min_width": null,
      "object_fit": null,
      "object_position": null,
      "order": null,
      "overflow": null,
      "overflow_x": null,
      "overflow_y": null,
      "padding": null,
      "right": null,
      "top": null,
      "visibility": null,
      "width": null
     }
    },
    "3ae86bc492aa4de0bb3ef889ef56b4a5": {
     "model_module": "@jupyter-widgets/base",
     "model_module_version": "1.2.0",
     "model_name": "LayoutModel",
     "state": {
      "_model_module": "@jupyter-widgets/base",
      "_model_module_version": "1.2.0",
      "_model_name": "LayoutModel",
      "_view_count": null,
      "_view_module": "@jupyter-widgets/base",
      "_view_module_version": "1.2.0",
      "_view_name": "LayoutView",
      "align_content": null,
      "align_items": null,
      "align_self": null,
      "border": null,
      "bottom": null,
      "display": null,
      "flex": null,
      "flex_flow": null,
      "grid_area": null,
      "grid_auto_columns": null,
      "grid_auto_flow": null,
      "grid_auto_rows": null,
      "grid_column": null,
      "grid_gap": null,
      "grid_row": null,
      "grid_template_areas": null,
      "grid_template_columns": null,
      "grid_template_rows": null,
      "height": null,
      "justify_content": null,
      "justify_items": null,
      "left": null,
      "margin": null,
      "max_height": null,
      "max_width": null,
      "min_height": null,
      "min_width": null,
      "object_fit": null,
      "object_position": null,
      "order": null,
      "overflow": null,
      "overflow_x": null,
      "overflow_y": null,
      "padding": null,
      "right": null,
      "top": null,
      "visibility": null,
      "width": null
     }
    },
    "4f9db88babf043bd991d3d92dfa4d366": {
     "model_module": "@jupyter-widgets/controls",
     "model_module_version": "1.5.0",
     "model_name": "FloatProgressModel",
     "state": {
      "_dom_classes": [],
      "_model_module": "@jupyter-widgets/controls",
      "_model_module_version": "1.5.0",
      "_model_name": "FloatProgressModel",
      "_view_count": null,
      "_view_module": "@jupyter-widgets/controls",
      "_view_module_version": "1.5.0",
      "_view_name": "ProgressView",
      "bar_style": "success",
      "description": "",
      "description_tooltip": null,
      "layout": "IPY_MODEL_5de046d2fb5b400ebe204b9ce9a5a5cb",
      "max": 180391,
      "min": 0,
      "orientation": "horizontal",
      "style": "IPY_MODEL_eb989c9b96b6446fa50715999eebb858",
      "value": 180391
     }
    },
    "5a9fc59b78fb44039daa160cb30cff14": {
     "model_module": "@jupyter-widgets/controls",
     "model_module_version": "1.5.0",
     "model_name": "DescriptionStyleModel",
     "state": {
      "_model_module": "@jupyter-widgets/controls",
      "_model_module_version": "1.5.0",
      "_model_name": "DescriptionStyleModel",
      "_view_count": null,
      "_view_module": "@jupyter-widgets/base",
      "_view_module_version": "1.2.0",
      "_view_name": "StyleView",
      "description_width": ""
     }
    },
    "5de046d2fb5b400ebe204b9ce9a5a5cb": {
     "model_module": "@jupyter-widgets/base",
     "model_module_version": "1.2.0",
     "model_name": "LayoutModel",
     "state": {
      "_model_module": "@jupyter-widgets/base",
      "_model_module_version": "1.2.0",
      "_model_name": "LayoutModel",
      "_view_count": null,
      "_view_module": "@jupyter-widgets/base",
      "_view_module_version": "1.2.0",
      "_view_name": "LayoutView",
      "align_content": null,
      "align_items": null,
      "align_self": null,
      "border": null,
      "bottom": null,
      "display": null,
      "flex": null,
      "flex_flow": null,
      "grid_area": null,
      "grid_auto_columns": null,
      "grid_auto_flow": null,
      "grid_auto_rows": null,
      "grid_column": null,
      "grid_gap": null,
      "grid_row": null,
      "grid_template_areas": null,
      "grid_template_columns": null,
      "grid_template_rows": null,
      "height": null,
      "justify_content": null,
      "justify_items": null,
      "left": null,
      "margin": null,
      "max_height": null,
      "max_width": null,
      "min_height": null,
      "min_width": null,
      "object_fit": null,
      "object_position": null,
      "order": null,
      "overflow": null,
      "overflow_x": null,
      "overflow_y": null,
      "padding": null,
      "right": null,
      "top": null,
      "visibility": null,
      "width": null
     }
    },
    "6e0fecfc69344e0195620c8f9eaaf2a1": {
     "model_module": "@jupyter-widgets/controls",
     "model_module_version": "1.5.0",
     "model_name": "DescriptionStyleModel",
     "state": {
      "_model_module": "@jupyter-widgets/controls",
      "_model_module_version": "1.5.0",
      "_model_name": "DescriptionStyleModel",
      "_view_count": null,
      "_view_module": "@jupyter-widgets/base",
      "_view_module_version": "1.2.0",
      "_view_name": "StyleView",
      "description_width": ""
     }
    },
    "7226fbcb04cf4601b45cbc2a3605c22d": {
     "model_module": "@jupyter-widgets/base",
     "model_module_version": "1.2.0",
     "model_name": "LayoutModel",
     "state": {
      "_model_module": "@jupyter-widgets/base",
      "_model_module_version": "1.2.0",
      "_model_name": "LayoutModel",
      "_view_count": null,
      "_view_module": "@jupyter-widgets/base",
      "_view_module_version": "1.2.0",
      "_view_name": "LayoutView",
      "align_content": null,
      "align_items": null,
      "align_self": null,
      "border": null,
      "bottom": null,
      "display": null,
      "flex": null,
      "flex_flow": null,
      "grid_area": null,
      "grid_auto_columns": null,
      "grid_auto_flow": null,
      "grid_auto_rows": null,
      "grid_column": null,
      "grid_gap": null,
      "grid_row": null,
      "grid_template_areas": null,
      "grid_template_columns": null,
      "grid_template_rows": null,
      "height": null,
      "justify_content": null,
      "justify_items": null,
      "left": null,
      "margin": null,
      "max_height": null,
      "max_width": null,
      "min_height": null,
      "min_width": null,
      "object_fit": null,
      "object_position": null,
      "order": null,
      "overflow": null,
      "overflow_x": null,
      "overflow_y": null,
      "padding": null,
      "right": null,
      "top": null,
      "visibility": null,
      "width": null
     }
    },
    "723e1ebf82bb43dd9ad9e18d06ca92f7": {
     "model_module": "@jupyter-widgets/controls",
     "model_module_version": "1.5.0",
     "model_name": "HTMLModel",
     "state": {
      "_dom_classes": [],
      "_model_module": "@jupyter-widgets/controls",
      "_model_module_version": "1.5.0",
      "_model_name": "HTMLModel",
      "_view_count": null,
      "_view_module": "@jupyter-widgets/controls",
      "_view_module_version": "1.5.0",
      "_view_name": "HTMLView",
      "description": "",
      "description_tooltip": null,
      "layout": "IPY_MODEL_3ae86bc492aa4de0bb3ef889ef56b4a5",
      "placeholder": "​",
      "style": "IPY_MODEL_8840e99459714602a8e58bec183a7a56",
      "value": "Downloading (…)lve/main/config.json: 100%"
     }
    },
    "7355f3cf1bdb414c9e80ef2effa419cd": {
     "model_module": "@jupyter-widgets/controls",
     "model_module_version": "1.5.0",
     "model_name": "ProgressStyleModel",
     "state": {
      "_model_module": "@jupyter-widgets/controls",
      "_model_module_version": "1.5.0",
      "_model_name": "ProgressStyleModel",
      "_view_count": null,
      "_view_module": "@jupyter-widgets/base",
      "_view_module_version": "1.2.0",
      "_view_name": "StyleView",
      "bar_color": null,
      "description_width": ""
     }
    },
    "78004500f3db4816b52abe38e06026a9": {
     "model_module": "@jupyter-widgets/base",
     "model_module_version": "1.2.0",
     "model_name": "LayoutModel",
     "state": {
      "_model_module": "@jupyter-widgets/base",
      "_model_module_version": "1.2.0",
      "_model_name": "LayoutModel",
      "_view_count": null,
      "_view_module": "@jupyter-widgets/base",
      "_view_module_version": "1.2.0",
      "_view_name": "LayoutView",
      "align_content": null,
      "align_items": null,
      "align_self": null,
      "border": null,
      "bottom": null,
      "display": null,
      "flex": null,
      "flex_flow": null,
      "grid_area": null,
      "grid_auto_columns": null,
      "grid_auto_flow": null,
      "grid_auto_rows": null,
      "grid_column": null,
      "grid_gap": null,
      "grid_row": null,
      "grid_template_areas": null,
      "grid_template_columns": null,
      "grid_template_rows": null,
      "height": null,
      "justify_content": null,
      "justify_items": null,
      "left": null,
      "margin": null,
      "max_height": null,
      "max_width": null,
      "min_height": null,
      "min_width": null,
      "object_fit": null,
      "object_position": null,
      "order": null,
      "overflow": null,
      "overflow_x": null,
      "overflow_y": null,
      "padding": null,
      "right": null,
      "top": null,
      "visibility": null,
      "width": null
     }
    },
    "7e6b3f44176e45f38e0852bb933b5b0e": {
     "model_module": "@jupyter-widgets/controls",
     "model_module_version": "1.5.0",
     "model_name": "FloatProgressModel",
     "state": {
      "_dom_classes": [],
      "_model_module": "@jupyter-widgets/controls",
      "_model_module_version": "1.5.0",
      "_model_name": "FloatProgressModel",
      "_view_count": null,
      "_view_module": "@jupyter-widgets/controls",
      "_view_module_version": "1.5.0",
      "_view_name": "ProgressView",
      "bar_style": "success",
      "description": "",
      "description_tooltip": null,
      "layout": "IPY_MODEL_1be46621513b4344b14b2cba3dabbf94",
      "max": 198472697,
      "min": 0,
      "orientation": "horizontal",
      "style": "IPY_MODEL_e16e440c9cb54ab7899b687205aeaeda",
      "value": 198472697
     }
    },
    "803e2389cf2f4e5aa05156bf5a6b2413": {
     "model_module": "@jupyter-widgets/base",
     "model_module_version": "1.2.0",
     "model_name": "LayoutModel",
     "state": {
      "_model_module": "@jupyter-widgets/base",
      "_model_module_version": "1.2.0",
      "_model_name": "LayoutModel",
      "_view_count": null,
      "_view_module": "@jupyter-widgets/base",
      "_view_module_version": "1.2.0",
      "_view_name": "LayoutView",
      "align_content": null,
      "align_items": null,
      "align_self": null,
      "border": null,
      "bottom": null,
      "display": null,
      "flex": null,
      "flex_flow": null,
      "grid_area": null,
      "grid_auto_columns": null,
      "grid_auto_flow": null,
      "grid_auto_rows": null,
      "grid_column": null,
      "grid_gap": null,
      "grid_row": null,
      "grid_template_areas": null,
      "grid_template_columns": null,
      "grid_template_rows": null,
      "height": null,
      "justify_content": null,
      "justify_items": null,
      "left": null,
      "margin": null,
      "max_height": null,
      "max_width": null,
      "min_height": null,
      "min_width": null,
      "object_fit": null,
      "object_position": null,
      "order": null,
      "overflow": null,
      "overflow_x": null,
      "overflow_y": null,
      "padding": null,
      "right": null,
      "top": null,
      "visibility": null,
      "width": null
     }
    },
    "8636d895acac45d5a7fa2d6dc9d0b1c1": {
     "model_module": "@jupyter-widgets/controls",
     "model_module_version": "1.5.0",
     "model_name": "HBoxModel",
     "state": {
      "_dom_classes": [],
      "_model_module": "@jupyter-widgets/controls",
      "_model_module_version": "1.5.0",
      "_model_name": "HBoxModel",
      "_view_count": null,
      "_view_module": "@jupyter-widgets/controls",
      "_view_module_version": "1.5.0",
      "_view_name": "HBoxView",
      "box_style": "",
      "children": [
       "IPY_MODEL_0a90dd980cc541ce87dc2d20299396e1",
       "IPY_MODEL_296a55f6f4e241d8a0e100d6b7f5bf55",
       "IPY_MODEL_a3d5cbc31b6f429a976251a8e00b4c54"
      ],
      "layout": "IPY_MODEL_cd1a613970554a10bfafb67f160a2f3f"
     }
    },
    "865b9754e4a440d8931b6a9e7abdd048": {
     "model_module": "@jupyter-widgets/controls",
     "model_module_version": "1.5.0",
     "model_name": "FloatProgressModel",
     "state": {
      "_dom_classes": [],
      "_model_module": "@jupyter-widgets/controls",
      "_model_module_version": "1.5.0",
      "_model_name": "FloatProgressModel",
      "_view_count": null,
      "_view_module": "@jupyter-widgets/controls",
      "_view_module_version": "1.5.0",
      "_view_name": "ProgressView",
      "bar_style": "success",
      "description": "",
      "description_tooltip": null,
      "layout": "IPY_MODEL_78004500f3db4816b52abe38e06026a9",
      "max": 101307,
      "min": 0,
      "orientation": "horizontal",
      "style": "IPY_MODEL_0030fbbac62e4a3080da57ad65f8566c",
      "value": 101307
     }
    },
    "8840e99459714602a8e58bec183a7a56": {
     "model_module": "@jupyter-widgets/controls",
     "model_module_version": "1.5.0",
     "model_name": "DescriptionStyleModel",
     "state": {
      "_model_module": "@jupyter-widgets/controls",
      "_model_module_version": "1.5.0",
      "_model_name": "DescriptionStyleModel",
      "_view_count": null,
      "_view_module": "@jupyter-widgets/base",
      "_view_module_version": "1.2.0",
      "_view_name": "StyleView",
      "description_width": ""
     }
    },
    "8f15ed83cf0047bbb497d43d15eab915": {
     "model_module": "@jupyter-widgets/controls",
     "model_module_version": "1.5.0",
     "model_name": "ProgressStyleModel",
     "state": {
      "_model_module": "@jupyter-widgets/controls",
      "_model_module_version": "1.5.0",
      "_model_name": "ProgressStyleModel",
      "_view_count": null,
      "_view_module": "@jupyter-widgets/base",
      "_view_module_version": "1.2.0",
      "_view_name": "StyleView",
      "bar_color": null,
      "description_width": ""
     }
    },
    "922f06228cc24a81b7ea7ac76421df83": {
     "model_module": "@jupyter-widgets/controls",
     "model_module_version": "1.5.0",
     "model_name": "DescriptionStyleModel",
     "state": {
      "_model_module": "@jupyter-widgets/controls",
      "_model_module_version": "1.5.0",
      "_model_name": "DescriptionStyleModel",
      "_view_count": null,
      "_view_module": "@jupyter-widgets/base",
      "_view_module_version": "1.2.0",
      "_view_name": "StyleView",
      "description_width": ""
     }
    },
    "95821da205e64fe78aff6fec0a52ddb6": {
     "model_module": "@jupyter-widgets/controls",
     "model_module_version": "1.5.0",
     "model_name": "DescriptionStyleModel",
     "state": {
      "_model_module": "@jupyter-widgets/controls",
      "_model_module_version": "1.5.0",
      "_model_name": "DescriptionStyleModel",
      "_view_count": null,
      "_view_module": "@jupyter-widgets/base",
      "_view_module_version": "1.2.0",
      "_view_name": "StyleView",
      "description_width": ""
     }
    },
    "9f4ed1fe109b4bacbca5cf589bea2b81": {
     "model_module": "@jupyter-widgets/base",
     "model_module_version": "1.2.0",
     "model_name": "LayoutModel",
     "state": {
      "_model_module": "@jupyter-widgets/base",
      "_model_module_version": "1.2.0",
      "_model_name": "LayoutModel",
      "_view_count": null,
      "_view_module": "@jupyter-widgets/base",
      "_view_module_version": "1.2.0",
      "_view_name": "LayoutView",
      "align_content": null,
      "align_items": null,
      "align_self": null,
      "border": null,
      "bottom": null,
      "display": null,
      "flex": null,
      "flex_flow": null,
      "grid_area": null,
      "grid_auto_columns": null,
      "grid_auto_flow": null,
      "grid_auto_rows": null,
      "grid_column": null,
      "grid_gap": null,
      "grid_row": null,
      "grid_template_areas": null,
      "grid_template_columns": null,
      "grid_template_rows": null,
      "height": null,
      "justify_content": null,
      "justify_items": null,
      "left": null,
      "margin": null,
      "max_height": null,
      "max_width": null,
      "min_height": null,
      "min_width": null,
      "object_fit": null,
      "object_position": null,
      "order": null,
      "overflow": null,
      "overflow_x": null,
      "overflow_y": null,
      "padding": null,
      "right": null,
      "top": null,
      "visibility": null,
      "width": null
     }
    },
    "a05ffb185a9c47bcb0a3047333067b0d": {
     "model_module": "@jupyter-widgets/base",
     "model_module_version": "1.2.0",
     "model_name": "LayoutModel",
     "state": {
      "_model_module": "@jupyter-widgets/base",
      "_model_module_version": "1.2.0",
      "_model_name": "LayoutModel",
      "_view_count": null,
      "_view_module": "@jupyter-widgets/base",
      "_view_module_version": "1.2.0",
      "_view_name": "LayoutView",
      "align_content": null,
      "align_items": null,
      "align_self": null,
      "border": null,
      "bottom": null,
      "display": null,
      "flex": null,
      "flex_flow": null,
      "grid_area": null,
      "grid_auto_columns": null,
      "grid_auto_flow": null,
      "grid_auto_rows": null,
      "grid_column": null,
      "grid_gap": null,
      "grid_row": null,
      "grid_template_areas": null,
      "grid_template_columns": null,
      "grid_template_rows": null,
      "height": null,
      "justify_content": null,
      "justify_items": null,
      "left": null,
      "margin": null,
      "max_height": null,
      "max_width": null,
      "min_height": null,
      "min_width": null,
      "object_fit": null,
      "object_position": null,
      "order": null,
      "overflow": null,
      "overflow_x": null,
      "overflow_y": null,
      "padding": null,
      "right": null,
      "top": null,
      "visibility": null,
      "width": null
     }
    },
    "a10748f379b64b0cb59a5742c8e9639d": {
     "model_module": "@jupyter-widgets/base",
     "model_module_version": "1.2.0",
     "model_name": "LayoutModel",
     "state": {
      "_model_module": "@jupyter-widgets/base",
      "_model_module_version": "1.2.0",
      "_model_name": "LayoutModel",
      "_view_count": null,
      "_view_module": "@jupyter-widgets/base",
      "_view_module_version": "1.2.0",
      "_view_name": "LayoutView",
      "align_content": null,
      "align_items": null,
      "align_self": null,
      "border": null,
      "bottom": null,
      "display": null,
      "flex": null,
      "flex_flow": null,
      "grid_area": null,
      "grid_auto_columns": null,
      "grid_auto_flow": null,
      "grid_auto_rows": null,
      "grid_column": null,
      "grid_gap": null,
      "grid_row": null,
      "grid_template_areas": null,
      "grid_template_columns": null,
      "grid_template_rows": null,
      "height": null,
      "justify_content": null,
      "justify_items": null,
      "left": null,
      "margin": null,
      "max_height": null,
      "max_width": null,
      "min_height": null,
      "min_width": null,
      "object_fit": null,
      "object_position": null,
      "order": null,
      "overflow": null,
      "overflow_x": null,
      "overflow_y": null,
      "padding": null,
      "right": null,
      "top": null,
      "visibility": null,
      "width": null
     }
    },
    "a3d5cbc31b6f429a976251a8e00b4c54": {
     "model_module": "@jupyter-widgets/controls",
     "model_module_version": "1.5.0",
     "model_name": "HTMLModel",
     "state": {
      "_dom_classes": [],
      "_model_module": "@jupyter-widgets/controls",
      "_model_module_version": "1.5.0",
      "_model_name": "HTMLModel",
      "_view_count": null,
      "_view_module": "@jupyter-widgets/controls",
      "_view_module_version": "1.5.0",
      "_view_name": "HTMLView",
      "description": "",
      "description_tooltip": null,
      "layout": "IPY_MODEL_9f4ed1fe109b4bacbca5cf589bea2b81",
      "placeholder": "​",
      "style": "IPY_MODEL_ef9a82e86658488c811f02d6c65bdd51",
      "value": " 957/957 [00:00&lt;00:00, 98.1kB/s]"
     }
    },
    "a4286e79402141b983fb9c55c4336956": {
     "model_module": "@jupyter-widgets/controls",
     "model_module_version": "1.5.0",
     "model_name": "HBoxModel",
     "state": {
      "_dom_classes": [],
      "_model_module": "@jupyter-widgets/controls",
      "_model_module_version": "1.5.0",
      "_model_name": "HBoxModel",
      "_view_count": null,
      "_view_module": "@jupyter-widgets/controls",
      "_view_module_version": "1.5.0",
      "_view_name": "HBoxView",
      "box_style": "",
      "children": [
       "IPY_MODEL_3285c7a4726b490787b39bcf53b15766",
       "IPY_MODEL_df889bf082b049caa096edb0989545a7",
       "IPY_MODEL_d149ea70322345d4a3a3067c35f7194e"
      ],
      "layout": "IPY_MODEL_08b342b1e0e545b7a8e083386444a7c7"
     }
    },
    "a8240eecebd840c9b2b651cd17844943": {
     "model_module": "@jupyter-widgets/controls",
     "model_module_version": "1.5.0",
     "model_name": "HBoxModel",
     "state": {
      "_dom_classes": [],
      "_model_module": "@jupyter-widgets/controls",
      "_model_module_version": "1.5.0",
      "_model_name": "HBoxModel",
      "_view_count": null,
      "_view_module": "@jupyter-widgets/controls",
      "_view_module_version": "1.5.0",
      "_view_name": "HBoxView",
      "box_style": "",
      "children": [
       "IPY_MODEL_af6ba051204e4ebfbf76e6a12053cea9",
       "IPY_MODEL_865b9754e4a440d8931b6a9e7abdd048",
       "IPY_MODEL_fc291518f6a749cc8c30d4288cfd5062"
      ],
      "layout": "IPY_MODEL_b8bd021b032344e4a7e9b51b51c608dc"
     }
    },
    "af6ba051204e4ebfbf76e6a12053cea9": {
     "model_module": "@jupyter-widgets/controls",
     "model_module_version": "1.5.0",
     "model_name": "HTMLModel",
     "state": {
      "_dom_classes": [],
      "_model_module": "@jupyter-widgets/controls",
      "_model_module_version": "1.5.0",
      "_model_name": "HTMLModel",
      "_view_count": null,
      "_view_module": "@jupyter-widgets/controls",
      "_view_module_version": "1.5.0",
      "_view_name": "HTMLView",
      "description": "",
      "description_tooltip": null,
      "layout": "IPY_MODEL_bad7c7792c15448abaa7d392542a769a",
      "placeholder": "​",
      "style": "IPY_MODEL_e4c0b91472cf469ea74e89ee2d5e7298",
      "value": "Downloading (…)olve/main/merges.txt: 100%"
     }
    },
    "b22312c90cd9453cac241a6bea9c380e": {
     "model_module": "@jupyter-widgets/base",
     "model_module_version": "1.2.0",
     "model_name": "LayoutModel",
     "state": {
      "_model_module": "@jupyter-widgets/base",
      "_model_module_version": "1.2.0",
      "_model_name": "LayoutModel",
      "_view_count": null,
      "_view_module": "@jupyter-widgets/base",
      "_view_module_version": "1.2.0",
      "_view_name": "LayoutView",
      "align_content": null,
      "align_items": null,
      "align_self": null,
      "border": null,
      "bottom": null,
      "display": null,
      "flex": null,
      "flex_flow": null,
      "grid_area": null,
      "grid_auto_columns": null,
      "grid_auto_flow": null,
      "grid_auto_rows": null,
      "grid_column": null,
      "grid_gap": null,
      "grid_row": null,
      "grid_template_areas": null,
      "grid_template_columns": null,
      "grid_template_rows": null,
      "height": null,
      "justify_content": null,
      "justify_items": null,
      "left": null,
      "margin": null,
      "max_height": null,
      "max_width": null,
      "min_height": null,
      "min_width": null,
      "object_fit": null,
      "object_position": null,
      "order": null,
      "overflow": null,
      "overflow_x": null,
      "overflow_y": null,
      "padding": null,
      "right": null,
      "top": null,
      "visibility": null,
      "width": null
     }
    },
    "b6ce5c46c5e542f8a3f521a4f600b425": {
     "model_module": "@jupyter-widgets/controls",
     "model_module_version": "1.5.0",
     "model_name": "HBoxModel",
     "state": {
      "_dom_classes": [],
      "_model_module": "@jupyter-widgets/controls",
      "_model_module_version": "1.5.0",
      "_model_name": "HBoxModel",
      "_view_count": null,
      "_view_module": "@jupyter-widgets/controls",
      "_view_module_version": "1.5.0",
      "_view_name": "HBoxView",
      "box_style": "",
      "children": [
       "IPY_MODEL_1b8488c5d4274335ba6dc8d678b8dbbe",
       "IPY_MODEL_4f9db88babf043bd991d3d92dfa4d366",
       "IPY_MODEL_f98257c88e0b4f52a80971aca76294fb"
      ],
      "layout": "IPY_MODEL_a10748f379b64b0cb59a5742c8e9639d"
     }
    },
    "b8bd021b032344e4a7e9b51b51c608dc": {
     "model_module": "@jupyter-widgets/base",
     "model_module_version": "1.2.0",
     "model_name": "LayoutModel",
     "state": {
      "_model_module": "@jupyter-widgets/base",
      "_model_module_version": "1.2.0",
      "_model_name": "LayoutModel",
      "_view_count": null,
      "_view_module": "@jupyter-widgets/base",
      "_view_module_version": "1.2.0",
      "_view_name": "LayoutView",
      "align_content": null,
      "align_items": null,
      "align_self": null,
      "border": null,
      "bottom": null,
      "display": null,
      "flex": null,
      "flex_flow": null,
      "grid_area": null,
      "grid_auto_columns": null,
      "grid_auto_flow": null,
      "grid_auto_rows": null,
      "grid_column": null,
      "grid_gap": null,
      "grid_row": null,
      "grid_template_areas": null,
      "grid_template_columns": null,
      "grid_template_rows": null,
      "height": null,
      "justify_content": null,
      "justify_items": null,
      "left": null,
      "margin": null,
      "max_height": null,
      "max_width": null,
      "min_height": null,
      "min_width": null,
      "object_fit": null,
      "object_position": null,
      "order": null,
      "overflow": null,
      "overflow_x": null,
      "overflow_y": null,
      "padding": null,
      "right": null,
      "top": null,
      "visibility": null,
      "width": null
     }
    },
    "b960464ab32a4fc88c0be0c77afb84fa": {
     "model_module": "@jupyter-widgets/controls",
     "model_module_version": "1.5.0",
     "model_name": "HTMLModel",
     "state": {
      "_dom_classes": [],
      "_model_module": "@jupyter-widgets/controls",
      "_model_module_version": "1.5.0",
      "_model_name": "HTMLModel",
      "_view_count": null,
      "_view_module": "@jupyter-widgets/controls",
      "_view_module_version": "1.5.0",
      "_view_name": "HTMLView",
      "description": "",
      "description_tooltip": null,
      "layout": "IPY_MODEL_f702029535584b468759a44c4b67a4a0",
      "placeholder": "​",
      "style": "IPY_MODEL_922f06228cc24a81b7ea7ac76421df83",
      "value": "Downloading pytorch_model.bin: 100%"
     }
    },
    "bad7c7792c15448abaa7d392542a769a": {
     "model_module": "@jupyter-widgets/base",
     "model_module_version": "1.2.0",
     "model_name": "LayoutModel",
     "state": {
      "_model_module": "@jupyter-widgets/base",
      "_model_module_version": "1.2.0",
      "_model_name": "LayoutModel",
      "_view_count": null,
      "_view_module": "@jupyter-widgets/base",
      "_view_module_version": "1.2.0",
      "_view_name": "LayoutView",
      "align_content": null,
      "align_items": null,
      "align_self": null,
      "border": null,
      "bottom": null,
      "display": null,
      "flex": null,
      "flex_flow": null,
      "grid_area": null,
      "grid_auto_columns": null,
      "grid_auto_flow": null,
      "grid_auto_rows": null,
      "grid_column": null,
      "grid_gap": null,
      "grid_row": null,
      "grid_template_areas": null,
      "grid_template_columns": null,
      "grid_template_rows": null,
      "height": null,
      "justify_content": null,
      "justify_items": null,
      "left": null,
      "margin": null,
      "max_height": null,
      "max_width": null,
      "min_height": null,
      "min_width": null,
      "object_fit": null,
      "object_position": null,
      "order": null,
      "overflow": null,
      "overflow_x": null,
      "overflow_y": null,
      "padding": null,
      "right": null,
      "top": null,
      "visibility": null,
      "width": null
     }
    },
    "bec62f817d96476b92b363676ef709af": {
     "model_module": "@jupyter-widgets/controls",
     "model_module_version": "1.5.0",
     "model_name": "DescriptionStyleModel",
     "state": {
      "_model_module": "@jupyter-widgets/controls",
      "_model_module_version": "1.5.0",
      "_model_name": "DescriptionStyleModel",
      "_view_count": null,
      "_view_module": "@jupyter-widgets/base",
      "_view_module_version": "1.2.0",
      "_view_name": "StyleView",
      "description_width": ""
     }
    },
    "c8e7591baac84fe7ab6db89d0d588cd2": {
     "model_module": "@jupyter-widgets/base",
     "model_module_version": "1.2.0",
     "model_name": "LayoutModel",
     "state": {
      "_model_module": "@jupyter-widgets/base",
      "_model_module_version": "1.2.0",
      "_model_name": "LayoutModel",
      "_view_count": null,
      "_view_module": "@jupyter-widgets/base",
      "_view_module_version": "1.2.0",
      "_view_name": "LayoutView",
      "align_content": null,
      "align_items": null,
      "align_self": null,
      "border": null,
      "bottom": null,
      "display": null,
      "flex": null,
      "flex_flow": null,
      "grid_area": null,
      "grid_auto_columns": null,
      "grid_auto_flow": null,
      "grid_auto_rows": null,
      "grid_column": null,
      "grid_gap": null,
      "grid_row": null,
      "grid_template_areas": null,
      "grid_template_columns": null,
      "grid_template_rows": null,
      "height": null,
      "justify_content": null,
      "justify_items": null,
      "left": null,
      "margin": null,
      "max_height": null,
      "max_width": null,
      "min_height": null,
      "min_width": null,
      "object_fit": null,
      "object_position": null,
      "order": null,
      "overflow": null,
      "overflow_x": null,
      "overflow_y": null,
      "padding": null,
      "right": null,
      "top": null,
      "visibility": null,
      "width": null
     }
    },
    "cd1a613970554a10bfafb67f160a2f3f": {
     "model_module": "@jupyter-widgets/base",
     "model_module_version": "1.2.0",
     "model_name": "LayoutModel",
     "state": {
      "_model_module": "@jupyter-widgets/base",
      "_model_module_version": "1.2.0",
      "_model_name": "LayoutModel",
      "_view_count": null,
      "_view_module": "@jupyter-widgets/base",
      "_view_module_version": "1.2.0",
      "_view_name": "LayoutView",
      "align_content": null,
      "align_items": null,
      "align_self": null,
      "border": null,
      "bottom": null,
      "display": null,
      "flex": null,
      "flex_flow": null,
      "grid_area": null,
      "grid_auto_columns": null,
      "grid_auto_flow": null,
      "grid_auto_rows": null,
      "grid_column": null,
      "grid_gap": null,
      "grid_row": null,
      "grid_template_areas": null,
      "grid_template_columns": null,
      "grid_template_rows": null,
      "height": null,
      "justify_content": null,
      "justify_items": null,
      "left": null,
      "margin": null,
      "max_height": null,
      "max_width": null,
      "min_height": null,
      "min_width": null,
      "object_fit": null,
      "object_position": null,
      "order": null,
      "overflow": null,
      "overflow_x": null,
      "overflow_y": null,
      "padding": null,
      "right": null,
      "top": null,
      "visibility": null,
      "width": null
     }
    },
    "d149ea70322345d4a3a3067c35f7194e": {
     "model_module": "@jupyter-widgets/controls",
     "model_module_version": "1.5.0",
     "model_name": "HTMLModel",
     "state": {
      "_dom_classes": [],
      "_model_module": "@jupyter-widgets/controls",
      "_model_module_version": "1.5.0",
      "_model_name": "HTMLModel",
      "_view_count": null,
      "_view_module": "@jupyter-widgets/controls",
      "_view_module_version": "1.5.0",
      "_view_name": "HTMLView",
      "description": "",
      "description_tooltip": null,
      "layout": "IPY_MODEL_f4bb91379a424523b284a56abf6ef442",
      "placeholder": "​",
      "style": "IPY_MODEL_bec62f817d96476b92b363676ef709af",
      "value": " 1.42k/1.42k [00:00&lt;00:00, 134kB/s]"
     }
    },
    "da97092b31314d2fa95ef84203541dc7": {
     "model_module": "@jupyter-widgets/controls",
     "model_module_version": "1.5.0",
     "model_name": "HBoxModel",
     "state": {
      "_dom_classes": [],
      "_model_module": "@jupyter-widgets/controls",
      "_model_module_version": "1.5.0",
      "_model_name": "HBoxModel",
      "_view_count": null,
      "_view_module": "@jupyter-widgets/controls",
      "_view_module_version": "1.5.0",
      "_view_name": "HBoxView",
      "box_style": "",
      "children": [
       "IPY_MODEL_723e1ebf82bb43dd9ad9e18d06ca92f7",
       "IPY_MODEL_ec2fd67b130f426fa4d28b93ab3966d2",
       "IPY_MODEL_055439f636fa4f2d9091e04f9e07ef0a"
      ],
      "layout": "IPY_MODEL_7226fbcb04cf4601b45cbc2a3605c22d"
     }
    },
    "dc790c3698304027a03bf55d91c17842": {
     "model_module": "@jupyter-widgets/controls",
     "model_module_version": "1.5.0",
     "model_name": "ProgressStyleModel",
     "state": {
      "_model_module": "@jupyter-widgets/controls",
      "_model_module_version": "1.5.0",
      "_model_name": "ProgressStyleModel",
      "_view_count": null,
      "_view_module": "@jupyter-widgets/base",
      "_view_module_version": "1.2.0",
      "_view_name": "StyleView",
      "bar_color": null,
      "description_width": ""
     }
    },
    "dd149c1ee35f46f1917f1396ceab6611": {
     "model_module": "@jupyter-widgets/base",
     "model_module_version": "1.2.0",
     "model_name": "LayoutModel",
     "state": {
      "_model_module": "@jupyter-widgets/base",
      "_model_module_version": "1.2.0",
      "_model_name": "LayoutModel",
      "_view_count": null,
      "_view_module": "@jupyter-widgets/base",
      "_view_module_version": "1.2.0",
      "_view_name": "LayoutView",
      "align_content": null,
      "align_items": null,
      "align_self": null,
      "border": null,
      "bottom": null,
      "display": null,
      "flex": null,
      "flex_flow": null,
      "grid_area": null,
      "grid_auto_columns": null,
      "grid_auto_flow": null,
      "grid_auto_rows": null,
      "grid_column": null,
      "grid_gap": null,
      "grid_row": null,
      "grid_template_areas": null,
      "grid_template_columns": null,
      "grid_template_rows": null,
      "height": null,
      "justify_content": null,
      "justify_items": null,
      "left": null,
      "margin": null,
      "max_height": null,
      "max_width": null,
      "min_height": null,
      "min_width": null,
      "object_fit": null,
      "object_position": null,
      "order": null,
      "overflow": null,
      "overflow_x": null,
      "overflow_y": null,
      "padding": null,
      "right": null,
      "top": null,
      "visibility": null,
      "width": null
     }
    },
    "df889bf082b049caa096edb0989545a7": {
     "model_module": "@jupyter-widgets/controls",
     "model_module_version": "1.5.0",
     "model_name": "FloatProgressModel",
     "state": {
      "_dom_classes": [],
      "_model_module": "@jupyter-widgets/controls",
      "_model_module_version": "1.5.0",
      "_model_name": "FloatProgressModel",
      "_view_count": null,
      "_view_module": "@jupyter-widgets/controls",
      "_view_module_version": "1.5.0",
      "_view_name": "ProgressView",
      "bar_style": "success",
      "description": "",
      "description_tooltip": null,
      "layout": "IPY_MODEL_a05ffb185a9c47bcb0a3047333067b0d",
      "max": 1423,
      "min": 0,
      "orientation": "horizontal",
      "style": "IPY_MODEL_7355f3cf1bdb414c9e80ef2effa419cd",
      "value": 1423
     }
    },
    "e0bb225e25394924bf7a6948c2a2acbf": {
     "model_module": "@jupyter-widgets/base",
     "model_module_version": "1.2.0",
     "model_name": "LayoutModel",
     "state": {
      "_model_module": "@jupyter-widgets/base",
      "_model_module_version": "1.2.0",
      "_model_name": "LayoutModel",
      "_view_count": null,
      "_view_module": "@jupyter-widgets/base",
      "_view_module_version": "1.2.0",
      "_view_name": "LayoutView",
      "align_content": null,
      "align_items": null,
      "align_self": null,
      "border": null,
      "bottom": null,
      "display": null,
      "flex": null,
      "flex_flow": null,
      "grid_area": null,
      "grid_auto_columns": null,
      "grid_auto_flow": null,
      "grid_auto_rows": null,
      "grid_column": null,
      "grid_gap": null,
      "grid_row": null,
      "grid_template_areas": null,
      "grid_template_columns": null,
      "grid_template_rows": null,
      "height": null,
      "justify_content": null,
      "justify_items": null,
      "left": null,
      "margin": null,
      "max_height": null,
      "max_width": null,
      "min_height": null,
      "min_width": null,
      "object_fit": null,
      "object_position": null,
      "order": null,
      "overflow": null,
      "overflow_x": null,
      "overflow_y": null,
      "padding": null,
      "right": null,
      "top": null,
      "visibility": null,
      "width": null
     }
    },
    "e16e440c9cb54ab7899b687205aeaeda": {
     "model_module": "@jupyter-widgets/controls",
     "model_module_version": "1.5.0",
     "model_name": "ProgressStyleModel",
     "state": {
      "_model_module": "@jupyter-widgets/controls",
      "_model_module_version": "1.5.0",
      "_model_name": "ProgressStyleModel",
      "_view_count": null,
      "_view_module": "@jupyter-widgets/base",
      "_view_module_version": "1.2.0",
      "_view_name": "StyleView",
      "bar_color": null,
      "description_width": ""
     }
    },
    "e4c0b91472cf469ea74e89ee2d5e7298": {
     "model_module": "@jupyter-widgets/controls",
     "model_module_version": "1.5.0",
     "model_name": "DescriptionStyleModel",
     "state": {
      "_model_module": "@jupyter-widgets/controls",
      "_model_module_version": "1.5.0",
      "_model_name": "DescriptionStyleModel",
      "_view_count": null,
      "_view_module": "@jupyter-widgets/base",
      "_view_module_version": "1.2.0",
      "_view_name": "StyleView",
      "description_width": ""
     }
    },
    "e5118923e52e4d27a9dc2b4b39029427": {
     "model_module": "@jupyter-widgets/base",
     "model_module_version": "1.2.0",
     "model_name": "LayoutModel",
     "state": {
      "_model_module": "@jupyter-widgets/base",
      "_model_module_version": "1.2.0",
      "_model_name": "LayoutModel",
      "_view_count": null,
      "_view_module": "@jupyter-widgets/base",
      "_view_module_version": "1.2.0",
      "_view_name": "LayoutView",
      "align_content": null,
      "align_items": null,
      "align_self": null,
      "border": null,
      "bottom": null,
      "display": null,
      "flex": null,
      "flex_flow": null,
      "grid_area": null,
      "grid_auto_columns": null,
      "grid_auto_flow": null,
      "grid_auto_rows": null,
      "grid_column": null,
      "grid_gap": null,
      "grid_row": null,
      "grid_template_areas": null,
      "grid_template_columns": null,
      "grid_template_rows": null,
      "height": null,
      "justify_content": null,
      "justify_items": null,
      "left": null,
      "margin": null,
      "max_height": null,
      "max_width": null,
      "min_height": null,
      "min_width": null,
      "object_fit": null,
      "object_position": null,
      "order": null,
      "overflow": null,
      "overflow_x": null,
      "overflow_y": null,
      "padding": null,
      "right": null,
      "top": null,
      "visibility": null,
      "width": null
     }
    },
    "eb989c9b96b6446fa50715999eebb858": {
     "model_module": "@jupyter-widgets/controls",
     "model_module_version": "1.5.0",
     "model_name": "ProgressStyleModel",
     "state": {
      "_model_module": "@jupyter-widgets/controls",
      "_model_module_version": "1.5.0",
      "_model_name": "ProgressStyleModel",
      "_view_count": null,
      "_view_module": "@jupyter-widgets/base",
      "_view_module_version": "1.2.0",
      "_view_name": "StyleView",
      "bar_color": null,
      "description_width": ""
     }
    },
    "ec2fd67b130f426fa4d28b93ab3966d2": {
     "model_module": "@jupyter-widgets/controls",
     "model_module_version": "1.5.0",
     "model_name": "FloatProgressModel",
     "state": {
      "_dom_classes": [],
      "_model_module": "@jupyter-widgets/controls",
      "_model_module_version": "1.5.0",
      "_model_name": "FloatProgressModel",
      "_view_count": null,
      "_view_module": "@jupyter-widgets/controls",
      "_view_module_version": "1.5.0",
      "_view_name": "ProgressView",
      "bar_style": "success",
      "description": "",
      "description_tooltip": null,
      "layout": "IPY_MODEL_0c804d3052de49a696552861120d2851",
      "max": 670,
      "min": 0,
      "orientation": "horizontal",
      "style": "IPY_MODEL_dc790c3698304027a03bf55d91c17842",
      "value": 670
     }
    },
    "ef9a82e86658488c811f02d6c65bdd51": {
     "model_module": "@jupyter-widgets/controls",
     "model_module_version": "1.5.0",
     "model_name": "DescriptionStyleModel",
     "state": {
      "_model_module": "@jupyter-widgets/controls",
      "_model_module_version": "1.5.0",
      "_model_name": "DescriptionStyleModel",
      "_view_count": null,
      "_view_module": "@jupyter-widgets/base",
      "_view_module_version": "1.2.0",
      "_view_name": "StyleView",
      "description_width": ""
     }
    },
    "f4bb91379a424523b284a56abf6ef442": {
     "model_module": "@jupyter-widgets/base",
     "model_module_version": "1.2.0",
     "model_name": "LayoutModel",
     "state": {
      "_model_module": "@jupyter-widgets/base",
      "_model_module_version": "1.2.0",
      "_model_name": "LayoutModel",
      "_view_count": null,
      "_view_module": "@jupyter-widgets/base",
      "_view_module_version": "1.2.0",
      "_view_name": "LayoutView",
      "align_content": null,
      "align_items": null,
      "align_self": null,
      "border": null,
      "bottom": null,
      "display": null,
      "flex": null,
      "flex_flow": null,
      "grid_area": null,
      "grid_auto_columns": null,
      "grid_auto_flow": null,
      "grid_auto_rows": null,
      "grid_column": null,
      "grid_gap": null,
      "grid_row": null,
      "grid_template_areas": null,
      "grid_template_columns": null,
      "grid_template_rows": null,
      "height": null,
      "justify_content": null,
      "justify_items": null,
      "left": null,
      "margin": null,
      "max_height": null,
      "max_width": null,
      "min_height": null,
      "min_width": null,
      "object_fit": null,
      "object_position": null,
      "order": null,
      "overflow": null,
      "overflow_x": null,
      "overflow_y": null,
      "padding": null,
      "right": null,
      "top": null,
      "visibility": null,
      "width": null
     }
    },
    "f702029535584b468759a44c4b67a4a0": {
     "model_module": "@jupyter-widgets/base",
     "model_module_version": "1.2.0",
     "model_name": "LayoutModel",
     "state": {
      "_model_module": "@jupyter-widgets/base",
      "_model_module_version": "1.2.0",
      "_model_name": "LayoutModel",
      "_view_count": null,
      "_view_module": "@jupyter-widgets/base",
      "_view_module_version": "1.2.0",
      "_view_name": "LayoutView",
      "align_content": null,
      "align_items": null,
      "align_self": null,
      "border": null,
      "bottom": null,
      "display": null,
      "flex": null,
      "flex_flow": null,
      "grid_area": null,
      "grid_auto_columns": null,
      "grid_auto_flow": null,
      "grid_auto_rows": null,
      "grid_column": null,
      "grid_gap": null,
      "grid_row": null,
      "grid_template_areas": null,
      "grid_template_columns": null,
      "grid_template_rows": null,
      "height": null,
      "justify_content": null,
      "justify_items": null,
      "left": null,
      "margin": null,
      "max_height": null,
      "max_width": null,
      "min_height": null,
      "min_width": null,
      "object_fit": null,
      "object_position": null,
      "order": null,
      "overflow": null,
      "overflow_x": null,
      "overflow_y": null,
      "padding": null,
      "right": null,
      "top": null,
      "visibility": null,
      "width": null
     }
    },
    "f98257c88e0b4f52a80971aca76294fb": {
     "model_module": "@jupyter-widgets/controls",
     "model_module_version": "1.5.0",
     "model_name": "HTMLModel",
     "state": {
      "_dom_classes": [],
      "_model_module": "@jupyter-widgets/controls",
      "_model_module_version": "1.5.0",
      "_model_name": "HTMLModel",
      "_view_count": null,
      "_view_module": "@jupyter-widgets/controls",
      "_view_module_version": "1.5.0",
      "_view_name": "HTMLView",
      "description": "",
      "description_tooltip": null,
      "layout": "IPY_MODEL_e0bb225e25394924bf7a6948c2a2acbf",
      "placeholder": "​",
      "style": "IPY_MODEL_11f2f14be684474494a1f7deaca19896",
      "value": " 180k/180k [00:00&lt;00:00, 5.23MB/s]"
     }
    },
    "fc291518f6a749cc8c30d4288cfd5062": {
     "model_module": "@jupyter-widgets/controls",
     "model_module_version": "1.5.0",
     "model_name": "HTMLModel",
     "state": {
      "_dom_classes": [],
      "_model_module": "@jupyter-widgets/controls",
      "_model_module_version": "1.5.0",
      "_model_name": "HTMLModel",
      "_view_count": null,
      "_view_module": "@jupyter-widgets/controls",
      "_view_module_version": "1.5.0",
      "_view_name": "HTMLView",
      "description": "",
      "description_tooltip": null,
      "layout": "IPY_MODEL_2b0b6cfe5ca04f838502d4fcd8e331fb",
      "placeholder": "​",
      "style": "IPY_MODEL_20d72d8868234307a26639476fb31603",
      "value": " 101k/101k [00:00&lt;00:00, 9.91MB/s]"
     }
    }
   }
  }
 },
 "nbformat": 4,
 "nbformat_minor": 1
}
