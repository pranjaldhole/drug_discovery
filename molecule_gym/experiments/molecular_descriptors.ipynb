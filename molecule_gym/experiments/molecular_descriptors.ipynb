{
 "cells": [
  {
   "attachments": {},
   "cell_type": "markdown",
   "metadata": {},
   "source": [
    "# Classification of blood-brain-barrier permeability data using molecular descriptors\n",
    "\n",
    "**Input data**: Simplified Molecular Input Line Entry System (SMILES) strings as molecular descriptors converted to feature embeddings with RDKit Molecular Descriptors."
   ]
  },
  {
   "cell_type": "code",
   "execution_count": 1,
   "metadata": {
    "id": "fvFvBLJV0Dkv"
   },
   "outputs": [
    {
     "name": "stderr",
     "output_type": "stream",
     "text": [
      "2023-06-22 09:39:47.238453: I tensorflow/core/util/port.cc:110] oneDNN custom operations are on. You may see slightly different numerical results due to floating-point round-off errors from different computation orders. To turn them off, set the environment variable `TF_ENABLE_ONEDNN_OPTS=0`.\n",
      "2023-06-22 09:39:47.240413: I tensorflow/tsl/cuda/cudart_stub.cc:28] Could not find cuda drivers on your machine, GPU will not be used.\n",
      "2023-06-22 09:39:47.270216: I tensorflow/tsl/cuda/cudart_stub.cc:28] Could not find cuda drivers on your machine, GPU will not be used.\n",
      "2023-06-22 09:39:47.270737: I tensorflow/core/platform/cpu_feature_guard.cc:182] This TensorFlow binary is optimized to use available CPU instructions in performance-critical operations.\n",
      "To enable the following instructions: AVX2 AVX_VNNI FMA, in other operations, rebuild TensorFlow with the appropriate compiler flags.\n",
      "2023-06-22 09:39:47.781033: W tensorflow/compiler/tf2tensorrt/utils/py_utils.cc:38] TF-TRT Warning: Could not find TensorRT\n",
      "Skipped loading modules with pytorch-geometric dependency, missing a dependency. No module named 'torch_geometric'\n",
      "Skipped loading modules with pytorch-geometric dependency, missing a dependency. cannot import name 'DMPNN' from 'deepchem.models.torch_models' (/home/pranjal/venvs/molecule_gym/lib/python3.10/site-packages/deepchem/models/torch_models/__init__.py)\n",
      "No GPU/TPU found, falling back to CPU. (Set TF_CPP_MIN_LOG_LEVEL=0 and rerun for more info.)\n"
     ]
    }
   ],
   "source": [
    "from os.path import join\n",
    "\n",
    "import numpy as np\n",
    "import pandas as pd\n",
    "\n",
    "import deepchem as dc\n",
    "from rdkit import Chem\n",
    "\n",
    "from sklearn.decomposition import PCA\n",
    "from sklearn.preprocessing import QuantileTransformer\n",
    "\n",
    "from molecule_gym.config import DATA_DIR, RESULTS_DIR\n",
    "from molecule_gym.core.classifiers import classify_binary_data\n",
    "from molecule_gym.core.visualizations import plot_explained_variance\n",
    "\n",
    "import warnings\n",
    "warnings.filterwarnings('ignore')\n",
    "\n",
    "%matplotlib inline"
   ]
  },
  {
   "attachments": {},
   "cell_type": "markdown",
   "metadata": {
    "id": "zQ-42fh0hjsF"
   },
   "source": [
    "## Importing the raw dataset\n",
    "\n",
    "Loading the raw dataset into a dataframe."
   ]
  },
  {
   "cell_type": "code",
   "execution_count": 2,
   "metadata": {
    "id": "MDs0otYi4tEK"
   },
   "outputs": [],
   "source": [
    "df_raw = pd.read_csv(join(DATA_DIR, 'physiology', 'BBBP.csv'))"
   ]
  },
  {
   "cell_type": "code",
   "execution_count": 3,
   "metadata": {
    "colab": {
     "base_uri": "https://localhost:8080/"
    },
    "id": "I5CET7sa4tG6",
    "outputId": "fb246be0-7759-41fc-dfad-75accf22b582"
   },
   "outputs": [
    {
     "data": {
      "text/html": [
       "<div>\n",
       "<style scoped>\n",
       "    .dataframe tbody tr th:only-of-type {\n",
       "        vertical-align: middle;\n",
       "    }\n",
       "\n",
       "    .dataframe tbody tr th {\n",
       "        vertical-align: top;\n",
       "    }\n",
       "\n",
       "    .dataframe thead th {\n",
       "        text-align: right;\n",
       "    }\n",
       "</style>\n",
       "<table border=\"1\" class=\"dataframe\">\n",
       "  <thead>\n",
       "    <tr style=\"text-align: right;\">\n",
       "      <th></th>\n",
       "      <th>num</th>\n",
       "      <th>name</th>\n",
       "      <th>p_np</th>\n",
       "      <th>smiles</th>\n",
       "    </tr>\n",
       "  </thead>\n",
       "  <tbody>\n",
       "    <tr>\n",
       "      <th>0</th>\n",
       "      <td>1</td>\n",
       "      <td>Propanolol</td>\n",
       "      <td>1</td>\n",
       "      <td>[Cl].CC(C)NCC(O)COc1cccc2ccccc12</td>\n",
       "    </tr>\n",
       "    <tr>\n",
       "      <th>1</th>\n",
       "      <td>2</td>\n",
       "      <td>Terbutylchlorambucil</td>\n",
       "      <td>1</td>\n",
       "      <td>C(=O)(OC(C)(C)C)CCCc1ccc(cc1)N(CCCl)CCCl</td>\n",
       "    </tr>\n",
       "    <tr>\n",
       "      <th>2</th>\n",
       "      <td>3</td>\n",
       "      <td>40730</td>\n",
       "      <td>1</td>\n",
       "      <td>c12c3c(N4CCN(C)CC4)c(F)cc1c(c(C(O)=O)cn2C(C)CO...</td>\n",
       "    </tr>\n",
       "    <tr>\n",
       "      <th>3</th>\n",
       "      <td>4</td>\n",
       "      <td>24</td>\n",
       "      <td>1</td>\n",
       "      <td>C1CCN(CC1)Cc1cccc(c1)OCCCNC(=O)C</td>\n",
       "    </tr>\n",
       "    <tr>\n",
       "      <th>4</th>\n",
       "      <td>5</td>\n",
       "      <td>cloxacillin</td>\n",
       "      <td>1</td>\n",
       "      <td>Cc1onc(c2ccccc2Cl)c1C(=O)N[C@H]3[C@H]4SC(C)(C)...</td>\n",
       "    </tr>\n",
       "  </tbody>\n",
       "</table>\n",
       "</div>"
      ],
      "text/plain": [
       "   num                  name  p_np  \\\n",
       "0    1            Propanolol     1   \n",
       "1    2  Terbutylchlorambucil     1   \n",
       "2    3                 40730     1   \n",
       "3    4                    24     1   \n",
       "4    5           cloxacillin     1   \n",
       "\n",
       "                                              smiles  \n",
       "0                   [Cl].CC(C)NCC(O)COc1cccc2ccccc12  \n",
       "1           C(=O)(OC(C)(C)C)CCCc1ccc(cc1)N(CCCl)CCCl  \n",
       "2  c12c3c(N4CCN(C)CC4)c(F)cc1c(c(C(O)=O)cn2C(C)CO...  \n",
       "3                   C1CCN(CC1)Cc1cccc(c1)OCCCNC(=O)C  \n",
       "4  Cc1onc(c2ccccc2Cl)c1C(=O)N[C@H]3[C@H]4SC(C)(C)...  "
      ]
     },
     "execution_count": 3,
     "metadata": {},
     "output_type": "execute_result"
    }
   ],
   "source": [
    "df_raw.head()"
   ]
  },
  {
   "cell_type": "code",
   "execution_count": 4,
   "metadata": {},
   "outputs": [
    {
     "data": {
      "text/plain": [
       "(2050, 4)"
      ]
     },
     "execution_count": 4,
     "metadata": {},
     "output_type": "execute_result"
    }
   ],
   "source": [
    "df_raw.shape"
   ]
  },
  {
   "attachments": {},
   "cell_type": "markdown",
   "metadata": {},
   "source": [
    "### Drop molecules that cannot be featurized"
   ]
  },
  {
   "cell_type": "code",
   "execution_count": 5,
   "metadata": {},
   "outputs": [
    {
     "name": "stderr",
     "output_type": "stream",
     "text": [
      "[09:39:50] Explicit valence for atom # 1 N, 4, is greater than permitted\n",
      "[09:39:50] WARNING: not removing hydrogen atom without neighbors\n",
      "[09:39:50] Explicit valence for atom # 6 N, 4, is greater than permitted\n",
      "[09:39:50] WARNING: not removing hydrogen atom without neighbors\n",
      "[09:39:50] WARNING: not removing hydrogen atom without neighbors\n",
      "[09:39:50] WARNING: not removing hydrogen atom without neighbors\n",
      "[09:39:50] WARNING: not removing hydrogen atom without neighbors\n",
      "[09:39:50] WARNING: not removing hydrogen atom without neighbors\n",
      "[09:39:50] WARNING: not removing hydrogen atom without neighbors\n",
      "[09:39:50] Explicit valence for atom # 6 N, 4, is greater than permitted\n",
      "[09:39:50] WARNING: not removing hydrogen atom without neighbors\n",
      "[09:39:50] WARNING: not removing hydrogen atom without neighbors\n",
      "[09:39:50] WARNING: not removing hydrogen atom without neighbors\n",
      "[09:39:50] WARNING: not removing hydrogen atom without neighbors\n",
      "[09:39:50] Explicit valence for atom # 11 N, 4, is greater than permitted\n",
      "[09:39:50] Explicit valence for atom # 12 N, 4, is greater than permitted\n",
      "[09:39:50] Explicit valence for atom # 5 N, 4, is greater than permitted\n",
      "[09:39:50] Explicit valence for atom # 5 N, 4, is greater than permitted\n",
      "[09:39:50] Explicit valence for atom # 5 N, 4, is greater than permitted\n",
      "[09:39:50] Explicit valence for atom # 5 N, 4, is greater than permitted\n",
      "[09:39:50] Explicit valence for atom # 5 N, 4, is greater than permitted\n",
      "[09:39:50] WARNING: not removing hydrogen atom without neighbors\n",
      "[09:39:50] WARNING: not removing hydrogen atom without neighbors\n",
      "[09:39:50] Explicit valence for atom # 5 N, 4, is greater than permitted\n",
      "[09:39:50] WARNING: not removing hydrogen atom without neighbors\n",
      "[09:39:50] WARNING: not removing hydrogen atom without neighbors\n",
      "[09:39:50] WARNING: not removing hydrogen atom without neighbors\n",
      "[09:39:50] WARNING: not removing hydrogen atom without neighbors\n",
      "[09:39:50] WARNING: not removing hydrogen atom without neighbors\n",
      "[09:39:50] WARNING: not removing hydrogen atom without neighbors\n",
      "[09:39:50] WARNING: not removing hydrogen atom without neighbors\n",
      "[09:39:50] WARNING: not removing hydrogen atom without neighbors\n",
      "[09:39:50] WARNING: not removing hydrogen atom without neighbors\n",
      "[09:39:50] WARNING: not removing hydrogen atom without neighbors\n",
      "[09:39:50] WARNING: not removing hydrogen atom without neighbors\n",
      "[09:39:50] WARNING: not removing hydrogen atom without neighbors\n",
      "[09:39:50] WARNING: not removing hydrogen atom without neighbors\n",
      "[09:39:50] WARNING: not removing hydrogen atom without neighbors\n",
      "[09:39:50] WARNING: not removing hydrogen atom without neighbors\n",
      "[09:39:50] WARNING: not removing hydrogen atom without neighbors\n",
      "[09:39:50] WARNING: not removing hydrogen atom without neighbors\n",
      "[09:39:50] WARNING: not removing hydrogen atom without neighbors\n",
      "[09:39:50] WARNING: not removing hydrogen atom without neighbors\n",
      "[09:39:50] WARNING: not removing hydrogen atom without neighbors\n",
      "[09:39:50] WARNING: not removing hydrogen atom without neighbors\n",
      "[09:39:50] WARNING: not removing hydrogen atom without neighbors\n",
      "[09:39:50] WARNING: not removing hydrogen atom without neighbors\n",
      "[09:39:50] WARNING: not removing hydrogen atom without neighbors\n",
      "[09:39:50] WARNING: not removing hydrogen atom without neighbors\n",
      "[09:39:50] WARNING: not removing hydrogen atom without neighbors\n",
      "[09:39:50] WARNING: not removing hydrogen atom without neighbors\n"
     ]
    }
   ],
   "source": [
    "mols = [Chem.MolFromSmiles(smile) for smile in df_raw['smiles']]"
   ]
  },
  {
   "cell_type": "code",
   "execution_count": 6,
   "metadata": {},
   "outputs": [],
   "source": [
    "use_mol = []\n",
    "for mol in mols:\n",
    "    if mol is not None:\n",
    "        use_mol.append(True)\n",
    "    else:\n",
    "        use_mol.append(False)"
   ]
  },
  {
   "cell_type": "code",
   "execution_count": 7,
   "metadata": {},
   "outputs": [],
   "source": [
    "df_raw['use_mol'] = use_mol"
   ]
  },
  {
   "cell_type": "code",
   "execution_count": 8,
   "metadata": {},
   "outputs": [
    {
     "data": {
      "text/html": [
       "<div>\n",
       "<style scoped>\n",
       "    .dataframe tbody tr th:only-of-type {\n",
       "        vertical-align: middle;\n",
       "    }\n",
       "\n",
       "    .dataframe tbody tr th {\n",
       "        vertical-align: top;\n",
       "    }\n",
       "\n",
       "    .dataframe thead th {\n",
       "        text-align: right;\n",
       "    }\n",
       "</style>\n",
       "<table border=\"1\" class=\"dataframe\">\n",
       "  <thead>\n",
       "    <tr style=\"text-align: right;\">\n",
       "      <th></th>\n",
       "      <th>num</th>\n",
       "      <th>name</th>\n",
       "      <th>p_np</th>\n",
       "      <th>smiles</th>\n",
       "      <th>use_mol</th>\n",
       "    </tr>\n",
       "  </thead>\n",
       "  <tbody>\n",
       "    <tr>\n",
       "      <th>0</th>\n",
       "      <td>1</td>\n",
       "      <td>Propanolol</td>\n",
       "      <td>1</td>\n",
       "      <td>[Cl].CC(C)NCC(O)COc1cccc2ccccc12</td>\n",
       "      <td>True</td>\n",
       "    </tr>\n",
       "    <tr>\n",
       "      <th>1</th>\n",
       "      <td>2</td>\n",
       "      <td>Terbutylchlorambucil</td>\n",
       "      <td>1</td>\n",
       "      <td>C(=O)(OC(C)(C)C)CCCc1ccc(cc1)N(CCCl)CCCl</td>\n",
       "      <td>True</td>\n",
       "    </tr>\n",
       "    <tr>\n",
       "      <th>2</th>\n",
       "      <td>3</td>\n",
       "      <td>40730</td>\n",
       "      <td>1</td>\n",
       "      <td>c12c3c(N4CCN(C)CC4)c(F)cc1c(c(C(O)=O)cn2C(C)CO...</td>\n",
       "      <td>True</td>\n",
       "    </tr>\n",
       "    <tr>\n",
       "      <th>3</th>\n",
       "      <td>4</td>\n",
       "      <td>24</td>\n",
       "      <td>1</td>\n",
       "      <td>C1CCN(CC1)Cc1cccc(c1)OCCCNC(=O)C</td>\n",
       "      <td>True</td>\n",
       "    </tr>\n",
       "    <tr>\n",
       "      <th>4</th>\n",
       "      <td>5</td>\n",
       "      <td>cloxacillin</td>\n",
       "      <td>1</td>\n",
       "      <td>Cc1onc(c2ccccc2Cl)c1C(=O)N[C@H]3[C@H]4SC(C)(C)...</td>\n",
       "      <td>True</td>\n",
       "    </tr>\n",
       "    <tr>\n",
       "      <th>...</th>\n",
       "      <td>...</td>\n",
       "      <td>...</td>\n",
       "      <td>...</td>\n",
       "      <td>...</td>\n",
       "      <td>...</td>\n",
       "    </tr>\n",
       "    <tr>\n",
       "      <th>58</th>\n",
       "      <td>59</td>\n",
       "      <td>Y-G 14</td>\n",
       "      <td>1</td>\n",
       "      <td>n(ccc1)c(c1)CCNC</td>\n",
       "      <td>True</td>\n",
       "    </tr>\n",
       "    <tr>\n",
       "      <th>59</th>\n",
       "      <td>60</td>\n",
       "      <td>15</td>\n",
       "      <td>1</td>\n",
       "      <td>O=N([O-])C1=C(CN=C1NCCSCc2ncccc2)Cc3ccccc3</td>\n",
       "      <td>False</td>\n",
       "    </tr>\n",
       "    <tr>\n",
       "      <th>60</th>\n",
       "      <td>61</td>\n",
       "      <td>sertraline</td>\n",
       "      <td>1</td>\n",
       "      <td>[Cl-].CN[C@H]1CC[C@@H](c2ccc(Cl)c(Cl)c2)c3cccc...</td>\n",
       "      <td>True</td>\n",
       "    </tr>\n",
       "    <tr>\n",
       "      <th>61</th>\n",
       "      <td>62</td>\n",
       "      <td>22767</td>\n",
       "      <td>1</td>\n",
       "      <td>c1(nc(NC(N)=[NH2])sc1)CSCCNC(=[NH]C#N)NC</td>\n",
       "      <td>False</td>\n",
       "    </tr>\n",
       "    <tr>\n",
       "      <th>62</th>\n",
       "      <td>64</td>\n",
       "      <td>vincristine</td>\n",
       "      <td>1</td>\n",
       "      <td>CC[C@]1(O)C[C@H]2CN(CCc3c([nH]c4ccccc34)[C@@](...</td>\n",
       "      <td>True</td>\n",
       "    </tr>\n",
       "  </tbody>\n",
       "</table>\n",
       "<p>63 rows × 5 columns</p>\n",
       "</div>"
      ],
      "text/plain": [
       "    num                  name  p_np  \\\n",
       "0     1            Propanolol     1   \n",
       "1     2  Terbutylchlorambucil     1   \n",
       "2     3                 40730     1   \n",
       "3     4                    24     1   \n",
       "4     5           cloxacillin     1   \n",
       "..  ...                   ...   ...   \n",
       "58   59                Y-G 14     1   \n",
       "59   60                    15     1   \n",
       "60   61            sertraline     1   \n",
       "61   62                 22767     1   \n",
       "62   64           vincristine     1   \n",
       "\n",
       "                                               smiles  use_mol  \n",
       "0                    [Cl].CC(C)NCC(O)COc1cccc2ccccc12     True  \n",
       "1            C(=O)(OC(C)(C)C)CCCc1ccc(cc1)N(CCCl)CCCl     True  \n",
       "2   c12c3c(N4CCN(C)CC4)c(F)cc1c(c(C(O)=O)cn2C(C)CO...     True  \n",
       "3                    C1CCN(CC1)Cc1cccc(c1)OCCCNC(=O)C     True  \n",
       "4   Cc1onc(c2ccccc2Cl)c1C(=O)N[C@H]3[C@H]4SC(C)(C)...     True  \n",
       "..                                                ...      ...  \n",
       "58                                   n(ccc1)c(c1)CCNC     True  \n",
       "59         O=N([O-])C1=C(CN=C1NCCSCc2ncccc2)Cc3ccccc3    False  \n",
       "60  [Cl-].CN[C@H]1CC[C@@H](c2ccc(Cl)c(Cl)c2)c3cccc...     True  \n",
       "61           c1(nc(NC(N)=[NH2])sc1)CSCCNC(=[NH]C#N)NC    False  \n",
       "62  CC[C@]1(O)C[C@H]2CN(CCc3c([nH]c4ccccc34)[C@@](...     True  \n",
       "\n",
       "[63 rows x 5 columns]"
      ]
     },
     "execution_count": 8,
     "metadata": {},
     "output_type": "execute_result"
    }
   ],
   "source": [
    "df_raw.head(63)"
   ]
  },
  {
   "cell_type": "code",
   "execution_count": 9,
   "metadata": {},
   "outputs": [
    {
     "data": {
      "text/plain": [
       "(2050, 5)"
      ]
     },
     "execution_count": 9,
     "metadata": {},
     "output_type": "execute_result"
    }
   ],
   "source": [
    "df_raw.shape"
   ]
  },
  {
   "cell_type": "code",
   "execution_count": 10,
   "metadata": {},
   "outputs": [],
   "source": [
    "df = df_raw.loc[df_raw['use_mol']== True].copy(deep=True)"
   ]
  },
  {
   "cell_type": "code",
   "execution_count": 11,
   "metadata": {},
   "outputs": [
    {
     "data": {
      "text/plain": [
       "(2039, 5)"
      ]
     },
     "execution_count": 11,
     "metadata": {},
     "output_type": "execute_result"
    }
   ],
   "source": [
    "df.shape"
   ]
  },
  {
   "cell_type": "code",
   "execution_count": 12,
   "metadata": {},
   "outputs": [
    {
     "data": {
      "text/plain": [
       "1    1560\n",
       "0     479\n",
       "Name: p_np, dtype: int64"
      ]
     },
     "execution_count": 12,
     "metadata": {},
     "output_type": "execute_result"
    }
   ],
   "source": [
    "labels = df['p_np']\n",
    "labels.value_counts()"
   ]
  },
  {
   "attachments": {},
   "cell_type": "markdown",
   "metadata": {},
   "source": [
    "## Generate numeric feature embeddings of SMILES strings with RDKit"
   ]
  },
  {
   "cell_type": "code",
   "execution_count": 13,
   "metadata": {},
   "outputs": [
    {
     "name": "stderr",
     "output_type": "stream",
     "text": [
      "[09:39:50] WARNING: not removing hydrogen atom without neighbors\n",
      "[09:39:50] WARNING: not removing hydrogen atom without neighbors\n",
      "[09:39:50] WARNING: not removing hydrogen atom without neighbors\n",
      "[09:39:50] WARNING: not removing hydrogen atom without neighbors\n",
      "[09:39:50] WARNING: not removing hydrogen atom without neighbors\n",
      "[09:39:50] WARNING: not removing hydrogen atom without neighbors\n",
      "[09:39:50] WARNING: not removing hydrogen atom without neighbors\n"
     ]
    },
    {
     "name": "stderr",
     "output_type": "stream",
     "text": [
      "[09:39:50] WARNING: not removing hydrogen atom without neighbors\n",
      "[09:39:50] WARNING: not removing hydrogen atom without neighbors\n",
      "[09:39:50] WARNING: not removing hydrogen atom without neighbors\n",
      "[09:39:50] WARNING: not removing hydrogen atom without neighbors\n",
      "[09:39:50] WARNING: not removing hydrogen atom without neighbors\n",
      "[09:39:50] WARNING: not removing hydrogen atom without neighbors\n",
      "[09:39:50] WARNING: not removing hydrogen atom without neighbors\n",
      "[09:39:50] WARNING: not removing hydrogen atom without neighbors\n",
      "[09:39:50] WARNING: not removing hydrogen atom without neighbors\n",
      "[09:39:50] WARNING: not removing hydrogen atom without neighbors\n",
      "[09:39:50] WARNING: not removing hydrogen atom without neighbors\n",
      "[09:39:50] WARNING: not removing hydrogen atom without neighbors\n",
      "[09:39:50] WARNING: not removing hydrogen atom without neighbors\n",
      "[09:39:50] WARNING: not removing hydrogen atom without neighbors\n",
      "[09:39:50] WARNING: not removing hydrogen atom without neighbors\n",
      "[09:39:50] WARNING: not removing hydrogen atom without neighbors\n",
      "[09:39:50] WARNING: not removing hydrogen atom without neighbors\n",
      "[09:39:50] WARNING: not removing hydrogen atom without neighbors\n",
      "[09:39:50] WARNING: not removing hydrogen atom without neighbors\n",
      "[09:39:50] WARNING: not removing hydrogen atom without neighbors\n",
      "[09:39:50] WARNING: not removing hydrogen atom without neighbors\n",
      "[09:39:50] WARNING: not removing hydrogen atom without neighbors\n",
      "[09:39:50] WARNING: not removing hydrogen atom without neighbors\n",
      "[09:39:50] WARNING: not removing hydrogen atom without neighbors\n",
      "[09:39:50] WARNING: not removing hydrogen atom without neighbors\n",
      "[09:39:50] WARNING: not removing hydrogen atom without neighbors\n",
      "[09:39:50] WARNING: not removing hydrogen atom without neighbors\n",
      "[09:39:50] WARNING: not removing hydrogen atom without neighbors\n",
      "[09:39:50] WARNING: not removing hydrogen atom without neighbors\n",
      "[09:39:50] WARNING: not removing hydrogen atom without neighbors\n",
      "[09:39:50] WARNING: not removing hydrogen atom without neighbors\n",
      "[09:39:50] WARNING: not removing hydrogen atom without neighbors\n",
      "[09:39:50] WARNING: not removing hydrogen atom without neighbors\n"
     ]
    }
   ],
   "source": [
    "mols = [Chem.MolFromSmiles(smile) for smile in df['smiles']]"
   ]
  },
  {
   "cell_type": "code",
   "execution_count": 14,
   "metadata": {},
   "outputs": [
    {
     "data": {
      "image/png": "[encoded data removed]",
      "text/plain": [
       "<PIL.PngImagePlugin.PngImageFile image mode=RGB size=300x300>"
      ]
     },
     "execution_count": 14,
     "metadata": {},
     "output_type": "execute_result"
    }
   ],
   "source": [
    "Chem.Draw.MolToImage(mols[50])"
   ]
  },
  {
   "cell_type": "code",
   "execution_count": 15,
   "metadata": {},
   "outputs": [],
   "source": [
    "featurizer = dc.feat.RDKitDescriptors()"
   ]
  },
  {
   "cell_type": "code",
   "execution_count": 16,
   "metadata": {},
   "outputs": [
    {
     "name": "stderr",
     "output_type": "stream",
     "text": [
      "[09:39:51] WARNING: not removing hydrogen atom without neighbors\n",
      "[09:39:51] WARNING: not removing hydrogen atom without neighbors\n",
      "[09:39:51] WARNING: not removing hydrogen atom without neighbors\n",
      "[09:39:51] WARNING: not removing hydrogen atom without neighbors\n",
      "[09:39:52] WARNING: not removing hydrogen atom without neighbors\n",
      "[09:39:52] WARNING: not removing hydrogen atom without neighbors\n",
      "[09:39:52] WARNING: not removing hydrogen atom without neighbors\n",
      "[09:39:52] WARNING: not removing hydrogen atom without neighbors\n",
      "[09:39:53] WARNING: not removing hydrogen atom without neighbors\n",
      "[09:39:53] WARNING: not removing hydrogen atom without neighbors\n",
      "[09:39:53] WARNING: not removing hydrogen atom without neighbors\n",
      "[09:39:53] WARNING: not removing hydrogen atom without neighbors\n",
      "[09:39:53] WARNING: not removing hydrogen atom without neighbors\n",
      "[09:39:53] WARNING: not removing hydrogen atom without neighbors\n",
      "[09:39:54] WARNING: not removing hydrogen atom without neighbors\n",
      "[09:39:54] WARNING: not removing hydrogen atom without neighbors\n",
      "[09:39:54] WARNING: not removing hydrogen atom without neighbors\n",
      "[09:39:54] WARNING: not removing hydrogen atom without neighbors\n",
      "[09:39:54] WARNING: not removing hydrogen atom without neighbors\n",
      "[09:39:54] WARNING: not removing hydrogen atom without neighbors\n",
      "[09:39:54] WARNING: not removing hydrogen atom without neighbors\n",
      "[09:39:54] WARNING: not removing hydrogen atom without neighbors\n",
      "[09:39:55] WARNING: not removing hydrogen atom without neighbors\n",
      "[09:39:55] WARNING: not removing hydrogen atom without neighbors\n",
      "[09:39:55] WARNING: not removing hydrogen atom without neighbors\n",
      "[09:39:55] WARNING: not removing hydrogen atom without neighbors\n",
      "[09:39:55] WARNING: not removing hydrogen atom without neighbors\n",
      "[09:39:55] WARNING: not removing hydrogen atom without neighbors\n",
      "[09:39:57] WARNING: not removing hydrogen atom without neighbors\n",
      "[09:39:57] WARNING: not removing hydrogen atom without neighbors\n",
      "[09:39:58] WARNING: not removing hydrogen atom without neighbors\n",
      "[09:39:58] WARNING: not removing hydrogen atom without neighbors\n",
      "[09:39:58] WARNING: not removing hydrogen atom without neighbors\n",
      "[09:39:58] WARNING: not removing hydrogen atom without neighbors\n",
      "[09:39:58] WARNING: not removing hydrogen atom without neighbors\n",
      "[09:39:58] WARNING: not removing hydrogen atom without neighbors\n",
      "[09:39:59] WARNING: not removing hydrogen atom without neighbors\n",
      "[09:39:59] WARNING: not removing hydrogen atom without neighbors\n",
      "[09:40:00] WARNING: not removing hydrogen atom without neighbors\n",
      "[09:40:00] WARNING: not removing hydrogen atom without neighbors\n",
      "[09:40:00] WARNING: not removing hydrogen atom without neighbors\n",
      "[09:40:00] WARNING: not removing hydrogen atom without neighbors\n",
      "[09:40:00] WARNING: not removing hydrogen atom without neighbors\n",
      "[09:40:00] WARNING: not removing hydrogen atom without neighbors\n",
      "[09:40:00] WARNING: not removing hydrogen atom without neighbors\n",
      "[09:40:00] WARNING: not removing hydrogen atom without neighbors\n",
      "[09:40:01] WARNING: not removing hydrogen atom without neighbors\n",
      "[09:40:01] WARNING: not removing hydrogen atom without neighbors\n",
      "[09:40:01] WARNING: not removing hydrogen atom without neighbors\n",
      "[09:40:01] WARNING: not removing hydrogen atom without neighbors\n",
      "[09:40:01] WARNING: not removing hydrogen atom without neighbors\n",
      "[09:40:01] WARNING: not removing hydrogen atom without neighbors\n",
      "[09:40:01] WARNING: not removing hydrogen atom without neighbors\n",
      "[09:40:01] WARNING: not removing hydrogen atom without neighbors\n",
      "[09:40:01] WARNING: not removing hydrogen atom without neighbors\n",
      "[09:40:01] WARNING: not removing hydrogen atom without neighbors\n",
      "[09:40:02] WARNING: not removing hydrogen atom without neighbors\n",
      "[09:40:02] WARNING: not removing hydrogen atom without neighbors\n",
      "[09:40:02] WARNING: not removing hydrogen atom without neighbors\n",
      "[09:40:02] WARNING: not removing hydrogen atom without neighbors\n",
      "[09:40:02] WARNING: not removing hydrogen atom without neighbors\n",
      "[09:40:02] WARNING: not removing hydrogen atom without neighbors\n",
      "[09:40:03] WARNING: not removing hydrogen atom without neighbors\n",
      "[09:40:03] WARNING: not removing hydrogen atom without neighbors\n",
      "[09:40:03] WARNING: not removing hydrogen atom without neighbors\n",
      "[09:40:03] WARNING: not removing hydrogen atom without neighbors\n",
      "[09:40:03] WARNING: not removing hydrogen atom without neighbors\n",
      "[09:40:03] WARNING: not removing hydrogen atom without neighbors\n",
      "[09:40:03] WARNING: not removing hydrogen atom without neighbors\n",
      "[09:40:03] WARNING: not removing hydrogen atom without neighbors\n",
      "[09:40:03] WARNING: not removing hydrogen atom without neighbors\n",
      "[09:40:03] WARNING: not removing hydrogen atom without neighbors\n",
      "[09:40:04] WARNING: not removing hydrogen atom without neighbors\n",
      "[09:40:04] WARNING: not removing hydrogen atom without neighbors\n",
      "[09:40:04] WARNING: not removing hydrogen atom without neighbors\n",
      "[09:40:04] WARNING: not removing hydrogen atom without neighbors\n",
      "[09:40:04] WARNING: not removing hydrogen atom without neighbors\n",
      "[09:40:04] WARNING: not removing hydrogen atom without neighbors\n",
      "[09:40:05] WARNING: not removing hydrogen atom without neighbors\n",
      "[09:40:05] WARNING: not removing hydrogen atom without neighbors\n"
     ]
    }
   ],
   "source": [
    "features = featurizer.featurize(mols)"
   ]
  },
  {
   "cell_type": "code",
   "execution_count": 17,
   "metadata": {},
   "outputs": [
    {
     "data": {
      "text/html": [
       "<div>\n",
       "<style scoped>\n",
       "    .dataframe tbody tr th:only-of-type {\n",
       "        vertical-align: middle;\n",
       "    }\n",
       "\n",
       "    .dataframe tbody tr th {\n",
       "        vertical-align: top;\n",
       "    }\n",
       "\n",
       "    .dataframe thead th {\n",
       "        text-align: right;\n",
       "    }\n",
       "</style>\n",
       "<table border=\"1\" class=\"dataframe\">\n",
       "  <thead>\n",
       "    <tr style=\"text-align: right;\">\n",
       "      <th></th>\n",
       "      <th>0</th>\n",
       "    </tr>\n",
       "  </thead>\n",
       "  <tbody>\n",
       "    <tr>\n",
       "      <th>count</th>\n",
       "      <td>209.000000</td>\n",
       "    </tr>\n",
       "    <tr>\n",
       "      <th>mean</th>\n",
       "      <td>8.975955</td>\n",
       "    </tr>\n",
       "    <tr>\n",
       "      <th>std</th>\n",
       "      <td>35.943929</td>\n",
       "    </tr>\n",
       "    <tr>\n",
       "      <th>min</th>\n",
       "      <td>-2.189281</td>\n",
       "    </tr>\n",
       "    <tr>\n",
       "      <th>25%</th>\n",
       "      <td>0.000000</td>\n",
       "    </tr>\n",
       "    <tr>\n",
       "      <th>50%</th>\n",
       "      <td>0.000000</td>\n",
       "    </tr>\n",
       "    <tr>\n",
       "      <th>75%</th>\n",
       "      <td>5.000000</td>\n",
       "    </tr>\n",
       "    <tr>\n",
       "      <th>max</th>\n",
       "      <td>338.921052</td>\n",
       "    </tr>\n",
       "  </tbody>\n",
       "</table>\n",
       "</div>"
      ],
      "text/plain": [
       "                0\n",
       "count  209.000000\n",
       "mean     8.975955\n",
       "std     35.943929\n",
       "min     -2.189281\n",
       "25%      0.000000\n",
       "50%      0.000000\n",
       "75%      5.000000\n",
       "max    338.921052"
      ]
     },
     "execution_count": 17,
     "metadata": {},
     "output_type": "execute_result"
    }
   ],
   "source": [
    "# Distribution description of a feature sample\n",
    "features_describe = pd.DataFrame(features[80,:])\n",
    "features_describe.describe()"
   ]
  },
  {
   "cell_type": "code",
   "execution_count": 18,
   "metadata": {},
   "outputs": [],
   "source": [
    "normalizer = QuantileTransformer(output_distribution='uniform')"
   ]
  },
  {
   "cell_type": "code",
   "execution_count": 19,
   "metadata": {},
   "outputs": [],
   "source": [
    "features_norm = normalizer.fit_transform(features)"
   ]
  },
  {
   "cell_type": "code",
   "execution_count": 20,
   "metadata": {},
   "outputs": [
    {
     "data": {
      "text/html": [
       "<div>\n",
       "<style scoped>\n",
       "    .dataframe tbody tr th:only-of-type {\n",
       "        vertical-align: middle;\n",
       "    }\n",
       "\n",
       "    .dataframe tbody tr th {\n",
       "        vertical-align: top;\n",
       "    }\n",
       "\n",
       "    .dataframe thead th {\n",
       "        text-align: right;\n",
       "    }\n",
       "</style>\n",
       "<table border=\"1\" class=\"dataframe\">\n",
       "  <thead>\n",
       "    <tr style=\"text-align: right;\">\n",
       "      <th></th>\n",
       "      <th>0</th>\n",
       "    </tr>\n",
       "  </thead>\n",
       "  <tbody>\n",
       "    <tr>\n",
       "      <th>count</th>\n",
       "      <td>209.000000</td>\n",
       "    </tr>\n",
       "    <tr>\n",
       "      <th>mean</th>\n",
       "      <td>0.244215</td>\n",
       "    </tr>\n",
       "    <tr>\n",
       "      <th>std</th>\n",
       "      <td>0.323129</td>\n",
       "    </tr>\n",
       "    <tr>\n",
       "      <th>min</th>\n",
       "      <td>0.000000</td>\n",
       "    </tr>\n",
       "    <tr>\n",
       "      <th>25%</th>\n",
       "      <td>0.000000</td>\n",
       "    </tr>\n",
       "    <tr>\n",
       "      <th>50%</th>\n",
       "      <td>0.091117</td>\n",
       "    </tr>\n",
       "    <tr>\n",
       "      <th>75%</th>\n",
       "      <td>0.416880</td>\n",
       "    </tr>\n",
       "    <tr>\n",
       "      <th>max</th>\n",
       "      <td>1.000000</td>\n",
       "    </tr>\n",
       "  </tbody>\n",
       "</table>\n",
       "</div>"
      ],
      "text/plain": [
       "                0\n",
       "count  209.000000\n",
       "mean     0.244215\n",
       "std      0.323129\n",
       "min      0.000000\n",
       "25%      0.000000\n",
       "50%      0.091117\n",
       "75%      0.416880\n",
       "max      1.000000"
      ]
     },
     "execution_count": 20,
     "metadata": {},
     "output_type": "execute_result"
    }
   ],
   "source": [
    "features_norm_describe = pd.DataFrame(features_norm[80,:])\n",
    "features_norm_describe.describe()"
   ]
  },
  {
   "attachments": {},
   "cell_type": "markdown",
   "metadata": {},
   "source": [
    "## Binary classification with embeddings data"
   ]
  },
  {
   "cell_type": "code",
   "execution_count": 21,
   "metadata": {},
   "outputs": [
    {
     "data": {
      "text/plain": [
       "(2039, 209)"
      ]
     },
     "execution_count": 21,
     "metadata": {},
     "output_type": "execute_result"
    }
   ],
   "source": [
    "features_norm.shape"
   ]
  },
  {
   "cell_type": "code",
   "execution_count": 22,
   "metadata": {},
   "outputs": [],
   "source": [
    "features_norm[np.isnan(features_norm)] = 0"
   ]
  },
  {
   "cell_type": "code",
   "execution_count": 23,
   "metadata": {},
   "outputs": [
    {
     "data": {
      "text/plain": [
       "1    1560\n",
       "0     479\n",
       "Name: p_np, dtype: int64"
      ]
     },
     "execution_count": 23,
     "metadata": {},
     "output_type": "execute_result"
    }
   ],
   "source": [
    "labels.value_counts()"
   ]
  },
  {
   "cell_type": "code",
   "execution_count": 24,
   "metadata": {},
   "outputs": [
    {
     "data": {
      "text/plain": [
       "1    487\n",
       "0    479\n",
       "Name: p_np, dtype: int64"
      ]
     },
     "execution_count": 24,
     "metadata": {},
     "output_type": "execute_result"
    }
   ],
   "source": [
    "labels[:966].value_counts()"
   ]
  },
  {
   "cell_type": "code",
   "execution_count": 25,
   "metadata": {},
   "outputs": [
    {
     "name": "stdout",
     "output_type": "stream",
     "text": [
      "Training target statistics: Counter({1: 342, 0: 334})\n",
      "Testing target statistics: Counter({1: 145, 0: 145})\n",
      "Using SVC classifier\n",
      "\n",
      "Model performance on training data:\n",
      "              precision    recall  f1-score   support\n",
      "\n",
      "           0       0.99      0.98      0.98       334\n",
      "           1       0.98      0.99      0.99       342\n",
      "\n",
      "    accuracy                           0.99       676\n",
      "   macro avg       0.99      0.99      0.99       676\n",
      "weighted avg       0.99      0.99      0.99       676\n",
      "\n",
      "\n",
      "Model performance on test data:\n",
      "              precision    recall  f1-score   support\n",
      "\n",
      "           0       0.84      0.77      0.81       145\n",
      "           1       0.79      0.86      0.82       145\n",
      "\n",
      "    accuracy                           0.81       290\n",
      "   macro avg       0.82      0.81      0.81       290\n",
      "weighted avg       0.82      0.81      0.81       290\n",
      "\n"
     ]
    },
    {
     "data": {
      "image/png": "[encoded data removed]",
      "text/plain": [
       "<Figure size 640x480 with 2 Axes>"
      ]
     },
     "metadata": {},
     "output_type": "display_data"
    }
   ],
   "source": [
    "classify_binary_data(features_norm[:966, :], labels[:966])"
   ]
  },
  {
   "attachments": {},
   "cell_type": "markdown",
   "metadata": {
    "id": "m6ql2xKm8ZvQ"
   },
   "source": [
    "## Feature reduction with PCA Analysis"
   ]
  },
  {
   "cell_type": "code",
   "execution_count": 26,
   "metadata": {
    "id": "yRnwSm2g_ncC"
   },
   "outputs": [],
   "source": [
    "pca = PCA()"
   ]
  },
  {
   "cell_type": "code",
   "execution_count": 27,
   "metadata": {},
   "outputs": [],
   "source": [
    "features_transformed = pca.fit_transform(features_norm)"
   ]
  },
  {
   "cell_type": "code",
   "execution_count": 28,
   "metadata": {},
   "outputs": [
    {
     "data": {
      "text/plain": [
       "array([0.22770394, 0.09339879, 0.08403959, 0.047076  , 0.03723982,\n",
       "       0.03654554, 0.03157558, 0.0284056 , 0.0239571 , 0.02162725,\n",
       "       0.01950649, 0.01762397, 0.01560441, 0.01502287, 0.01290708,\n",
       "       0.01213466, 0.01056034, 0.01030328, 0.0101104 , 0.00889784,\n",
       "       0.00887255, 0.00852674, 0.00789299, 0.00748292, 0.00722138,\n",
       "       0.00692589, 0.00671426, 0.00614902, 0.00590436, 0.00587338,\n",
       "       0.00577872, 0.00548872, 0.00495402, 0.00488743, 0.00468584,\n",
       "       0.00456924, 0.00426465, 0.00422682, 0.00399483, 0.00387362])"
      ]
     },
     "execution_count": 28,
     "metadata": {},
     "output_type": "execute_result"
    }
   ],
   "source": [
    "exp_var_pca = pca.explained_variance_ratio_[:40]\n",
    "exp_var_pca"
   ]
  },
  {
   "cell_type": "code",
   "execution_count": 29,
   "metadata": {},
   "outputs": [
    {
     "data": {
      "text/plain": [
       "array([0.22770394, 0.32110272, 0.40514231, 0.45221831, 0.48945813,\n",
       "       0.52600367, 0.55757925, 0.58598485, 0.60994195, 0.6315692 ,\n",
       "       0.65107569, 0.66869966, 0.68430407, 0.69932695, 0.71223402,\n",
       "       0.72436868, 0.73492902, 0.74523231, 0.75534271, 0.76424055,\n",
       "       0.7731131 , 0.78163984, 0.78953284, 0.79701576, 0.80423714,\n",
       "       0.81116303, 0.81787729, 0.82402631, 0.82993067, 0.83580405,\n",
       "       0.84158278, 0.8470715 , 0.85202552, 0.85691295, 0.86159879,\n",
       "       0.86616803, 0.87043269, 0.87465951, 0.87865434, 0.88252796])"
      ]
     },
     "execution_count": 29,
     "metadata": {},
     "output_type": "execute_result"
    }
   ],
   "source": [
    "cum_sum_eigenvalues = np.cumsum(exp_var_pca)\n",
    "cum_sum_eigenvalues"
   ]
  },
  {
   "cell_type": "code",
   "execution_count": 30,
   "metadata": {},
   "outputs": [
    {
     "data": {
      "image/png": "[encoded data removed]",
      "text/plain": [
       "<Figure size 640x480 with 1 Axes>"
      ]
     },
     "metadata": {},
     "output_type": "display_data"
    }
   ],
   "source": [
    "plot_explained_variance(exp_var_pca)"
   ]
  },
  {
   "cell_type": "code",
   "execution_count": 31,
   "metadata": {},
   "outputs": [],
   "source": [
    "features_reduced = features_transformed[:,:40]"
   ]
  },
  {
   "cell_type": "code",
   "execution_count": 32,
   "metadata": {},
   "outputs": [
    {
     "data": {
      "text/plain": [
       "(2039, 40)"
      ]
     },
     "execution_count": 32,
     "metadata": {},
     "output_type": "execute_result"
    }
   ],
   "source": [
    "features_reduced.shape"
   ]
  },
  {
   "cell_type": "code",
   "execution_count": 33,
   "metadata": {},
   "outputs": [
    {
     "name": "stdout",
     "output_type": "stream",
     "text": [
      "Training target statistics: Counter({1: 342, 0: 334})\n",
      "Testing target statistics: Counter({1: 145, 0: 145})\n",
      "Using SVC classifier\n",
      "\n",
      "Model performance on training data:\n",
      "              precision    recall  f1-score   support\n",
      "\n",
      "           0       0.98      0.95      0.96       334\n",
      "           1       0.95      0.98      0.97       342\n",
      "\n",
      "    accuracy                           0.96       676\n",
      "   macro avg       0.96      0.96      0.96       676\n",
      "weighted avg       0.96      0.96      0.96       676\n",
      "\n",
      "\n",
      "Model performance on test data:\n",
      "              precision    recall  f1-score   support\n",
      "\n",
      "           0       0.81      0.77      0.79       145\n",
      "           1       0.78      0.82      0.80       145\n",
      "\n",
      "    accuracy                           0.80       290\n",
      "   macro avg       0.80      0.80      0.80       290\n",
      "weighted avg       0.80      0.80      0.80       290\n",
      "\n"
     ]
    },
    {
     "data": {
      "image/png": "[encoded data removed]",
      "text/plain": [
       "<Figure size 640x480 with 2 Axes>"
      ]
     },
     "metadata": {},
     "output_type": "display_data"
    }
   ],
   "source": [
    "classify_binary_data(features_reduced[:966, :], labels[:966])"
   ]
  },
  {
   "attachments": {},
   "cell_type": "markdown",
   "metadata": {},
   "source": [
    "## Oversampling the smallest class\n",
    "\n",
    "**Note**: Split the data first. Otherwise, there will be data sharing between the training and test data which will artificially increase the accuracy."
   ]
  },
  {
   "cell_type": "code",
   "execution_count": 34,
   "metadata": {},
   "outputs": [
    {
     "name": "stdout",
     "output_type": "stream",
     "text": [
      "Training target statistics: Counter({1: 1077, 0: 1077})\n",
      "Testing target statistics: Counter({1: 483, 0: 483})\n",
      "Using SVC classifier\n"
     ]
    },
    {
     "name": "stdout",
     "output_type": "stream",
     "text": [
      "\n",
      "Model performance on training data:\n",
      "              precision    recall  f1-score   support\n",
      "\n",
      "           0       0.98      0.97      0.97      1077\n",
      "           1       0.97      0.98      0.97      1077\n",
      "\n",
      "    accuracy                           0.97      2154\n",
      "   macro avg       0.97      0.97      0.97      2154\n",
      "weighted avg       0.97      0.97      0.97      2154\n",
      "\n",
      "\n",
      "Model performance on test data:\n",
      "              precision    recall  f1-score   support\n",
      "\n",
      "           0       0.93      0.80      0.86       483\n",
      "           1       0.83      0.94      0.88       483\n",
      "\n",
      "    accuracy                           0.87       966\n",
      "   macro avg       0.88      0.87      0.87       966\n",
      "weighted avg       0.88      0.87      0.87       966\n",
      "\n"
     ]
    },
    {
     "data": {
      "image/png": "[encoded data removed]",
      "text/plain": [
       "<Figure size 640x480 with 2 Axes>"
      ]
     },
     "metadata": {},
     "output_type": "display_data"
    }
   ],
   "source": [
    "classify_binary_data(features_reduced, labels, sampling='oversample')"
   ]
  },
  {
   "attachments": {},
   "cell_type": "markdown",
   "metadata": {},
   "source": [
    "## Undersampling the largest class"
   ]
  },
  {
   "cell_type": "code",
   "execution_count": 35,
   "metadata": {},
   "outputs": [
    {
     "name": "stdout",
     "output_type": "stream",
     "text": [
      "Training target statistics: Counter({0: 349, 1: 349})\n",
      "Testing target statistics: Counter({0: 130, 1: 130})\n",
      "Using SVC classifier\n",
      "\n",
      "Model performance on training data:\n"
     ]
    },
    {
     "name": "stdout",
     "output_type": "stream",
     "text": [
      "              precision    recall  f1-score   support\n",
      "\n",
      "           0       0.98      0.95      0.97       349\n",
      "           1       0.96      0.98      0.97       349\n",
      "\n",
      "    accuracy                           0.97       698\n",
      "   macro avg       0.97      0.97      0.97       698\n",
      "weighted avg       0.97      0.97      0.97       698\n",
      "\n",
      "\n",
      "Model performance on test data:\n",
      "              precision    recall  f1-score   support\n",
      "\n",
      "           0       0.88      0.81      0.84       130\n",
      "           1       0.82      0.89      0.86       130\n",
      "\n",
      "    accuracy                           0.85       260\n",
      "   macro avg       0.85      0.85      0.85       260\n",
      "weighted avg       0.85      0.85      0.85       260\n",
      "\n"
     ]
    },
    {
     "data": {
      "image/png": "[encoded data removed]",
      "text/plain": [
       "<Figure size 640x480 with 2 Axes>"
      ]
     },
     "metadata": {},
     "output_type": "display_data"
    }
   ],
   "source": [
    "classify_binary_data(features_reduced, labels, sampling='undersample')"
   ]
  },
  {
   "attachments": {},
   "cell_type": "markdown",
   "metadata": {},
   "source": [
    "## Pycaret pipeline for classification"
   ]
  },
  {
   "cell_type": "code",
   "execution_count": 36,
   "metadata": {},
   "outputs": [],
   "source": [
    "from pycaret.classification import *"
   ]
  },
  {
   "cell_type": "code",
   "execution_count": 37,
   "metadata": {},
   "outputs": [],
   "source": [
    "reduced_data = pd.DataFrame(features_reduced)\n",
    "reduced_data['labels'] = labels"
   ]
  },
  {
   "cell_type": "code",
   "execution_count": 38,
   "metadata": {},
   "outputs": [
    {
     "data": {
      "text/plain": [
       "(2039, 40)"
      ]
     },
     "execution_count": 38,
     "metadata": {},
     "output_type": "execute_result"
    }
   ],
   "source": [
    "features_reduced.shape"
   ]
  },
  {
   "cell_type": "code",
   "execution_count": 47,
   "metadata": {},
   "outputs": [
    {
     "data": {
      "text/plain": [
       "0"
      ]
     },
     "execution_count": 47,
     "metadata": {},
     "output_type": "execute_result"
    }
   ],
   "source": [
    "sum(reduced_data['labels'].isnull())"
   ]
  },
  {
   "cell_type": "code",
   "execution_count": 40,
   "metadata": {},
   "outputs": [
    {
     "data": {
      "text/plain": [
       "(2039, 41)"
      ]
     },
     "execution_count": 40,
     "metadata": {},
     "output_type": "execute_result"
    }
   ],
   "source": [
    "reduced_data.shape"
   ]
  },
  {
   "cell_type": "code",
   "execution_count": 46,
   "metadata": {},
   "outputs": [
    {
     "data": {
      "text/plain": [
       "(2028, 41)"
      ]
     },
     "execution_count": 46,
     "metadata": {},
     "output_type": "execute_result"
    }
   ],
   "source": [
    "reduced_data = reduced_data[reduced_data['labels'].notnull()]\n",
    "reduced_data.shape"
   ]
  },
  {
   "cell_type": "code",
   "execution_count": 48,
   "metadata": {},
   "outputs": [
    {
     "data": {
      "text/html": [
       "<style type=\"text/css\">\n",
       "#T_14255_row8_col1, #T_14255_row12_col1 {\n",
       "  background-color: lightgreen;\n",
       "}\n",
       "</style>\n",
       "<table id=\"T_14255\">\n",
       "  <thead>\n",
       "    <tr>\n",
       "      <th class=\"blank level0\" >&nbsp;</th>\n",
       "      <th id=\"T_14255_level0_col0\" class=\"col_heading level0 col0\" >Description</th>\n",
       "      <th id=\"T_14255_level0_col1\" class=\"col_heading level0 col1\" >Value</th>\n",
       "    </tr>\n",
       "  </thead>\n",
       "  <tbody>\n",
       "    <tr>\n",
       "      <th id=\"T_14255_level0_row0\" class=\"row_heading level0 row0\" >0</th>\n",
       "      <td id=\"T_14255_row0_col0\" class=\"data row0 col0\" >Session id</td>\n",
       "      <td id=\"T_14255_row0_col1\" class=\"data row0 col1\" >69763</td>\n",
       "    </tr>\n",
       "    <tr>\n",
       "      <th id=\"T_14255_level0_row1\" class=\"row_heading level0 row1\" >1</th>\n",
       "      <td id=\"T_14255_row1_col0\" class=\"data row1 col0\" >Target</td>\n",
       "      <td id=\"T_14255_row1_col1\" class=\"data row1 col1\" >labels</td>\n",
       "    </tr>\n",
       "    <tr>\n",
       "      <th id=\"T_14255_level0_row2\" class=\"row_heading level0 row2\" >2</th>\n",
       "      <td id=\"T_14255_row2_col0\" class=\"data row2 col0\" >Target type</td>\n",
       "      <td id=\"T_14255_row2_col1\" class=\"data row2 col1\" >Binary</td>\n",
       "    </tr>\n",
       "    <tr>\n",
       "      <th id=\"T_14255_level0_row3\" class=\"row_heading level0 row3\" >3</th>\n",
       "      <td id=\"T_14255_row3_col0\" class=\"data row3 col0\" >Original data shape</td>\n",
       "      <td id=\"T_14255_row3_col1\" class=\"data row3 col1\" >(2028, 41)</td>\n",
       "    </tr>\n",
       "    <tr>\n",
       "      <th id=\"T_14255_level0_row4\" class=\"row_heading level0 row4\" >4</th>\n",
       "      <td id=\"T_14255_row4_col0\" class=\"data row4 col0\" >Transformed data shape</td>\n",
       "      <td id=\"T_14255_row4_col1\" class=\"data row4 col1\" >(1279, 41)</td>\n",
       "    </tr>\n",
       "    <tr>\n",
       "      <th id=\"T_14255_level0_row5\" class=\"row_heading level0 row5\" >5</th>\n",
       "      <td id=\"T_14255_row5_col0\" class=\"data row5 col0\" >Transformed train set shape</td>\n",
       "      <td id=\"T_14255_row5_col1\" class=\"data row5 col1\" >(670, 41)</td>\n",
       "    </tr>\n",
       "    <tr>\n",
       "      <th id=\"T_14255_level0_row6\" class=\"row_heading level0 row6\" >6</th>\n",
       "      <td id=\"T_14255_row6_col0\" class=\"data row6 col0\" >Transformed test set shape</td>\n",
       "      <td id=\"T_14255_row6_col1\" class=\"data row6 col1\" >(609, 41)</td>\n",
       "    </tr>\n",
       "    <tr>\n",
       "      <th id=\"T_14255_level0_row7\" class=\"row_heading level0 row7\" >7</th>\n",
       "      <td id=\"T_14255_row7_col0\" class=\"data row7 col0\" >Numeric features</td>\n",
       "      <td id=\"T_14255_row7_col1\" class=\"data row7 col1\" >40</td>\n",
       "    </tr>\n",
       "    <tr>\n",
       "      <th id=\"T_14255_level0_row8\" class=\"row_heading level0 row8\" >8</th>\n",
       "      <td id=\"T_14255_row8_col0\" class=\"data row8 col0\" >Preprocess</td>\n",
       "      <td id=\"T_14255_row8_col1\" class=\"data row8 col1\" >True</td>\n",
       "    </tr>\n",
       "    <tr>\n",
       "      <th id=\"T_14255_level0_row9\" class=\"row_heading level0 row9\" >9</th>\n",
       "      <td id=\"T_14255_row9_col0\" class=\"data row9 col0\" >Imputation type</td>\n",
       "      <td id=\"T_14255_row9_col1\" class=\"data row9 col1\" >simple</td>\n",
       "    </tr>\n",
       "    <tr>\n",
       "      <th id=\"T_14255_level0_row10\" class=\"row_heading level0 row10\" >10</th>\n",
       "      <td id=\"T_14255_row10_col0\" class=\"data row10 col0\" >Numeric imputation</td>\n",
       "      <td id=\"T_14255_row10_col1\" class=\"data row10 col1\" >mean</td>\n",
       "    </tr>\n",
       "    <tr>\n",
       "      <th id=\"T_14255_level0_row11\" class=\"row_heading level0 row11\" >11</th>\n",
       "      <td id=\"T_14255_row11_col0\" class=\"data row11 col0\" >Categorical imputation</td>\n",
       "      <td id=\"T_14255_row11_col1\" class=\"data row11 col1\" >mode</td>\n",
       "    </tr>\n",
       "    <tr>\n",
       "      <th id=\"T_14255_level0_row12\" class=\"row_heading level0 row12\" >12</th>\n",
       "      <td id=\"T_14255_row12_col0\" class=\"data row12 col0\" >Fix imbalance</td>\n",
       "      <td id=\"T_14255_row12_col1\" class=\"data row12 col1\" >True</td>\n",
       "    </tr>\n",
       "    <tr>\n",
       "      <th id=\"T_14255_level0_row13\" class=\"row_heading level0 row13\" >13</th>\n",
       "      <td id=\"T_14255_row13_col0\" class=\"data row13 col0\" >Fix imbalance method</td>\n",
       "      <td id=\"T_14255_row13_col1\" class=\"data row13 col1\" >RandomUnderSampler</td>\n",
       "    </tr>\n",
       "    <tr>\n",
       "      <th id=\"T_14255_level0_row14\" class=\"row_heading level0 row14\" >14</th>\n",
       "      <td id=\"T_14255_row14_col0\" class=\"data row14 col0\" >Fold Generator</td>\n",
       "      <td id=\"T_14255_row14_col1\" class=\"data row14 col1\" >KFold</td>\n",
       "    </tr>\n",
       "    <tr>\n",
       "      <th id=\"T_14255_level0_row15\" class=\"row_heading level0 row15\" >15</th>\n",
       "      <td id=\"T_14255_row15_col0\" class=\"data row15 col0\" >Fold Number</td>\n",
       "      <td id=\"T_14255_row15_col1\" class=\"data row15 col1\" >10</td>\n",
       "    </tr>\n",
       "    <tr>\n",
       "      <th id=\"T_14255_level0_row16\" class=\"row_heading level0 row16\" >16</th>\n",
       "      <td id=\"T_14255_row16_col0\" class=\"data row16 col0\" >CPU Jobs</td>\n",
       "      <td id=\"T_14255_row16_col1\" class=\"data row16 col1\" >-1</td>\n",
       "    </tr>\n",
       "    <tr>\n",
       "      <th id=\"T_14255_level0_row17\" class=\"row_heading level0 row17\" >17</th>\n",
       "      <td id=\"T_14255_row17_col0\" class=\"data row17 col0\" >Use GPU</td>\n",
       "      <td id=\"T_14255_row17_col1\" class=\"data row17 col1\" >False</td>\n",
       "    </tr>\n",
       "    <tr>\n",
       "      <th id=\"T_14255_level0_row18\" class=\"row_heading level0 row18\" >18</th>\n",
       "      <td id=\"T_14255_row18_col0\" class=\"data row18 col0\" >Log Experiment</td>\n",
       "      <td id=\"T_14255_row18_col1\" class=\"data row18 col1\" >False</td>\n",
       "    </tr>\n",
       "    <tr>\n",
       "      <th id=\"T_14255_level0_row19\" class=\"row_heading level0 row19\" >19</th>\n",
       "      <td id=\"T_14255_row19_col0\" class=\"data row19 col0\" >Experiment Name</td>\n",
       "      <td id=\"T_14255_row19_col1\" class=\"data row19 col1\" >bbbp_classifier_chemberta2</td>\n",
       "    </tr>\n",
       "    <tr>\n",
       "      <th id=\"T_14255_level0_row20\" class=\"row_heading level0 row20\" >20</th>\n",
       "      <td id=\"T_14255_row20_col0\" class=\"data row20 col0\" >USI</td>\n",
       "      <td id=\"T_14255_row20_col1\" class=\"data row20 col1\" >0eb0</td>\n",
       "    </tr>\n",
       "  </tbody>\n",
       "</table>\n"
      ],
      "text/plain": [
       "<pandas.io.formats.style.Styler at 0x7f5cd3bbfb80>"
      ]
     },
     "metadata": {},
     "output_type": "display_data"
    },
    {
     "name": "stdout",
     "output_type": "stream",
     "text": [
      "Loading profile... Please Wait!\n",
      "Profiler Failed. No output to show, continue with modeling.\n"
     ]
    }
   ],
   "source": [
    "exp_clf101 = setup(data=reduced_data, target='labels',\n",
    "                   #preprocess=True, imputation_type='iterative',\n",
    "                   fold_strategy='kfold', fold_shuffle=True,\n",
    "                   fix_imbalance=True, fix_imbalance_method='RandomUnderSampler',\n",
    "                   normalize=False, normalize_method='robust',\n",
    "                   remove_multicollinearity=False, multicollinearity_threshold=0.9,\n",
    "                   experiment_name='bbbp_classifier_chemberta2',\n",
    "                   memory=RESULTS_DIR, profile=True,\n",
    "                   session_id=69763)"
   ]
  },
  {
   "cell_type": "code",
   "execution_count": 49,
   "metadata": {},
   "outputs": [
    {
     "data": {
      "text/html": [],
      "text/plain": [
       "<IPython.core.display.HTML object>"
      ]
     },
     "metadata": {},
     "output_type": "display_data"
    },
    {
     "data": {
      "text/html": [
       "<style type=\"text/css\">\n",
       "#T_20318 th {\n",
       "  text-align: left;\n",
       "}\n",
       "#T_20318_row0_col0, #T_20318_row0_col2, #T_20318_row0_col3, #T_20318_row0_col4, #T_20318_row1_col0, #T_20318_row1_col1, #T_20318_row1_col2, #T_20318_row1_col4, #T_20318_row1_col5, #T_20318_row1_col6, #T_20318_row1_col7, #T_20318_row2_col0, #T_20318_row2_col1, #T_20318_row2_col2, #T_20318_row2_col3, #T_20318_row2_col5, #T_20318_row2_col6, #T_20318_row2_col7, #T_20318_row3_col0, #T_20318_row3_col1, #T_20318_row3_col2, #T_20318_row3_col3, #T_20318_row3_col4, #T_20318_row3_col5, #T_20318_row3_col6, #T_20318_row3_col7, #T_20318_row4_col0, #T_20318_row4_col1, #T_20318_row4_col2, #T_20318_row4_col3, #T_20318_row4_col4, #T_20318_row4_col5, #T_20318_row4_col6, #T_20318_row4_col7, #T_20318_row5_col0, #T_20318_row5_col1, #T_20318_row5_col2, #T_20318_row5_col3, #T_20318_row5_col4, #T_20318_row5_col5, #T_20318_row5_col6, #T_20318_row5_col7, #T_20318_row6_col0, #T_20318_row6_col1, #T_20318_row6_col3, #T_20318_row6_col4, #T_20318_row6_col5, #T_20318_row6_col6, #T_20318_row6_col7, #T_20318_row7_col0, #T_20318_row7_col1, #T_20318_row7_col2, #T_20318_row7_col3, #T_20318_row7_col4, #T_20318_row7_col5, #T_20318_row7_col6, #T_20318_row7_col7, #T_20318_row8_col0, #T_20318_row8_col1, #T_20318_row8_col2, #T_20318_row8_col3, #T_20318_row8_col4, #T_20318_row8_col5, #T_20318_row8_col6, #T_20318_row8_col7, #T_20318_row9_col0, #T_20318_row9_col1, #T_20318_row9_col2, #T_20318_row9_col3, #T_20318_row9_col4, #T_20318_row9_col5, #T_20318_row9_col6, #T_20318_row9_col7, #T_20318_row10_col0, #T_20318_row10_col1, #T_20318_row10_col2, #T_20318_row10_col3, #T_20318_row10_col4, #T_20318_row10_col5, #T_20318_row10_col6, #T_20318_row10_col7, #T_20318_row11_col0, #T_20318_row11_col1, #T_20318_row11_col2, #T_20318_row11_col3, #T_20318_row11_col4, #T_20318_row11_col5, #T_20318_row11_col6, #T_20318_row11_col7, #T_20318_row12_col0, #T_20318_row12_col1, #T_20318_row12_col2, #T_20318_row12_col3, #T_20318_row12_col4, #T_20318_row12_col5, #T_20318_row12_col6, #T_20318_row12_col7, #T_20318_row13_col0, #T_20318_row13_col1, #T_20318_row13_col2, #T_20318_row13_col3, #T_20318_row13_col4, #T_20318_row13_col5, #T_20318_row13_col6, #T_20318_row13_col7 {\n",
       "  text-align: left;\n",
       "}\n",
       "#T_20318_row0_col1, #T_20318_row0_col5, #T_20318_row0_col6, #T_20318_row0_col7, #T_20318_row1_col3, #T_20318_row2_col4, #T_20318_row6_col2 {\n",
       "  text-align: left;\n",
       "  background-color: yellow;\n",
       "}\n",
       "#T_20318_row0_col8, #T_20318_row1_col8, #T_20318_row2_col8, #T_20318_row3_col8, #T_20318_row4_col8, #T_20318_row5_col8, #T_20318_row6_col8, #T_20318_row8_col8, #T_20318_row9_col8, #T_20318_row10_col8, #T_20318_row11_col8, #T_20318_row12_col8, #T_20318_row13_col8 {\n",
       "  text-align: left;\n",
       "  background-color: lightgrey;\n",
       "}\n",
       "#T_20318_row7_col8 {\n",
       "  text-align: left;\n",
       "  background-color: yellow;\n",
       "  background-color: lightgrey;\n",
       "}\n",
       "</style>\n",
       "<table id=\"T_20318\">\n",
       "  <thead>\n",
       "    <tr>\n",
       "      <th class=\"blank level0\" >&nbsp;</th>\n",
       "      <th id=\"T_20318_level0_col0\" class=\"col_heading level0 col0\" >Model</th>\n",
       "      <th id=\"T_20318_level0_col1\" class=\"col_heading level0 col1\" >Accuracy</th>\n",
       "      <th id=\"T_20318_level0_col2\" class=\"col_heading level0 col2\" >AUC</th>\n",
       "      <th id=\"T_20318_level0_col3\" class=\"col_heading level0 col3\" >Recall</th>\n",
       "      <th id=\"T_20318_level0_col4\" class=\"col_heading level0 col4\" >Prec.</th>\n",
       "      <th id=\"T_20318_level0_col5\" class=\"col_heading level0 col5\" >F1</th>\n",
       "      <th id=\"T_20318_level0_col6\" class=\"col_heading level0 col6\" >Kappa</th>\n",
       "      <th id=\"T_20318_level0_col7\" class=\"col_heading level0 col7\" >MCC</th>\n",
       "      <th id=\"T_20318_level0_col8\" class=\"col_heading level0 col8\" >TT (Sec)</th>\n",
       "    </tr>\n",
       "  </thead>\n",
       "  <tbody>\n",
       "    <tr>\n",
       "      <th id=\"T_20318_level0_row0\" class=\"row_heading level0 row0\" >et</th>\n",
       "      <td id=\"T_20318_row0_col0\" class=\"data row0 col0\" >Extra Trees Classifier</td>\n",
       "      <td id=\"T_20318_row0_col1\" class=\"data row0 col1\" >0.7858</td>\n",
       "      <td id=\"T_20318_row0_col2\" class=\"data row0 col2\" >0.7993</td>\n",
       "      <td id=\"T_20318_row0_col3\" class=\"data row0 col3\" >0.8188</td>\n",
       "      <td id=\"T_20318_row0_col4\" class=\"data row0 col4\" >0.8912</td>\n",
       "      <td id=\"T_20318_row0_col5\" class=\"data row0 col5\" >0.8531</td>\n",
       "      <td id=\"T_20318_row0_col6\" class=\"data row0 col6\" >0.4564</td>\n",
       "      <td id=\"T_20318_row0_col7\" class=\"data row0 col7\" >0.4632</td>\n",
       "      <td id=\"T_20318_row0_col8\" class=\"data row0 col8\" >0.2140</td>\n",
       "    </tr>\n",
       "    <tr>\n",
       "      <th id=\"T_20318_level0_row1\" class=\"row_heading level0 row1\" >knn</th>\n",
       "      <td id=\"T_20318_row1_col0\" class=\"data row1 col0\" >K Neighbors Classifier</td>\n",
       "      <td id=\"T_20318_row1_col1\" class=\"data row1 col1\" >0.7823</td>\n",
       "      <td id=\"T_20318_row1_col2\" class=\"data row1 col2\" >0.8001</td>\n",
       "      <td id=\"T_20318_row1_col3\" class=\"data row1 col3\" >0.8203</td>\n",
       "      <td id=\"T_20318_row1_col4\" class=\"data row1 col4\" >0.8868</td>\n",
       "      <td id=\"T_20318_row1_col5\" class=\"data row1 col5\" >0.8516</td>\n",
       "      <td id=\"T_20318_row1_col6\" class=\"data row1 col6\" >0.4430</td>\n",
       "      <td id=\"T_20318_row1_col7\" class=\"data row1 col7\" >0.4500</td>\n",
       "      <td id=\"T_20318_row1_col8\" class=\"data row1 col8\" >0.1530</td>\n",
       "    </tr>\n",
       "    <tr>\n",
       "      <th id=\"T_20318_level0_row2\" class=\"row_heading level0 row2\" >lr</th>\n",
       "      <td id=\"T_20318_row2_col0\" class=\"data row2 col0\" >Logistic Regression</td>\n",
       "      <td id=\"T_20318_row2_col1\" class=\"data row2 col1\" >0.7788</td>\n",
       "      <td id=\"T_20318_row2_col2\" class=\"data row2 col2\" >0.7905</td>\n",
       "      <td id=\"T_20318_row2_col3\" class=\"data row2 col3\" >0.8049</td>\n",
       "      <td id=\"T_20318_row2_col4\" class=\"data row2 col4\" >0.8960</td>\n",
       "      <td id=\"T_20318_row2_col5\" class=\"data row2 col5\" >0.8472</td>\n",
       "      <td id=\"T_20318_row2_col6\" class=\"data row2 col6\" >0.4490</td>\n",
       "      <td id=\"T_20318_row2_col7\" class=\"data row2 col7\" >0.4602</td>\n",
       "      <td id=\"T_20318_row2_col8\" class=\"data row2 col8\" >0.3920</td>\n",
       "    </tr>\n",
       "    <tr>\n",
       "      <th id=\"T_20318_level0_row3\" class=\"row_heading level0 row3\" >lda</th>\n",
       "      <td id=\"T_20318_row3_col0\" class=\"data row3 col0\" >Linear Discriminant Analysis</td>\n",
       "      <td id=\"T_20318_row3_col1\" class=\"data row3 col1\" >0.7766</td>\n",
       "      <td id=\"T_20318_row3_col2\" class=\"data row3 col2\" >0.7862</td>\n",
       "      <td id=\"T_20318_row3_col3\" class=\"data row3 col3\" >0.8126</td>\n",
       "      <td id=\"T_20318_row3_col4\" class=\"data row3 col4\" >0.8857</td>\n",
       "      <td id=\"T_20318_row3_col5\" class=\"data row3 col5\" >0.8469</td>\n",
       "      <td id=\"T_20318_row3_col6\" class=\"data row3 col6\" >0.4328</td>\n",
       "      <td id=\"T_20318_row3_col7\" class=\"data row3 col7\" >0.4403</td>\n",
       "      <td id=\"T_20318_row3_col8\" class=\"data row3 col8\" >0.1050</td>\n",
       "    </tr>\n",
       "    <tr>\n",
       "      <th id=\"T_20318_level0_row4\" class=\"row_heading level0 row4\" >nb</th>\n",
       "      <td id=\"T_20318_row4_col0\" class=\"data row4 col0\" >Naive Bayes</td>\n",
       "      <td id=\"T_20318_row4_col1\" class=\"data row4 col1\" >0.7682</td>\n",
       "      <td id=\"T_20318_row4_col2\" class=\"data row4 col2\" >0.7803</td>\n",
       "      <td id=\"T_20318_row4_col3\" class=\"data row4 col3\" >0.8029</td>\n",
       "      <td id=\"T_20318_row4_col4\" class=\"data row4 col4\" >0.8839</td>\n",
       "      <td id=\"T_20318_row4_col5\" class=\"data row4 col5\" >0.8409</td>\n",
       "      <td id=\"T_20318_row4_col6\" class=\"data row4 col6\" >0.4160</td>\n",
       "      <td id=\"T_20318_row4_col7\" class=\"data row4 col7\" >0.4248</td>\n",
       "      <td id=\"T_20318_row4_col8\" class=\"data row4 col8\" >0.1100</td>\n",
       "    </tr>\n",
       "    <tr>\n",
       "      <th id=\"T_20318_level0_row5\" class=\"row_heading level0 row5\" >ridge</th>\n",
       "      <td id=\"T_20318_row5_col0\" class=\"data row5 col0\" >Ridge Classifier</td>\n",
       "      <td id=\"T_20318_row5_col1\" class=\"data row5 col1\" >0.7675</td>\n",
       "      <td id=\"T_20318_row5_col2\" class=\"data row5 col2\" >0.0000</td>\n",
       "      <td id=\"T_20318_row5_col3\" class=\"data row5 col3\" >0.8010</td>\n",
       "      <td id=\"T_20318_row5_col4\" class=\"data row5 col4\" >0.8842</td>\n",
       "      <td id=\"T_20318_row5_col5\" class=\"data row5 col5\" >0.8401</td>\n",
       "      <td id=\"T_20318_row5_col6\" class=\"data row5 col6\" >0.4157</td>\n",
       "      <td id=\"T_20318_row5_col7\" class=\"data row5 col7\" >0.4241</td>\n",
       "      <td id=\"T_20318_row5_col8\" class=\"data row5 col8\" >0.1090</td>\n",
       "    </tr>\n",
       "    <tr>\n",
       "      <th id=\"T_20318_level0_row6\" class=\"row_heading level0 row6\" >rf</th>\n",
       "      <td id=\"T_20318_row6_col0\" class=\"data row6 col0\" >Random Forest Classifier</td>\n",
       "      <td id=\"T_20318_row6_col1\" class=\"data row6 col1\" >0.7688</td>\n",
       "      <td id=\"T_20318_row6_col2\" class=\"data row6 col2\" >0.8043</td>\n",
       "      <td id=\"T_20318_row6_col3\" class=\"data row6 col3\" >0.7964</td>\n",
       "      <td id=\"T_20318_row6_col4\" class=\"data row6 col4\" >0.8903</td>\n",
       "      <td id=\"T_20318_row6_col5\" class=\"data row6 col5\" >0.8398</td>\n",
       "      <td id=\"T_20318_row6_col6\" class=\"data row6 col6\" >0.4281</td>\n",
       "      <td id=\"T_20318_row6_col7\" class=\"data row6 col7\" >0.4395</td>\n",
       "      <td id=\"T_20318_row6_col8\" class=\"data row6 col8\" >0.2480</td>\n",
       "    </tr>\n",
       "    <tr>\n",
       "      <th id=\"T_20318_level0_row7\" class=\"row_heading level0 row7\" >qda</th>\n",
       "      <td id=\"T_20318_row7_col0\" class=\"data row7 col0\" >Quadratic Discriminant Analysis</td>\n",
       "      <td id=\"T_20318_row7_col1\" class=\"data row7 col1\" >0.7611</td>\n",
       "      <td id=\"T_20318_row7_col2\" class=\"data row7 col2\" >0.7884</td>\n",
       "      <td id=\"T_20318_row7_col3\" class=\"data row7 col3\" >0.7908</td>\n",
       "      <td id=\"T_20318_row7_col4\" class=\"data row7 col4\" >0.8852</td>\n",
       "      <td id=\"T_20318_row7_col5\" class=\"data row7 col5\" >0.8346</td>\n",
       "      <td id=\"T_20318_row7_col6\" class=\"data row7 col6\" >0.4084</td>\n",
       "      <td id=\"T_20318_row7_col7\" class=\"data row7 col7\" >0.4198</td>\n",
       "      <td id=\"T_20318_row7_col8\" class=\"data row7 col8\" >0.1020</td>\n",
       "    </tr>\n",
       "    <tr>\n",
       "      <th id=\"T_20318_level0_row8\" class=\"row_heading level0 row8\" >gbc</th>\n",
       "      <td id=\"T_20318_row8_col0\" class=\"data row8 col0\" >Gradient Boosting Classifier</td>\n",
       "      <td id=\"T_20318_row8_col1\" class=\"data row8 col1\" >0.7568</td>\n",
       "      <td id=\"T_20318_row8_col2\" class=\"data row8 col2\" >0.7869</td>\n",
       "      <td id=\"T_20318_row8_col3\" class=\"data row8 col3\" >0.7806</td>\n",
       "      <td id=\"T_20318_row8_col4\" class=\"data row8 col4\" >0.8880</td>\n",
       "      <td id=\"T_20318_row8_col5\" class=\"data row8 col5\" >0.8302</td>\n",
       "      <td id=\"T_20318_row8_col6\" class=\"data row8 col6\" >0.4079</td>\n",
       "      <td id=\"T_20318_row8_col7\" class=\"data row8 col7\" >0.4210</td>\n",
       "      <td id=\"T_20318_row8_col8\" class=\"data row8 col8\" >0.2380</td>\n",
       "    </tr>\n",
       "    <tr>\n",
       "      <th id=\"T_20318_level0_row9\" class=\"row_heading level0 row9\" >lightgbm</th>\n",
       "      <td id=\"T_20318_row9_col0\" class=\"data row9 col0\" >Light Gradient Boosting Machine</td>\n",
       "      <td id=\"T_20318_row9_col1\" class=\"data row9 col1\" >0.7568</td>\n",
       "      <td id=\"T_20318_row9_col2\" class=\"data row9 col2\" >0.8022</td>\n",
       "      <td id=\"T_20318_row9_col3\" class=\"data row9 col3\" >0.7753</td>\n",
       "      <td id=\"T_20318_row9_col4\" class=\"data row9 col4\" >0.8916</td>\n",
       "      <td id=\"T_20318_row9_col5\" class=\"data row9 col5\" >0.8291</td>\n",
       "      <td id=\"T_20318_row9_col6\" class=\"data row9 col6\" >0.4116</td>\n",
       "      <td id=\"T_20318_row9_col7\" class=\"data row9 col7\" >0.4254</td>\n",
       "      <td id=\"T_20318_row9_col8\" class=\"data row9 col8\" >0.1640</td>\n",
       "    </tr>\n",
       "    <tr>\n",
       "      <th id=\"T_20318_level0_row10\" class=\"row_heading level0 row10\" >ada</th>\n",
       "      <td id=\"T_20318_row10_col0\" class=\"data row10 col0\" >Ada Boost Classifier</td>\n",
       "      <td id=\"T_20318_row10_col1\" class=\"data row10 col1\" >0.6843</td>\n",
       "      <td id=\"T_20318_row10_col2\" class=\"data row10 col2\" >0.7768</td>\n",
       "      <td id=\"T_20318_row10_col3\" class=\"data row10 col3\" >0.6783</td>\n",
       "      <td id=\"T_20318_row10_col4\" class=\"data row10 col4\" >0.8836</td>\n",
       "      <td id=\"T_20318_row10_col5\" class=\"data row10 col5\" >0.7661</td>\n",
       "      <td id=\"T_20318_row10_col6\" class=\"data row10 col6\" >0.3072</td>\n",
       "      <td id=\"T_20318_row10_col7\" class=\"data row10 col7\" >0.3353</td>\n",
       "      <td id=\"T_20318_row10_col8\" class=\"data row10 col8\" >0.1680</td>\n",
       "    </tr>\n",
       "    <tr>\n",
       "      <th id=\"T_20318_level0_row11\" class=\"row_heading level0 row11\" >svm</th>\n",
       "      <td id=\"T_20318_row11_col0\" class=\"data row11 col0\" >SVM - Linear Kernel</td>\n",
       "      <td id=\"T_20318_row11_col1\" class=\"data row11 col1\" >0.6688</td>\n",
       "      <td id=\"T_20318_row11_col2\" class=\"data row11 col2\" >0.0000</td>\n",
       "      <td id=\"T_20318_row11_col3\" class=\"data row11 col3\" >0.6610</td>\n",
       "      <td id=\"T_20318_row11_col4\" class=\"data row11 col4\" >0.8717</td>\n",
       "      <td id=\"T_20318_row11_col5\" class=\"data row11 col5\" >0.7474</td>\n",
       "      <td id=\"T_20318_row11_col6\" class=\"data row11 col6\" >0.2825</td>\n",
       "      <td id=\"T_20318_row11_col7\" class=\"data row11 col7\" >0.3072</td>\n",
       "      <td id=\"T_20318_row11_col8\" class=\"data row11 col8\" >0.1090</td>\n",
       "    </tr>\n",
       "    <tr>\n",
       "      <th id=\"T_20318_level0_row12\" class=\"row_heading level0 row12\" >dt</th>\n",
       "      <td id=\"T_20318_row12_col0\" class=\"data row12 col0\" >Decision Tree Classifier</td>\n",
       "      <td id=\"T_20318_row12_col1\" class=\"data row12 col1\" >0.6631</td>\n",
       "      <td id=\"T_20318_row12_col2\" class=\"data row12 col2\" >0.6747</td>\n",
       "      <td id=\"T_20318_row12_col3\" class=\"data row12 col3\" >0.6545</td>\n",
       "      <td id=\"T_20318_row12_col4\" class=\"data row12 col4\" >0.8721</td>\n",
       "      <td id=\"T_20318_row12_col5\" class=\"data row12 col5\" >0.7470</td>\n",
       "      <td id=\"T_20318_row12_col6\" class=\"data row12 col6\" >0.2692</td>\n",
       "      <td id=\"T_20318_row12_col7\" class=\"data row12 col7\" >0.2968</td>\n",
       "      <td id=\"T_20318_row12_col8\" class=\"data row12 col8\" >0.1080</td>\n",
       "    </tr>\n",
       "    <tr>\n",
       "      <th id=\"T_20318_level0_row13\" class=\"row_heading level0 row13\" >dummy</th>\n",
       "      <td id=\"T_20318_row13_col0\" class=\"data row13 col0\" >Dummy Classifier</td>\n",
       "      <td id=\"T_20318_row13_col1\" class=\"data row13 col1\" >0.2361</td>\n",
       "      <td id=\"T_20318_row13_col2\" class=\"data row13 col2\" >0.5000</td>\n",
       "      <td id=\"T_20318_row13_col3\" class=\"data row13 col3\" >0.0000</td>\n",
       "      <td id=\"T_20318_row13_col4\" class=\"data row13 col4\" >0.0000</td>\n",
       "      <td id=\"T_20318_row13_col5\" class=\"data row13 col5\" >0.0000</td>\n",
       "      <td id=\"T_20318_row13_col6\" class=\"data row13 col6\" >0.0000</td>\n",
       "      <td id=\"T_20318_row13_col7\" class=\"data row13 col7\" >0.0000</td>\n",
       "      <td id=\"T_20318_row13_col8\" class=\"data row13 col8\" >0.1140</td>\n",
       "    </tr>\n",
       "  </tbody>\n",
       "</table>\n"
      ],
      "text/plain": [
       "<pandas.io.formats.style.Styler at 0x7f5cdc400640>"
      ]
     },
     "metadata": {},
     "output_type": "display_data"
    },
    {
     "data": {
      "text/html": [],
      "text/plain": [
       "<IPython.core.display.HTML object>"
      ]
     },
     "metadata": {},
     "output_type": "display_data"
    }
   ],
   "source": [
    "top_n = compare_models(sort='F1', n_select=2)"
   ]
  },
  {
   "attachments": {},
   "cell_type": "markdown",
   "metadata": {},
   "source": [
    "### Fine tuning best model"
   ]
  },
  {
   "cell_type": "code",
   "execution_count": 50,
   "metadata": {},
   "outputs": [
    {
     "data": {
      "text/html": [],
      "text/plain": [
       "<IPython.core.display.HTML object>"
      ]
     },
     "metadata": {},
     "output_type": "display_data"
    },
    {
     "data": {
      "text/html": [
       "<style type=\"text/css\">\n",
       "#T_4ceb7_row10_col0, #T_4ceb7_row10_col1, #T_4ceb7_row10_col2, #T_4ceb7_row10_col3, #T_4ceb7_row10_col4, #T_4ceb7_row10_col5, #T_4ceb7_row10_col6 {\n",
       "  background: yellow;\n",
       "}\n",
       "</style>\n",
       "<table id=\"T_4ceb7\">\n",
       "  <thead>\n",
       "    <tr>\n",
       "      <th class=\"blank level0\" >&nbsp;</th>\n",
       "      <th id=\"T_4ceb7_level0_col0\" class=\"col_heading level0 col0\" >Accuracy</th>\n",
       "      <th id=\"T_4ceb7_level0_col1\" class=\"col_heading level0 col1\" >AUC</th>\n",
       "      <th id=\"T_4ceb7_level0_col2\" class=\"col_heading level0 col2\" >Recall</th>\n",
       "      <th id=\"T_4ceb7_level0_col3\" class=\"col_heading level0 col3\" >Prec.</th>\n",
       "      <th id=\"T_4ceb7_level0_col4\" class=\"col_heading level0 col4\" >F1</th>\n",
       "      <th id=\"T_4ceb7_level0_col5\" class=\"col_heading level0 col5\" >Kappa</th>\n",
       "      <th id=\"T_4ceb7_level0_col6\" class=\"col_heading level0 col6\" >MCC</th>\n",
       "    </tr>\n",
       "    <tr>\n",
       "      <th class=\"index_name level0\" >Fold</th>\n",
       "      <th class=\"blank col0\" >&nbsp;</th>\n",
       "      <th class=\"blank col1\" >&nbsp;</th>\n",
       "      <th class=\"blank col2\" >&nbsp;</th>\n",
       "      <th class=\"blank col3\" >&nbsp;</th>\n",
       "      <th class=\"blank col4\" >&nbsp;</th>\n",
       "      <th class=\"blank col5\" >&nbsp;</th>\n",
       "      <th class=\"blank col6\" >&nbsp;</th>\n",
       "    </tr>\n",
       "  </thead>\n",
       "  <tbody>\n",
       "    <tr>\n",
       "      <th id=\"T_4ceb7_level0_row0\" class=\"row_heading level0 row0\" >0</th>\n",
       "      <td id=\"T_4ceb7_row0_col0\" class=\"data row0 col0\" >0.7606</td>\n",
       "      <td id=\"T_4ceb7_row0_col1\" class=\"data row0 col1\" >0.8205</td>\n",
       "      <td id=\"T_4ceb7_row0_col2\" class=\"data row0 col2\" >0.7870</td>\n",
       "      <td id=\"T_4ceb7_row0_col3\" class=\"data row0 col3\" >0.8854</td>\n",
       "      <td id=\"T_4ceb7_row0_col4\" class=\"data row0 col4\" >0.8333</td>\n",
       "      <td id=\"T_4ceb7_row0_col5\" class=\"data row0 col5\" >0.4135</td>\n",
       "      <td id=\"T_4ceb7_row0_col6\" class=\"data row0 col6\" >0.4227</td>\n",
       "    </tr>\n",
       "    <tr>\n",
       "      <th id=\"T_4ceb7_level0_row1\" class=\"row_heading level0 row1\" >1</th>\n",
       "      <td id=\"T_4ceb7_row1_col0\" class=\"data row1 col0\" >0.7465</td>\n",
       "      <td id=\"T_4ceb7_row1_col1\" class=\"data row1 col1\" >0.7794</td>\n",
       "      <td id=\"T_4ceb7_row1_col2\" class=\"data row1 col2\" >0.7748</td>\n",
       "      <td id=\"T_4ceb7_row1_col3\" class=\"data row1 col3\" >0.8866</td>\n",
       "      <td id=\"T_4ceb7_row1_col4\" class=\"data row1 col4\" >0.8269</td>\n",
       "      <td id=\"T_4ceb7_row1_col5\" class=\"data row1 col5\" >0.3612</td>\n",
       "      <td id=\"T_4ceb7_row1_col6\" class=\"data row1 col6\" >0.3728</td>\n",
       "    </tr>\n",
       "    <tr>\n",
       "      <th id=\"T_4ceb7_level0_row2\" class=\"row_heading level0 row2\" >2</th>\n",
       "      <td id=\"T_4ceb7_row2_col0\" class=\"data row2 col0\" >0.8099</td>\n",
       "      <td id=\"T_4ceb7_row2_col1\" class=\"data row2 col1\" >0.8648</td>\n",
       "      <td id=\"T_4ceb7_row2_col2\" class=\"data row2 col2\" >0.8241</td>\n",
       "      <td id=\"T_4ceb7_row2_col3\" class=\"data row2 col3\" >0.9175</td>\n",
       "      <td id=\"T_4ceb7_row2_col4\" class=\"data row2 col4\" >0.8683</td>\n",
       "      <td id=\"T_4ceb7_row2_col5\" class=\"data row2 col5\" >0.5300</td>\n",
       "      <td id=\"T_4ceb7_row2_col6\" class=\"data row2 col6\" >0.5400</td>\n",
       "    </tr>\n",
       "    <tr>\n",
       "      <th id=\"T_4ceb7_level0_row3\" class=\"row_heading level0 row3\" >3</th>\n",
       "      <td id=\"T_4ceb7_row3_col0\" class=\"data row3 col0\" >0.7746</td>\n",
       "      <td id=\"T_4ceb7_row3_col1\" class=\"data row3 col1\" >0.8412</td>\n",
       "      <td id=\"T_4ceb7_row3_col2\" class=\"data row3 col2\" >0.8000</td>\n",
       "      <td id=\"T_4ceb7_row3_col3\" class=\"data row3 col3\" >0.8980</td>\n",
       "      <td id=\"T_4ceb7_row3_col4\" class=\"data row3 col4\" >0.8462</td>\n",
       "      <td id=\"T_4ceb7_row3_col5\" class=\"data row3 col5\" >0.4303</td>\n",
       "      <td id=\"T_4ceb7_row3_col6\" class=\"data row3 col6\" >0.4405</td>\n",
       "    </tr>\n",
       "    <tr>\n",
       "      <th id=\"T_4ceb7_level0_row4\" class=\"row_heading level0 row4\" >4</th>\n",
       "      <td id=\"T_4ceb7_row4_col0\" class=\"data row4 col0\" >0.7535</td>\n",
       "      <td id=\"T_4ceb7_row4_col1\" class=\"data row4 col1\" >0.8221</td>\n",
       "      <td id=\"T_4ceb7_row4_col2\" class=\"data row4 col2\" >0.7876</td>\n",
       "      <td id=\"T_4ceb7_row4_col3\" class=\"data row4 col3\" >0.8900</td>\n",
       "      <td id=\"T_4ceb7_row4_col4\" class=\"data row4 col4\" >0.8357</td>\n",
       "      <td id=\"T_4ceb7_row4_col5\" class=\"data row4 col5\" >0.3500</td>\n",
       "      <td id=\"T_4ceb7_row4_col6\" class=\"data row4 col6\" >0.3607</td>\n",
       "    </tr>\n",
       "    <tr>\n",
       "      <th id=\"T_4ceb7_level0_row5\" class=\"row_heading level0 row5\" >5</th>\n",
       "      <td id=\"T_4ceb7_row5_col0\" class=\"data row5 col0\" >0.7958</td>\n",
       "      <td id=\"T_4ceb7_row5_col1\" class=\"data row5 col1\" >0.7967</td>\n",
       "      <td id=\"T_4ceb7_row5_col2\" class=\"data row5 col2\" >0.8246</td>\n",
       "      <td id=\"T_4ceb7_row5_col3\" class=\"data row5 col3\" >0.9126</td>\n",
       "      <td id=\"T_4ceb7_row5_col4\" class=\"data row5 col4\" >0.8664</td>\n",
       "      <td id=\"T_4ceb7_row5_col5\" class=\"data row5 col5\" >0.4382</td>\n",
       "      <td id=\"T_4ceb7_row5_col6\" class=\"data row5 col6\" >0.4485</td>\n",
       "    </tr>\n",
       "    <tr>\n",
       "      <th id=\"T_4ceb7_level0_row6\" class=\"row_heading level0 row6\" >6</th>\n",
       "      <td id=\"T_4ceb7_row6_col0\" class=\"data row6 col0\" >0.7324</td>\n",
       "      <td id=\"T_4ceb7_row6_col1\" class=\"data row6 col1\" >0.7717</td>\n",
       "      <td id=\"T_4ceb7_row6_col2\" class=\"data row6 col2\" >0.7714</td>\n",
       "      <td id=\"T_4ceb7_row6_col3\" class=\"data row6 col3\" >0.8526</td>\n",
       "      <td id=\"T_4ceb7_row6_col4\" class=\"data row6 col4\" >0.8100</td>\n",
       "      <td id=\"T_4ceb7_row6_col5\" class=\"data row6 col5\" >0.3614</td>\n",
       "      <td id=\"T_4ceb7_row6_col6\" class=\"data row6 col6\" >0.3666</td>\n",
       "    </tr>\n",
       "    <tr>\n",
       "      <th id=\"T_4ceb7_level0_row7\" class=\"row_heading level0 row7\" >7</th>\n",
       "      <td id=\"T_4ceb7_row7_col0\" class=\"data row7 col0\" >0.7465</td>\n",
       "      <td id=\"T_4ceb7_row7_col1\" class=\"data row7 col1\" >0.7851</td>\n",
       "      <td id=\"T_4ceb7_row7_col2\" class=\"data row7 col2\" >0.8056</td>\n",
       "      <td id=\"T_4ceb7_row7_col3\" class=\"data row7 col3\" >0.8529</td>\n",
       "      <td id=\"T_4ceb7_row7_col4\" class=\"data row7 col4\" >0.8286</td>\n",
       "      <td id=\"T_4ceb7_row7_col5\" class=\"data row7 col5\" >0.3436</td>\n",
       "      <td id=\"T_4ceb7_row7_col6\" class=\"data row7 col6\" >0.3457</td>\n",
       "    </tr>\n",
       "    <tr>\n",
       "      <th id=\"T_4ceb7_level0_row8\" class=\"row_heading level0 row8\" >8</th>\n",
       "      <td id=\"T_4ceb7_row8_col0\" class=\"data row8 col0\" >0.7113</td>\n",
       "      <td id=\"T_4ceb7_row8_col1\" class=\"data row8 col1\" >0.7059</td>\n",
       "      <td id=\"T_4ceb7_row8_col2\" class=\"data row8 col2\" >0.7864</td>\n",
       "      <td id=\"T_4ceb7_row8_col3\" class=\"data row8 col3\" >0.8100</td>\n",
       "      <td id=\"T_4ceb7_row8_col4\" class=\"data row8 col4\" >0.7980</td>\n",
       "      <td id=\"T_4ceb7_row8_col5\" class=\"data row8 col5\" >0.2922</td>\n",
       "      <td id=\"T_4ceb7_row8_col6\" class=\"data row8 col6\" >0.2926</td>\n",
       "    </tr>\n",
       "    <tr>\n",
       "      <th id=\"T_4ceb7_level0_row9\" class=\"row_heading level0 row9\" >9</th>\n",
       "      <td id=\"T_4ceb7_row9_col0\" class=\"data row9 col0\" >0.7163</td>\n",
       "      <td id=\"T_4ceb7_row9_col1\" class=\"data row9 col1\" >0.7540</td>\n",
       "      <td id=\"T_4ceb7_row9_col2\" class=\"data row9 col2\" >0.7692</td>\n",
       "      <td id=\"T_4ceb7_row9_col3\" class=\"data row9 col3\" >0.8333</td>\n",
       "      <td id=\"T_4ceb7_row9_col4\" class=\"data row9 col4\" >0.8000</td>\n",
       "      <td id=\"T_4ceb7_row9_col5\" class=\"data row9 col5\" >0.3149</td>\n",
       "      <td id=\"T_4ceb7_row9_col6\" class=\"data row9 col6\" >0.3179</td>\n",
       "    </tr>\n",
       "    <tr>\n",
       "      <th id=\"T_4ceb7_level0_row10\" class=\"row_heading level0 row10\" >Mean</th>\n",
       "      <td id=\"T_4ceb7_row10_col0\" class=\"data row10 col0\" >0.7547</td>\n",
       "      <td id=\"T_4ceb7_row10_col1\" class=\"data row10 col1\" >0.7941</td>\n",
       "      <td id=\"T_4ceb7_row10_col2\" class=\"data row10 col2\" >0.7931</td>\n",
       "      <td id=\"T_4ceb7_row10_col3\" class=\"data row10 col3\" >0.8739</td>\n",
       "      <td id=\"T_4ceb7_row10_col4\" class=\"data row10 col4\" >0.8313</td>\n",
       "      <td id=\"T_4ceb7_row10_col5\" class=\"data row10 col5\" >0.3835</td>\n",
       "      <td id=\"T_4ceb7_row10_col6\" class=\"data row10 col6\" >0.3908</td>\n",
       "    </tr>\n",
       "    <tr>\n",
       "      <th id=\"T_4ceb7_level0_row11\" class=\"row_heading level0 row11\" >Std</th>\n",
       "      <td id=\"T_4ceb7_row11_col0\" class=\"data row11 col0\" >0.0303</td>\n",
       "      <td id=\"T_4ceb7_row11_col1\" class=\"data row11 col1\" >0.0435</td>\n",
       "      <td id=\"T_4ceb7_row11_col2\" class=\"data row11 col2\" >0.0191</td>\n",
       "      <td id=\"T_4ceb7_row11_col3\" class=\"data row11 col3\" >0.0334</td>\n",
       "      <td id=\"T_4ceb7_row11_col4\" class=\"data row11 col4\" >0.0233</td>\n",
       "      <td id=\"T_4ceb7_row11_col5\" class=\"data row11 col5\" >0.0666</td>\n",
       "      <td id=\"T_4ceb7_row11_col6\" class=\"data row11 col6\" >0.0692</td>\n",
       "    </tr>\n",
       "  </tbody>\n",
       "</table>\n"
      ],
      "text/plain": [
       "<pandas.io.formats.style.Styler at 0x7f5cd32bb3d0>"
      ]
     },
     "metadata": {},
     "output_type": "display_data"
    },
    {
     "data": {
      "text/html": [],
      "text/plain": [
       "<IPython.core.display.HTML object>"
      ]
     },
     "metadata": {},
     "output_type": "display_data"
    }
   ],
   "source": [
    "best_model = create_model('et')"
   ]
  },
  {
   "cell_type": "code",
   "execution_count": 51,
   "metadata": {},
   "outputs": [
    {
     "data": {
      "text/html": [],
      "text/plain": [
       "<IPython.core.display.HTML object>"
      ]
     },
     "metadata": {},
     "output_type": "display_data"
    },
    {
     "data": {
      "text/html": [
       "<style type=\"text/css\">\n",
       "#T_ab66e_row10_col0, #T_ab66e_row10_col1, #T_ab66e_row10_col2, #T_ab66e_row10_col3, #T_ab66e_row10_col4, #T_ab66e_row10_col5, #T_ab66e_row10_col6 {\n",
       "  background: yellow;\n",
       "}\n",
       "</style>\n",
       "<table id=\"T_ab66e\">\n",
       "  <thead>\n",
       "    <tr>\n",
       "      <th class=\"blank level0\" >&nbsp;</th>\n",
       "      <th id=\"T_ab66e_level0_col0\" class=\"col_heading level0 col0\" >Accuracy</th>\n",
       "      <th id=\"T_ab66e_level0_col1\" class=\"col_heading level0 col1\" >AUC</th>\n",
       "      <th id=\"T_ab66e_level0_col2\" class=\"col_heading level0 col2\" >Recall</th>\n",
       "      <th id=\"T_ab66e_level0_col3\" class=\"col_heading level0 col3\" >Prec.</th>\n",
       "      <th id=\"T_ab66e_level0_col4\" class=\"col_heading level0 col4\" >F1</th>\n",
       "      <th id=\"T_ab66e_level0_col5\" class=\"col_heading level0 col5\" >Kappa</th>\n",
       "      <th id=\"T_ab66e_level0_col6\" class=\"col_heading level0 col6\" >MCC</th>\n",
       "    </tr>\n",
       "    <tr>\n",
       "      <th class=\"index_name level0\" >Fold</th>\n",
       "      <th class=\"blank col0\" >&nbsp;</th>\n",
       "      <th class=\"blank col1\" >&nbsp;</th>\n",
       "      <th class=\"blank col2\" >&nbsp;</th>\n",
       "      <th class=\"blank col3\" >&nbsp;</th>\n",
       "      <th class=\"blank col4\" >&nbsp;</th>\n",
       "      <th class=\"blank col5\" >&nbsp;</th>\n",
       "      <th class=\"blank col6\" >&nbsp;</th>\n",
       "    </tr>\n",
       "  </thead>\n",
       "  <tbody>\n",
       "    <tr>\n",
       "      <th id=\"T_ab66e_level0_row0\" class=\"row_heading level0 row0\" >0</th>\n",
       "      <td id=\"T_ab66e_row0_col0\" class=\"data row0 col0\" >0.7606</td>\n",
       "      <td id=\"T_ab66e_row0_col1\" class=\"data row0 col1\" >0.7579</td>\n",
       "      <td id=\"T_ab66e_row0_col2\" class=\"data row0 col2\" >0.8519</td>\n",
       "      <td id=\"T_ab66e_row0_col3\" class=\"data row0 col3\" >0.8364</td>\n",
       "      <td id=\"T_ab66e_row0_col4\" class=\"data row0 col4\" >0.8440</td>\n",
       "      <td id=\"T_ab66e_row0_col5\" class=\"data row0 col5\" >0.3291</td>\n",
       "      <td id=\"T_ab66e_row0_col6\" class=\"data row0 col6\" >0.3293</td>\n",
       "    </tr>\n",
       "    <tr>\n",
       "      <th id=\"T_ab66e_level0_row1\" class=\"row_heading level0 row1\" >1</th>\n",
       "      <td id=\"T_ab66e_row1_col0\" class=\"data row1 col0\" >0.8310</td>\n",
       "      <td id=\"T_ab66e_row1_col1\" class=\"data row1 col1\" >0.7716</td>\n",
       "      <td id=\"T_ab66e_row1_col2\" class=\"data row1 col2\" >0.9009</td>\n",
       "      <td id=\"T_ab66e_row1_col3\" class=\"data row1 col3\" >0.8850</td>\n",
       "      <td id=\"T_ab66e_row1_col4\" class=\"data row1 col4\" >0.8929</td>\n",
       "      <td id=\"T_ab66e_row1_col5\" class=\"data row1 col5\" >0.4930</td>\n",
       "      <td id=\"T_ab66e_row1_col6\" class=\"data row1 col6\" >0.4934</td>\n",
       "    </tr>\n",
       "    <tr>\n",
       "      <th id=\"T_ab66e_level0_row2\" class=\"row_heading level0 row2\" >2</th>\n",
       "      <td id=\"T_ab66e_row2_col0\" class=\"data row2 col0\" >0.8099</td>\n",
       "      <td id=\"T_ab66e_row2_col1\" class=\"data row2 col1\" >0.7993</td>\n",
       "      <td id=\"T_ab66e_row2_col2\" class=\"data row2 col2\" >0.9074</td>\n",
       "      <td id=\"T_ab66e_row2_col3\" class=\"data row2 col3\" >0.8522</td>\n",
       "      <td id=\"T_ab66e_row2_col4\" class=\"data row2 col4\" >0.8789</td>\n",
       "      <td id=\"T_ab66e_row2_col5\" class=\"data row2 col5\" >0.4383</td>\n",
       "      <td id=\"T_ab66e_row2_col6\" class=\"data row2 col6\" >0.4430</td>\n",
       "    </tr>\n",
       "    <tr>\n",
       "      <th id=\"T_ab66e_level0_row3\" class=\"row_heading level0 row3\" >3</th>\n",
       "      <td id=\"T_ab66e_row3_col0\" class=\"data row3 col0\" >0.8310</td>\n",
       "      <td id=\"T_ab66e_row3_col1\" class=\"data row3 col1\" >0.8091</td>\n",
       "      <td id=\"T_ab66e_row3_col2\" class=\"data row3 col2\" >0.8818</td>\n",
       "      <td id=\"T_ab66e_row3_col3\" class=\"data row3 col3\" >0.8981</td>\n",
       "      <td id=\"T_ab66e_row3_col4\" class=\"data row3 col4\" >0.8899</td>\n",
       "      <td id=\"T_ab66e_row3_col5\" class=\"data row3 col5\" >0.5264</td>\n",
       "      <td id=\"T_ab66e_row3_col6\" class=\"data row3 col6\" >0.5268</td>\n",
       "    </tr>\n",
       "    <tr>\n",
       "      <th id=\"T_ab66e_level0_row4\" class=\"row_heading level0 row4\" >4</th>\n",
       "      <td id=\"T_ab66e_row4_col0\" class=\"data row4 col0\" >0.8169</td>\n",
       "      <td id=\"T_ab66e_row4_col1\" class=\"data row4 col1\" >0.8529</td>\n",
       "      <td id=\"T_ab66e_row4_col2\" class=\"data row4 col2\" >0.8584</td>\n",
       "      <td id=\"T_ab66e_row4_col3\" class=\"data row4 col3\" >0.9065</td>\n",
       "      <td id=\"T_ab66e_row4_col4\" class=\"data row4 col4\" >0.8818</td>\n",
       "      <td id=\"T_ab66e_row4_col5\" class=\"data row4 col5\" >0.4769</td>\n",
       "      <td id=\"T_ab66e_row4_col6\" class=\"data row4 col6\" >0.4804</td>\n",
       "    </tr>\n",
       "    <tr>\n",
       "      <th id=\"T_ab66e_level0_row5\" class=\"row_heading level0 row5\" >5</th>\n",
       "      <td id=\"T_ab66e_row5_col0\" class=\"data row5 col0\" >0.8239</td>\n",
       "      <td id=\"T_ab66e_row5_col1\" class=\"data row5 col1\" >0.7682</td>\n",
       "      <td id=\"T_ab66e_row5_col2\" class=\"data row5 col2\" >0.8772</td>\n",
       "      <td id=\"T_ab66e_row5_col3\" class=\"data row5 col3\" >0.9009</td>\n",
       "      <td id=\"T_ab66e_row5_col4\" class=\"data row5 col4\" >0.8889</td>\n",
       "      <td id=\"T_ab66e_row5_col5\" class=\"data row5 col5\" >0.4655</td>\n",
       "      <td id=\"T_ab66e_row5_col6\" class=\"data row5 col6\" >0.4665</td>\n",
       "    </tr>\n",
       "    <tr>\n",
       "      <th id=\"T_ab66e_level0_row6\" class=\"row_heading level0 row6\" >6</th>\n",
       "      <td id=\"T_ab66e_row6_col0\" class=\"data row6 col0\" >0.7817</td>\n",
       "      <td id=\"T_ab66e_row6_col1\" class=\"data row6 col1\" >0.7367</td>\n",
       "      <td id=\"T_ab66e_row6_col2\" class=\"data row6 col2\" >0.8857</td>\n",
       "      <td id=\"T_ab66e_row6_col3\" class=\"data row6 col3\" >0.8304</td>\n",
       "      <td id=\"T_ab66e_row6_col4\" class=\"data row6 col4\" >0.8571</td>\n",
       "      <td id=\"T_ab66e_row6_col5\" class=\"data row6 col5\" >0.3965</td>\n",
       "      <td id=\"T_ab66e_row6_col6\" class=\"data row6 col6\" >0.4002</td>\n",
       "    </tr>\n",
       "    <tr>\n",
       "      <th id=\"T_ab66e_level0_row7\" class=\"row_heading level0 row7\" >7</th>\n",
       "      <td id=\"T_ab66e_row7_col0\" class=\"data row7 col0\" >0.7817</td>\n",
       "      <td id=\"T_ab66e_row7_col1\" class=\"data row7 col1\" >0.7059</td>\n",
       "      <td id=\"T_ab66e_row7_col2\" class=\"data row7 col2\" >0.8519</td>\n",
       "      <td id=\"T_ab66e_row7_col3\" class=\"data row7 col3\" >0.8598</td>\n",
       "      <td id=\"T_ab66e_row7_col4\" class=\"data row7 col4\" >0.8558</td>\n",
       "      <td id=\"T_ab66e_row7_col5\" class=\"data row7 col5\" >0.4066</td>\n",
       "      <td id=\"T_ab66e_row7_col6\" class=\"data row7 col6\" >0.4067</td>\n",
       "    </tr>\n",
       "    <tr>\n",
       "      <th id=\"T_ab66e_level0_row8\" class=\"row_heading level0 row8\" >8</th>\n",
       "      <td id=\"T_ab66e_row8_col0\" class=\"data row8 col0\" >0.7817</td>\n",
       "      <td id=\"T_ab66e_row8_col1\" class=\"data row8 col1\" >0.7530</td>\n",
       "      <td id=\"T_ab66e_row8_col2\" class=\"data row8 col2\" >0.8932</td>\n",
       "      <td id=\"T_ab66e_row8_col3\" class=\"data row8 col3\" >0.8214</td>\n",
       "      <td id=\"T_ab66e_row8_col4\" class=\"data row8 col4\" >0.8558</td>\n",
       "      <td id=\"T_ab66e_row8_col5\" class=\"data row8 col5\" >0.4098</td>\n",
       "      <td id=\"T_ab66e_row8_col6\" class=\"data row8 col6\" >0.4159</td>\n",
       "    </tr>\n",
       "    <tr>\n",
       "      <th id=\"T_ab66e_level0_row9\" class=\"row_heading level0 row9\" >9</th>\n",
       "      <td id=\"T_ab66e_row9_col0\" class=\"data row9 col0\" >0.8582</td>\n",
       "      <td id=\"T_ab66e_row9_col1\" class=\"data row9 col1\" >0.8386</td>\n",
       "      <td id=\"T_ab66e_row9_col2\" class=\"data row9 col2\" >0.9519</td>\n",
       "      <td id=\"T_ab66e_row9_col3\" class=\"data row9 col3\" >0.8684</td>\n",
       "      <td id=\"T_ab66e_row9_col4\" class=\"data row9 col4\" >0.9083</td>\n",
       "      <td id=\"T_ab66e_row9_col5\" class=\"data row9 col5\" >0.5986</td>\n",
       "      <td id=\"T_ab66e_row9_col6\" class=\"data row9 col6\" >0.6111</td>\n",
       "    </tr>\n",
       "    <tr>\n",
       "      <th id=\"T_ab66e_level0_row10\" class=\"row_heading level0 row10\" >Mean</th>\n",
       "      <td id=\"T_ab66e_row10_col0\" class=\"data row10 col0\" >0.8076</td>\n",
       "      <td id=\"T_ab66e_row10_col1\" class=\"data row10 col1\" >0.7793</td>\n",
       "      <td id=\"T_ab66e_row10_col2\" class=\"data row10 col2\" >0.8860</td>\n",
       "      <td id=\"T_ab66e_row10_col3\" class=\"data row10 col3\" >0.8659</td>\n",
       "      <td id=\"T_ab66e_row10_col4\" class=\"data row10 col4\" >0.8753</td>\n",
       "      <td id=\"T_ab66e_row10_col5\" class=\"data row10 col5\" >0.4541</td>\n",
       "      <td id=\"T_ab66e_row10_col6\" class=\"data row10 col6\" >0.4573</td>\n",
       "    </tr>\n",
       "    <tr>\n",
       "      <th id=\"T_ab66e_level0_row11\" class=\"row_heading level0 row11\" >Std</th>\n",
       "      <td id=\"T_ab66e_row11_col0\" class=\"data row11 col0\" >0.0287</td>\n",
       "      <td id=\"T_ab66e_row11_col1\" class=\"data row11 col1\" >0.0433</td>\n",
       "      <td id=\"T_ab66e_row11_col2\" class=\"data row11 col2\" >0.0288</td>\n",
       "      <td id=\"T_ab66e_row11_col3\" class=\"data row11 col3\" >0.0294</td>\n",
       "      <td id=\"T_ab66e_row11_col4\" class=\"data row11 col4\" >0.0198</td>\n",
       "      <td id=\"T_ab66e_row11_col5\" class=\"data row11 col5\" >0.0719</td>\n",
       "      <td id=\"T_ab66e_row11_col6\" class=\"data row11 col6\" >0.0738</td>\n",
       "    </tr>\n",
       "  </tbody>\n",
       "</table>\n"
      ],
      "text/plain": [
       "<pandas.io.formats.style.Styler at 0x7f5d34472260>"
      ]
     },
     "metadata": {},
     "output_type": "display_data"
    },
    {
     "data": {
      "text/html": [],
      "text/plain": [
       "<IPython.core.display.HTML object>"
      ]
     },
     "metadata": {},
     "output_type": "display_data"
    },
    {
     "name": "stdout",
     "output_type": "stream",
     "text": [
      "Fitting 10 folds for each of 10 candidates, totalling 100 fits\n"
     ]
    }
   ],
   "source": [
    "tuned_model = tune_model(best_model, optimize='F1')"
   ]
  },
  {
   "cell_type": "code",
   "execution_count": 52,
   "metadata": {},
   "outputs": [
    {
     "data": {
      "text/html": [],
      "text/plain": [
       "<IPython.core.display.HTML object>"
      ]
     },
     "metadata": {},
     "output_type": "display_data"
    },
    {
     "data": {
      "image/png": "[encoded data removed]",
      "text/plain": [
       "<Figure size 800x550 with 1 Axes>"
      ]
     },
     "metadata": {},
     "output_type": "display_data"
    }
   ],
   "source": [
    "plot_model(tuned_model, plot = 'auc')"
   ]
  },
  {
   "cell_type": "code",
   "execution_count": 53,
   "metadata": {},
   "outputs": [
    {
     "data": {
      "text/html": [],
      "text/plain": [
       "<IPython.core.display.HTML object>"
      ]
     },
     "metadata": {},
     "output_type": "display_data"
    },
    {
     "data": {
      "image/png": "[encoded data removed]",
      "text/plain": [
       "<Figure size 800x550 with 1 Axes>"
      ]
     },
     "metadata": {},
     "output_type": "display_data"
    }
   ],
   "source": [
    "plot_model(tuned_model, plot = 'pr')"
   ]
  },
  {
   "cell_type": "code",
   "execution_count": 54,
   "metadata": {},
   "outputs": [
    {
     "data": {
      "text/html": [],
      "text/plain": [
       "<IPython.core.display.HTML object>"
      ]
     },
     "metadata": {},
     "output_type": "display_data"
    },
    {
     "data": {
      "image/png": "[encoded data removed]",
      "text/plain": [
       "<Figure size 800x500 with 1 Axes>"
      ]
     },
     "metadata": {},
     "output_type": "display_data"
    }
   ],
   "source": [
    "plot = plot_model(tuned_model, plot='feature')"
   ]
  },
  {
   "cell_type": "code",
   "execution_count": 55,
   "metadata": {},
   "outputs": [
    {
     "data": {
      "text/html": [],
      "text/plain": [
       "<IPython.core.display.HTML object>"
      ]
     },
     "metadata": {},
     "output_type": "display_data"
    },
    {
     "data": {
      "image/png": "[encoded data removed]",
      "text/plain": [
       "<Figure size 800x550 with 1 Axes>"
      ]
     },
     "metadata": {},
     "output_type": "display_data"
    }
   ],
   "source": [
    "plot_model(tuned_model, plot = 'confusion_matrix')"
   ]
  },
  {
   "cell_type": "code",
   "execution_count": 56,
   "metadata": {
    "scrolled": false
   },
   "outputs": [
    {
     "data": {
      "application/vnd.jupyter.widget-view+json": {
       "model_id": "e07b938eabd44ca1a518920836697ad5",
       "version_major": 2,
       "version_minor": 0
      },
      "text/plain": [
       "interactive(children=(ToggleButtons(description='Plot Type:', icons=('',), options=(('Pipeline Plot', 'pipelin…"
      ]
     },
     "metadata": {},
     "output_type": "display_data"
    }
   ],
   "source": [
    "evaluate_model(tuned_model)"
   ]
  },
  {
   "cell_type": "code",
   "execution_count": null,
   "metadata": {},
   "outputs": [],
   "source": [
    "#final_model = finalize_model(tuned_model)\n",
    "#print(final_model)"
   ]
  },
  {
   "cell_type": "code",
   "execution_count": null,
   "metadata": {},
   "outputs": [],
   "source": []
  }
 ],
 "metadata": {
  "accelerator": "TPU",
  "colab": {
   "machine_shape": "hm",
   "provenance": []
  },
  "kernelspec": {
   "display_name": "Python 3 (ipykernel)",
   "language": "python",
   "name": "python3"
  },
  "language_info": {
   "codemirror_mode": {
    "name": "ipython",
    "version": 3
   },
   "file_extension": ".py",
   "mimetype": "text/x-python",
   "name": "python",
   "nbconvert_exporter": "python",
   "pygments_lexer": "ipython3",
   "version": "3.10.6"
  },
  "widgets": {
   "application/vnd.jupyter.widget-state+json": {
    "0030fbbac62e4a3080da57ad65f8566c": {
     "model_module": "@jupyter-widgets/controls",
     "model_module_version": "1.5.0",
     "model_name": "ProgressStyleModel",
     "state": {
      "_model_module": "@jupyter-widgets/controls",
      "_model_module_version": "1.5.0",
      "_model_name": "ProgressStyleModel",
      "_view_count": null,
      "_view_module": "@jupyter-widgets/base",
      "_view_module_version": "1.2.0",
      "_view_name": "StyleView",
      "bar_color": null,
      "description_width": ""
     }
    },
    "055439f636fa4f2d9091e04f9e07ef0a": {
     "model_module": "@jupyter-widgets/controls",
     "model_module_version": "1.5.0",
     "model_name": "HTMLModel",
     "state": {
      "_dom_classes": [],
      "_model_module": "@jupyter-widgets/controls",
      "_model_module_version": "1.5.0",
      "_model_name": "HTMLModel",
      "_view_count": null,
      "_view_module": "@jupyter-widgets/controls",
      "_view_module_version": "1.5.0",
      "_view_name": "HTMLView",
      "description": "",
      "description_tooltip": null,
      "layout": "IPY_MODEL_b22312c90cd9453cac241a6bea9c380e",
      "placeholder": "​",
      "style": "IPY_MODEL_95821da205e64fe78aff6fec0a52ddb6",
      "value": " 670/670 [00:00&lt;00:00, 68.7kB/s]"
     }
    },
    "08b342b1e0e545b7a8e083386444a7c7": {
     "model_module": "@jupyter-widgets/base",
     "model_module_version": "1.2.0",
     "model_name": "LayoutModel",
     "state": {
      "_model_module": "@jupyter-widgets/base",
      "_model_module_version": "1.2.0",
      "_model_name": "LayoutModel",
      "_view_count": null,
      "_view_module": "@jupyter-widgets/base",
      "_view_module_version": "1.2.0",
      "_view_name": "LayoutView",
      "align_content": null,
      "align_items": null,
      "align_self": null,
      "border": null,
      "bottom": null,
      "display": null,
      "flex": null,
      "flex_flow": null,
      "grid_area": null,
      "grid_auto_columns": null,
      "grid_auto_flow": null,
      "grid_auto_rows": null,
      "grid_column": null,
      "grid_gap": null,
      "grid_row": null,
      "grid_template_areas": null,
      "grid_template_columns": null,
      "grid_template_rows": null,
      "height": null,
      "justify_content": null,
      "justify_items": null,
      "left": null,
      "margin": null,
      "max_height": null,
      "max_width": null,
      "min_height": null,
      "min_width": null,
      "object_fit": null,
      "object_position": null,
      "order": null,
      "overflow": null,
      "overflow_x": null,
      "overflow_y": null,
      "padding": null,
      "right": null,
      "top": null,
      "visibility": null,
      "width": null
     }
    },
    "0a90dd980cc541ce87dc2d20299396e1": {
     "model_module": "@jupyter-widgets/controls",
     "model_module_version": "1.5.0",
     "model_name": "HTMLModel",
     "state": {
      "_dom_classes": [],
      "_model_module": "@jupyter-widgets/controls",
      "_model_module_version": "1.5.0",
      "_model_name": "HTMLModel",
      "_view_count": null,
      "_view_module": "@jupyter-widgets/controls",
      "_view_module_version": "1.5.0",
      "_view_name": "HTMLView",
      "description": "",
      "description_tooltip": null,
      "layout": "IPY_MODEL_398108b46cd2431e9ea398aada6584a5",
      "placeholder": "​",
      "style": "IPY_MODEL_6e0fecfc69344e0195620c8f9eaaf2a1",
      "value": "Downloading (…)cial_tokens_map.json: 100%"
     }
    },
    "0c13a41ae9834fff8463c00c24c554a6": {
     "model_module": "@jupyter-widgets/controls",
     "model_module_version": "1.5.0",
     "model_name": "HBoxModel",
     "state": {
      "_dom_classes": [],
      "_model_module": "@jupyter-widgets/controls",
      "_model_module_version": "1.5.0",
      "_model_name": "HBoxModel",
      "_view_count": null,
      "_view_module": "@jupyter-widgets/controls",
      "_view_module_version": "1.5.0",
      "_view_name": "HBoxView",
      "box_style": "",
      "children": [
       "IPY_MODEL_b960464ab32a4fc88c0be0c77afb84fa",
       "IPY_MODEL_7e6b3f44176e45f38e0852bb933b5b0e",
       "IPY_MODEL_2c5a074d84ad4358bb091ecd225c0908"
      ],
      "layout": "IPY_MODEL_c8e7591baac84fe7ab6db89d0d588cd2"
     }
    },
    "0c804d3052de49a696552861120d2851": {
     "model_module": "@jupyter-widgets/base",
     "model_module_version": "1.2.0",
     "model_name": "LayoutModel",
     "state": {
      "_model_module": "@jupyter-widgets/base",
      "_model_module_version": "1.2.0",
      "_model_name": "LayoutModel",
      "_view_count": null,
      "_view_module": "@jupyter-widgets/base",
      "_view_module_version": "1.2.0",
      "_view_name": "LayoutView",
      "align_content": null,
      "align_items": null,
      "align_self": null,
      "border": null,
      "bottom": null,
      "display": null,
      "flex": null,
      "flex_flow": null,
      "grid_area": null,
      "grid_auto_columns": null,
      "grid_auto_flow": null,
      "grid_auto_rows": null,
      "grid_column": null,
      "grid_gap": null,
      "grid_row": null,
      "grid_template_areas": null,
      "grid_template_columns": null,
      "grid_template_rows": null,
      "height": null,
      "justify_content": null,
      "justify_items": null,
      "left": null,
      "margin": null,
      "max_height": null,
      "max_width": null,
      "min_height": null,
      "min_width": null,
      "object_fit": null,
      "object_position": null,
      "order": null,
      "overflow": null,
      "overflow_x": null,
      "overflow_y": null,
      "padding": null,
      "right": null,
      "top": null,
      "visibility": null,
      "width": null
     }
    },
    "11f2f14be684474494a1f7deaca19896": {
     "model_module": "@jupyter-widgets/controls",
     "model_module_version": "1.5.0",
     "model_name": "DescriptionStyleModel",
     "state": {
      "_model_module": "@jupyter-widgets/controls",
      "_model_module_version": "1.5.0",
      "_model_name": "DescriptionStyleModel",
      "_view_count": null,
      "_view_module": "@jupyter-widgets/base",
      "_view_module_version": "1.2.0",
      "_view_name": "StyleView",
      "description_width": ""
     }
    },
    "1b8488c5d4274335ba6dc8d678b8dbbe": {
     "model_module": "@jupyter-widgets/controls",
     "model_module_version": "1.5.0",
     "model_name": "HTMLModel",
     "state": {
      "_dom_classes": [],
      "_model_module": "@jupyter-widgets/controls",
      "_model_module_version": "1.5.0",
      "_model_name": "HTMLModel",
      "_view_count": null,
      "_view_module": "@jupyter-widgets/controls",
      "_view_module_version": "1.5.0",
      "_view_name": "HTMLView",
      "description": "",
      "description_tooltip": null,
      "layout": "IPY_MODEL_378a670d67c141caabb012f02a216859",
      "placeholder": "​",
      "style": "IPY_MODEL_1f24f6262d354cc1b83bb6df761f8d95",
      "value": "Downloading (…)olve/main/vocab.json: 100%"
     }
    },
    "1be46621513b4344b14b2cba3dabbf94": {
     "model_module": "@jupyter-widgets/base",
     "model_module_version": "1.2.0",
     "model_name": "LayoutModel",
     "state": {
      "_model_module": "@jupyter-widgets/base",
      "_model_module_version": "1.2.0",
      "_model_name": "LayoutModel",
      "_view_count": null,
      "_view_module": "@jupyter-widgets/base",
      "_view_module_version": "1.2.0",
      "_view_name": "LayoutView",
      "align_content": null,
      "align_items": null,
      "align_self": null,
      "border": null,
      "bottom": null,
      "display": null,
      "flex": null,
      "flex_flow": null,
      "grid_area": null,
      "grid_auto_columns": null,
      "grid_auto_flow": null,
      "grid_auto_rows": null,
      "grid_column": null,
      "grid_gap": null,
      "grid_row": null,
      "grid_template_areas": null,
      "grid_template_columns": null,
      "grid_template_rows": null,
      "height": null,
      "justify_content": null,
      "justify_items": null,
      "left": null,
      "margin": null,
      "max_height": null,
      "max_width": null,
      "min_height": null,
      "min_width": null,
      "object_fit": null,
      "object_position": null,
      "order": null,
      "overflow": null,
      "overflow_x": null,
      "overflow_y": null,
      "padding": null,
      "right": null,
      "top": null,
      "visibility": null,
      "width": null
     }
    },
    "1f24f6262d354cc1b83bb6df761f8d95": {
     "model_module": "@jupyter-widgets/controls",
     "model_module_version": "1.5.0",
     "model_name": "DescriptionStyleModel",
     "state": {
      "_model_module": "@jupyter-widgets/controls",
      "_model_module_version": "1.5.0",
      "_model_name": "DescriptionStyleModel",
      "_view_count": null,
      "_view_module": "@jupyter-widgets/base",
      "_view_module_version": "1.2.0",
      "_view_name": "StyleView",
      "description_width": ""
     }
    },
    "20d72d8868234307a26639476fb31603": {
     "model_module": "@jupyter-widgets/controls",
     "model_module_version": "1.5.0",
     "model_name": "DescriptionStyleModel",
     "state": {
      "_model_module": "@jupyter-widgets/controls",
      "_model_module_version": "1.5.0",
      "_model_name": "DescriptionStyleModel",
      "_view_count": null,
      "_view_module": "@jupyter-widgets/base",
      "_view_module_version": "1.2.0",
      "_view_name": "StyleView",
      "description_width": ""
     }
    },
    "29299875dc95492db4198a01baca8359": {
     "model_module": "@jupyter-widgets/controls",
     "model_module_version": "1.5.0",
     "model_name": "DescriptionStyleModel",
     "state": {
      "_model_module": "@jupyter-widgets/controls",
      "_model_module_version": "1.5.0",
      "_model_name": "DescriptionStyleModel",
      "_view_count": null,
      "_view_module": "@jupyter-widgets/base",
      "_view_module_version": "1.2.0",
      "_view_name": "StyleView",
      "description_width": ""
     }
    },
    "296a55f6f4e241d8a0e100d6b7f5bf55": {
     "model_module": "@jupyter-widgets/controls",
     "model_module_version": "1.5.0",
     "model_name": "FloatProgressModel",
     "state": {
      "_dom_classes": [],
      "_model_module": "@jupyter-widgets/controls",
      "_model_module_version": "1.5.0",
      "_model_name": "FloatProgressModel",
      "_view_count": null,
      "_view_module": "@jupyter-widgets/controls",
      "_view_module_version": "1.5.0",
      "_view_name": "ProgressView",
      "bar_style": "success",
      "description": "",
      "description_tooltip": null,
      "layout": "IPY_MODEL_e5118923e52e4d27a9dc2b4b39029427",
      "max": 957,
      "min": 0,
      "orientation": "horizontal",
      "style": "IPY_MODEL_8f15ed83cf0047bbb497d43d15eab915",
      "value": 957
     }
    },
    "2b0b6cfe5ca04f838502d4fcd8e331fb": {
     "model_module": "@jupyter-widgets/base",
     "model_module_version": "1.2.0",
     "model_name": "LayoutModel",
     "state": {
      "_model_module": "@jupyter-widgets/base",
      "_model_module_version": "1.2.0",
      "_model_name": "LayoutModel",
      "_view_count": null,
      "_view_module": "@jupyter-widgets/base",
      "_view_module_version": "1.2.0",
      "_view_name": "LayoutView",
      "align_content": null,
      "align_items": null,
      "align_self": null,
      "border": null,
      "bottom": null,
      "display": null,
      "flex": null,
      "flex_flow": null,
      "grid_area": null,
      "grid_auto_columns": null,
      "grid_auto_flow": null,
      "grid_auto_rows": null,
      "grid_column": null,
      "grid_gap": null,
      "grid_row": null,
      "grid_template_areas": null,
      "grid_template_columns": null,
      "grid_template_rows": null,
      "height": null,
      "justify_content": null,
      "justify_items": null,
      "left": null,
      "margin": null,
      "max_height": null,
      "max_width": null,
      "min_height": null,
      "min_width": null,
      "object_fit": null,
      "object_position": null,
      "order": null,
      "overflow": null,
      "overflow_x": null,
      "overflow_y": null,
      "padding": null,
      "right": null,
      "top": null,
      "visibility": null,
      "width": null
     }
    },
    "2c5a074d84ad4358bb091ecd225c0908": {
     "model_module": "@jupyter-widgets/controls",
     "model_module_version": "1.5.0",
     "model_name": "HTMLModel",
     "state": {
      "_dom_classes": [],
      "_model_module": "@jupyter-widgets/controls",
      "_model_module_version": "1.5.0",
      "_model_name": "HTMLModel",
      "_view_count": null,
      "_view_module": "@jupyter-widgets/controls",
      "_view_module_version": "1.5.0",
      "_view_name": "HTMLView",
      "description": "",
      "description_tooltip": null,
      "layout": "IPY_MODEL_dd149c1ee35f46f1917f1396ceab6611",
      "placeholder": "​",
      "style": "IPY_MODEL_5a9fc59b78fb44039daa160cb30cff14",
      "value": " 198M/198M [00:00&lt;00:00, 242MB/s]"
     }
    },
    "3285c7a4726b490787b39bcf53b15766": {
     "model_module": "@jupyter-widgets/controls",
     "model_module_version": "1.5.0",
     "model_name": "HTMLModel",
     "state": {
      "_dom_classes": [],
      "_model_module": "@jupyter-widgets/controls",
      "_model_module_version": "1.5.0",
      "_model_name": "HTMLModel",
      "_view_count": null,
      "_view_module": "@jupyter-widgets/controls",
      "_view_module_version": "1.5.0",
      "_view_name": "HTMLView",
      "description": "",
      "description_tooltip": null,
      "layout": "IPY_MODEL_803e2389cf2f4e5aa05156bf5a6b2413",
      "placeholder": "​",
      "style": "IPY_MODEL_29299875dc95492db4198a01baca8359",
      "value": "Downloading (…)okenizer_config.json: 100%"
     }
    },
    "378a670d67c141caabb012f02a216859": {
     "model_module": "@jupyter-widgets/base",
     "model_module_version": "1.2.0",
     "model_name": "LayoutModel",
     "state": {
      "_model_module": "@jupyter-widgets/base",
      "_model_module_version": "1.2.0",
      "_model_name": "LayoutModel",
      "_view_count": null,
      "_view_module": "@jupyter-widgets/base",
      "_view_module_version": "1.2.0",
      "_view_name": "LayoutView",
      "align_content": null,
      "align_items": null,
      "align_self": null,
      "border": null,
      "bottom": null,
      "display": null,
      "flex": null,
      "flex_flow": null,
      "grid_area": null,
      "grid_auto_columns": null,
      "grid_auto_flow": null,
      "grid_auto_rows": null,
      "grid_column": null,
      "grid_gap": null,
      "grid_row": null,
      "grid_template_areas": null,
      "grid_template_columns": null,
      "grid_template_rows": null,
      "height": null,
      "justify_content": null,
      "justify_items": null,
      "left": null,
      "margin": null,
      "max_height": null,
      "max_width": null,
      "min_height": null,
      "min_width": null,
      "object_fit": null,
      "object_position": null,
      "order": null,
      "overflow": null,
      "overflow_x": null,
      "overflow_y": null,
      "padding": null,
      "right": null,
      "top": null,
      "visibility": null,
      "width": null
     }
    },
    "398108b46cd2431e9ea398aada6584a5": {
     "model_module": "@jupyter-widgets/base",
     "model_module_version": "1.2.0",
     "model_name": "LayoutModel",
     "state": {
      "_model_module": "@jupyter-widgets/base",
      "_model_module_version": "1.2.0",
      "_model_name": "LayoutModel",
      "_view_count": null,
      "_view_module": "@jupyter-widgets/base",
      "_view_module_version": "1.2.0",
      "_view_name": "LayoutView",
      "align_content": null,
      "align_items": null,
      "align_self": null,
      "border": null,
      "bottom": null,
      "display": null,
      "flex": null,
      "flex_flow": null,
      "grid_area": null,
      "grid_auto_columns": null,
      "grid_auto_flow": null,
      "grid_auto_rows": null,
      "grid_column": null,
      "grid_gap": null,
      "grid_row": null,
      "grid_template_areas": null,
      "grid_template_columns": null,
      "grid_template_rows": null,
      "height": null,
      "justify_content": null,
      "justify_items": null,
      "left": null,
      "margin": null,
      "max_height": null,
      "max_width": null,
      "min_height": null,
      "min_width": null,
      "object_fit": null,
      "object_position": null,
      "order": null,
      "overflow": null,
      "overflow_x": null,
      "overflow_y": null,
      "padding": null,
      "right": null,
      "top": null,
      "visibility": null,
      "width": null
     }
    },
    "3ae86bc492aa4de0bb3ef889ef56b4a5": {
     "model_module": "@jupyter-widgets/base",
     "model_module_version": "1.2.0",
     "model_name": "LayoutModel",
     "state": {
      "_model_module": "@jupyter-widgets/base",
      "_model_module_version": "1.2.0",
      "_model_name": "LayoutModel",
      "_view_count": null,
      "_view_module": "@jupyter-widgets/base",
      "_view_module_version": "1.2.0",
      "_view_name": "LayoutView",
      "align_content": null,
      "align_items": null,
      "align_self": null,
      "border": null,
      "bottom": null,
      "display": null,
      "flex": null,
      "flex_flow": null,
      "grid_area": null,
      "grid_auto_columns": null,
      "grid_auto_flow": null,
      "grid_auto_rows": null,
      "grid_column": null,
      "grid_gap": null,
      "grid_row": null,
      "grid_template_areas": null,
      "grid_template_columns": null,
      "grid_template_rows": null,
      "height": null,
      "justify_content": null,
      "justify_items": null,
      "left": null,
      "margin": null,
      "max_height": null,
      "max_width": null,
      "min_height": null,
      "min_width": null,
      "object_fit": null,
      "object_position": null,
      "order": null,
      "overflow": null,
      "overflow_x": null,
      "overflow_y": null,
      "padding": null,
      "right": null,
      "top": null,
      "visibility": null,
      "width": null
     }
    },
    "4f9db88babf043bd991d3d92dfa4d366": {
     "model_module": "@jupyter-widgets/controls",
     "model_module_version": "1.5.0",
     "model_name": "FloatProgressModel",
     "state": {
      "_dom_classes": [],
      "_model_module": "@jupyter-widgets/controls",
      "_model_module_version": "1.5.0",
      "_model_name": "FloatProgressModel",
      "_view_count": null,
      "_view_module": "@jupyter-widgets/controls",
      "_view_module_version": "1.5.0",
      "_view_name": "ProgressView",
      "bar_style": "success",
      "description": "",
      "description_tooltip": null,
      "layout": "IPY_MODEL_5de046d2fb5b400ebe204b9ce9a5a5cb",
      "max": 180391,
      "min": 0,
      "orientation": "horizontal",
      "style": "IPY_MODEL_eb989c9b96b6446fa50715999eebb858",
      "value": 180391
     }
    },
    "5a9fc59b78fb44039daa160cb30cff14": {
     "model_module": "@jupyter-widgets/controls",
     "model_module_version": "1.5.0",
     "model_name": "DescriptionStyleModel",
     "state": {
      "_model_module": "@jupyter-widgets/controls",
      "_model_module_version": "1.5.0",
      "_model_name": "DescriptionStyleModel",
      "_view_count": null,
      "_view_module": "@jupyter-widgets/base",
      "_view_module_version": "1.2.0",
      "_view_name": "StyleView",
      "description_width": ""
     }
    },
    "5de046d2fb5b400ebe204b9ce9a5a5cb": {
     "model_module": "@jupyter-widgets/base",
     "model_module_version": "1.2.0",
     "model_name": "LayoutModel",
     "state": {
      "_model_module": "@jupyter-widgets/base",
      "_model_module_version": "1.2.0",
      "_model_name": "LayoutModel",
      "_view_count": null,
      "_view_module": "@jupyter-widgets/base",
      "_view_module_version": "1.2.0",
      "_view_name": "LayoutView",
      "align_content": null,
      "align_items": null,
      "align_self": null,
      "border": null,
      "bottom": null,
      "display": null,
      "flex": null,
      "flex_flow": null,
      "grid_area": null,
      "grid_auto_columns": null,
      "grid_auto_flow": null,
      "grid_auto_rows": null,
      "grid_column": null,
      "grid_gap": null,
      "grid_row": null,
      "grid_template_areas": null,
      "grid_template_columns": null,
      "grid_template_rows": null,
      "height": null,
      "justify_content": null,
      "justify_items": null,
      "left": null,
      "margin": null,
      "max_height": null,
      "max_width": null,
      "min_height": null,
      "min_width": null,
      "object_fit": null,
      "object_position": null,
      "order": null,
      "overflow": null,
      "overflow_x": null,
      "overflow_y": null,
      "padding": null,
      "right": null,
      "top": null,
      "visibility": null,
      "width": null
     }
    },
    "6e0fecfc69344e0195620c8f9eaaf2a1": {
     "model_module": "@jupyter-widgets/controls",
     "model_module_version": "1.5.0",
     "model_name": "DescriptionStyleModel",
     "state": {
      "_model_module": "@jupyter-widgets/controls",
      "_model_module_version": "1.5.0",
      "_model_name": "DescriptionStyleModel",
      "_view_count": null,
      "_view_module": "@jupyter-widgets/base",
      "_view_module_version": "1.2.0",
      "_view_name": "StyleView",
      "description_width": ""
     }
    },
    "7226fbcb04cf4601b45cbc2a3605c22d": {
     "model_module": "@jupyter-widgets/base",
     "model_module_version": "1.2.0",
     "model_name": "LayoutModel",
     "state": {
      "_model_module": "@jupyter-widgets/base",
      "_model_module_version": "1.2.0",
      "_model_name": "LayoutModel",
      "_view_count": null,
      "_view_module": "@jupyter-widgets/base",
      "_view_module_version": "1.2.0",
      "_view_name": "LayoutView",
      "align_content": null,
      "align_items": null,
      "align_self": null,
      "border": null,
      "bottom": null,
      "display": null,
      "flex": null,
      "flex_flow": null,
      "grid_area": null,
      "grid_auto_columns": null,
      "grid_auto_flow": null,
      "grid_auto_rows": null,
      "grid_column": null,
      "grid_gap": null,
      "grid_row": null,
      "grid_template_areas": null,
      "grid_template_columns": null,
      "grid_template_rows": null,
      "height": null,
      "justify_content": null,
      "justify_items": null,
      "left": null,
      "margin": null,
      "max_height": null,
      "max_width": null,
      "min_height": null,
      "min_width": null,
      "object_fit": null,
      "object_position": null,
      "order": null,
      "overflow": null,
      "overflow_x": null,
      "overflow_y": null,
      "padding": null,
      "right": null,
      "top": null,
      "visibility": null,
      "width": null
     }
    },
    "723e1ebf82bb43dd9ad9e18d06ca92f7": {
     "model_module": "@jupyter-widgets/controls",
     "model_module_version": "1.5.0",
     "model_name": "HTMLModel",
     "state": {
      "_dom_classes": [],
      "_model_module": "@jupyter-widgets/controls",
      "_model_module_version": "1.5.0",
      "_model_name": "HTMLModel",
      "_view_count": null,
      "_view_module": "@jupyter-widgets/controls",
      "_view_module_version": "1.5.0",
      "_view_name": "HTMLView",
      "description": "",
      "description_tooltip": null,
      "layout": "IPY_MODEL_3ae86bc492aa4de0bb3ef889ef56b4a5",
      "placeholder": "​",
      "style": "IPY_MODEL_8840e99459714602a8e58bec183a7a56",
      "value": "Downloading (…)lve/main/config.json: 100%"
     }
    },
    "7355f3cf1bdb414c9e80ef2effa419cd": {
     "model_module": "@jupyter-widgets/controls",
     "model_module_version": "1.5.0",
     "model_name": "ProgressStyleModel",
     "state": {
      "_model_module": "@jupyter-widgets/controls",
      "_model_module_version": "1.5.0",
      "_model_name": "ProgressStyleModel",
      "_view_count": null,
      "_view_module": "@jupyter-widgets/base",
      "_view_module_version": "1.2.0",
      "_view_name": "StyleView",
      "bar_color": null,
      "description_width": ""
     }
    },
    "78004500f3db4816b52abe38e06026a9": {
     "model_module": "@jupyter-widgets/base",
     "model_module_version": "1.2.0",
     "model_name": "LayoutModel",
     "state": {
      "_model_module": "@jupyter-widgets/base",
      "_model_module_version": "1.2.0",
      "_model_name": "LayoutModel",
      "_view_count": null,
      "_view_module": "@jupyter-widgets/base",
      "_view_module_version": "1.2.0",
      "_view_name": "LayoutView",
      "align_content": null,
      "align_items": null,
      "align_self": null,
      "border": null,
      "bottom": null,
      "display": null,
      "flex": null,
      "flex_flow": null,
      "grid_area": null,
      "grid_auto_columns": null,
      "grid_auto_flow": null,
      "grid_auto_rows": null,
      "grid_column": null,
      "grid_gap": null,
      "grid_row": null,
      "grid_template_areas": null,
      "grid_template_columns": null,
      "grid_template_rows": null,
      "height": null,
      "justify_content": null,
      "justify_items": null,
      "left": null,
      "margin": null,
      "max_height": null,
      "max_width": null,
      "min_height": null,
      "min_width": null,
      "object_fit": null,
      "object_position": null,
      "order": null,
      "overflow": null,
      "overflow_x": null,
      "overflow_y": null,
      "padding": null,
      "right": null,
      "top": null,
      "visibility": null,
      "width": null
     }
    },
    "7e6b3f44176e45f38e0852bb933b5b0e": {
     "model_module": "@jupyter-widgets/controls",
     "model_module_version": "1.5.0",
     "model_name": "FloatProgressModel",
     "state": {
      "_dom_classes": [],
      "_model_module": "@jupyter-widgets/controls",
      "_model_module_version": "1.5.0",
      "_model_name": "FloatProgressModel",
      "_view_count": null,
      "_view_module": "@jupyter-widgets/controls",
      "_view_module_version": "1.5.0",
      "_view_name": "ProgressView",
      "bar_style": "success",
      "description": "",
      "description_tooltip": null,
      "layout": "IPY_MODEL_1be46621513b4344b14b2cba3dabbf94",
      "max": 198472697,
      "min": 0,
      "orientation": "horizontal",
      "style": "IPY_MODEL_e16e440c9cb54ab7899b687205aeaeda",
      "value": 198472697
     }
    },
    "803e2389cf2f4e5aa05156bf5a6b2413": {
     "model_module": "@jupyter-widgets/base",
     "model_module_version": "1.2.0",
     "model_name": "LayoutModel",
     "state": {
      "_model_module": "@jupyter-widgets/base",
      "_model_module_version": "1.2.0",
      "_model_name": "LayoutModel",
      "_view_count": null,
      "_view_module": "@jupyter-widgets/base",
      "_view_module_version": "1.2.0",
      "_view_name": "LayoutView",
      "align_content": null,
      "align_items": null,
      "align_self": null,
      "border": null,
      "bottom": null,
      "display": null,
      "flex": null,
      "flex_flow": null,
      "grid_area": null,
      "grid_auto_columns": null,
      "grid_auto_flow": null,
      "grid_auto_rows": null,
      "grid_column": null,
      "grid_gap": null,
      "grid_row": null,
      "grid_template_areas": null,
      "grid_template_columns": null,
      "grid_template_rows": null,
      "height": null,
      "justify_content": null,
      "justify_items": null,
      "left": null,
      "margin": null,
      "max_height": null,
      "max_width": null,
      "min_height": null,
      "min_width": null,
      "object_fit": null,
      "object_position": null,
      "order": null,
      "overflow": null,
      "overflow_x": null,
      "overflow_y": null,
      "padding": null,
      "right": null,
      "top": null,
      "visibility": null,
      "width": null
     }
    },
    "8636d895acac45d5a7fa2d6dc9d0b1c1": {
     "model_module": "@jupyter-widgets/controls",
     "model_module_version": "1.5.0",
     "model_name": "HBoxModel",
     "state": {
      "_dom_classes": [],
      "_model_module": "@jupyter-widgets/controls",
      "_model_module_version": "1.5.0",
      "_model_name": "HBoxModel",
      "_view_count": null,
      "_view_module": "@jupyter-widgets/controls",
      "_view_module_version": "1.5.0",
      "_view_name": "HBoxView",
      "box_style": "",
      "children": [
       "IPY_MODEL_0a90dd980cc541ce87dc2d20299396e1",
       "IPY_MODEL_296a55f6f4e241d8a0e100d6b7f5bf55",
       "IPY_MODEL_a3d5cbc31b6f429a976251a8e00b4c54"
      ],
      "layout": "IPY_MODEL_cd1a613970554a10bfafb67f160a2f3f"
     }
    },
    "865b9754e4a440d8931b6a9e7abdd048": {
     "model_module": "@jupyter-widgets/controls",
     "model_module_version": "1.5.0",
     "model_name": "FloatProgressModel",
     "state": {
      "_dom_classes": [],
      "_model_module": "@jupyter-widgets/controls",
      "_model_module_version": "1.5.0",
      "_model_name": "FloatProgressModel",
      "_view_count": null,
      "_view_module": "@jupyter-widgets/controls",
      "_view_module_version": "1.5.0",
      "_view_name": "ProgressView",
      "bar_style": "success",
      "description": "",
      "description_tooltip": null,
      "layout": "IPY_MODEL_78004500f3db4816b52abe38e06026a9",
      "max": 101307,
      "min": 0,
      "orientation": "horizontal",
      "style": "IPY_MODEL_0030fbbac62e4a3080da57ad65f8566c",
      "value": 101307
     }
    },
    "8840e99459714602a8e58bec183a7a56": {
     "model_module": "@jupyter-widgets/controls",
     "model_module_version": "1.5.0",
     "model_name": "DescriptionStyleModel",
     "state": {
      "_model_module": "@jupyter-widgets/controls",
      "_model_module_version": "1.5.0",
      "_model_name": "DescriptionStyleModel",
      "_view_count": null,
      "_view_module": "@jupyter-widgets/base",
      "_view_module_version": "1.2.0",
      "_view_name": "StyleView",
      "description_width": ""
     }
    },
    "8f15ed83cf0047bbb497d43d15eab915": {
     "model_module": "@jupyter-widgets/controls",
     "model_module_version": "1.5.0",
     "model_name": "ProgressStyleModel",
     "state": {
      "_model_module": "@jupyter-widgets/controls",
      "_model_module_version": "1.5.0",
      "_model_name": "ProgressStyleModel",
      "_view_count": null,
      "_view_module": "@jupyter-widgets/base",
      "_view_module_version": "1.2.0",
      "_view_name": "StyleView",
      "bar_color": null,
      "description_width": ""
     }
    },
    "922f06228cc24a81b7ea7ac76421df83": {
     "model_module": "@jupyter-widgets/controls",
     "model_module_version": "1.5.0",
     "model_name": "DescriptionStyleModel",
     "state": {
      "_model_module": "@jupyter-widgets/controls",
      "_model_module_version": "1.5.0",
      "_model_name": "DescriptionStyleModel",
      "_view_count": null,
      "_view_module": "@jupyter-widgets/base",
      "_view_module_version": "1.2.0",
      "_view_name": "StyleView",
      "description_width": ""
     }
    },
    "95821da205e64fe78aff6fec0a52ddb6": {
     "model_module": "@jupyter-widgets/controls",
     "model_module_version": "1.5.0",
     "model_name": "DescriptionStyleModel",
     "state": {
      "_model_module": "@jupyter-widgets/controls",
      "_model_module_version": "1.5.0",
      "_model_name": "DescriptionStyleModel",
      "_view_count": null,
      "_view_module": "@jupyter-widgets/base",
      "_view_module_version": "1.2.0",
      "_view_name": "StyleView",
      "description_width": ""
     }
    },
    "9f4ed1fe109b4bacbca5cf589bea2b81": {
     "model_module": "@jupyter-widgets/base",
     "model_module_version": "1.2.0",
     "model_name": "LayoutModel",
     "state": {
      "_model_module": "@jupyter-widgets/base",
      "_model_module_version": "1.2.0",
      "_model_name": "LayoutModel",
      "_view_count": null,
      "_view_module": "@jupyter-widgets/base",
      "_view_module_version": "1.2.0",
      "_view_name": "LayoutView",
      "align_content": null,
      "align_items": null,
      "align_self": null,
      "border": null,
      "bottom": null,
      "display": null,
      "flex": null,
      "flex_flow": null,
      "grid_area": null,
      "grid_auto_columns": null,
      "grid_auto_flow": null,
      "grid_auto_rows": null,
      "grid_column": null,
      "grid_gap": null,
      "grid_row": null,
      "grid_template_areas": null,
      "grid_template_columns": null,
      "grid_template_rows": null,
      "height": null,
      "justify_content": null,
      "justify_items": null,
      "left": null,
      "margin": null,
      "max_height": null,
      "max_width": null,
      "min_height": null,
      "min_width": null,
      "object_fit": null,
      "object_position": null,
      "order": null,
      "overflow": null,
      "overflow_x": null,
      "overflow_y": null,
      "padding": null,
      "right": null,
      "top": null,
      "visibility": null,
      "width": null
     }
    },
    "a05ffb185a9c47bcb0a3047333067b0d": {
     "model_module": "@jupyter-widgets/base",
     "model_module_version": "1.2.0",
     "model_name": "LayoutModel",
     "state": {
      "_model_module": "@jupyter-widgets/base",
      "_model_module_version": "1.2.0",
      "_model_name": "LayoutModel",
      "_view_count": null,
      "_view_module": "@jupyter-widgets/base",
      "_view_module_version": "1.2.0",
      "_view_name": "LayoutView",
      "align_content": null,
      "align_items": null,
      "align_self": null,
      "border": null,
      "bottom": null,
      "display": null,
      "flex": null,
      "flex_flow": null,
      "grid_area": null,
      "grid_auto_columns": null,
      "grid_auto_flow": null,
      "grid_auto_rows": null,
      "grid_column": null,
      "grid_gap": null,
      "grid_row": null,
      "grid_template_areas": null,
      "grid_template_columns": null,
      "grid_template_rows": null,
      "height": null,
      "justify_content": null,
      "justify_items": null,
      "left": null,
      "margin": null,
      "max_height": null,
      "max_width": null,
      "min_height": null,
      "min_width": null,
      "object_fit": null,
      "object_position": null,
      "order": null,
      "overflow": null,
      "overflow_x": null,
      "overflow_y": null,
      "padding": null,
      "right": null,
      "top": null,
      "visibility": null,
      "width": null
     }
    },
    "a10748f379b64b0cb59a5742c8e9639d": {
     "model_module": "@jupyter-widgets/base",
     "model_module_version": "1.2.0",
     "model_name": "LayoutModel",
     "state": {
      "_model_module": "@jupyter-widgets/base",
      "_model_module_version": "1.2.0",
      "_model_name": "LayoutModel",
      "_view_count": null,
      "_view_module": "@jupyter-widgets/base",
      "_view_module_version": "1.2.0",
      "_view_name": "LayoutView",
      "align_content": null,
      "align_items": null,
      "align_self": null,
      "border": null,
      "bottom": null,
      "display": null,
      "flex": null,
      "flex_flow": null,
      "grid_area": null,
      "grid_auto_columns": null,
      "grid_auto_flow": null,
      "grid_auto_rows": null,
      "grid_column": null,
      "grid_gap": null,
      "grid_row": null,
      "grid_template_areas": null,
      "grid_template_columns": null,
      "grid_template_rows": null,
      "height": null,
      "justify_content": null,
      "justify_items": null,
      "left": null,
      "margin": null,
      "max_height": null,
      "max_width": null,
      "min_height": null,
      "min_width": null,
      "object_fit": null,
      "object_position": null,
      "order": null,
      "overflow": null,
      "overflow_x": null,
      "overflow_y": null,
      "padding": null,
      "right": null,
      "top": null,
      "visibility": null,
      "width": null
     }
    },
    "a3d5cbc31b6f429a976251a8e00b4c54": {
     "model_module": "@jupyter-widgets/controls",
     "model_module_version": "1.5.0",
     "model_name": "HTMLModel",
     "state": {
      "_dom_classes": [],
      "_model_module": "@jupyter-widgets/controls",
      "_model_module_version": "1.5.0",
      "_model_name": "HTMLModel",
      "_view_count": null,
      "_view_module": "@jupyter-widgets/controls",
      "_view_module_version": "1.5.0",
      "_view_name": "HTMLView",
      "description": "",
      "description_tooltip": null,
      "layout": "IPY_MODEL_9f4ed1fe109b4bacbca5cf589bea2b81",
      "placeholder": "​",
      "style": "IPY_MODEL_ef9a82e86658488c811f02d6c65bdd51",
      "value": " 957/957 [00:00&lt;00:00, 98.1kB/s]"
     }
    },
    "a4286e79402141b983fb9c55c4336956": {
     "model_module": "@jupyter-widgets/controls",
     "model_module_version": "1.5.0",
     "model_name": "HBoxModel",
     "state": {
      "_dom_classes": [],
      "_model_module": "@jupyter-widgets/controls",
      "_model_module_version": "1.5.0",
      "_model_name": "HBoxModel",
      "_view_count": null,
      "_view_module": "@jupyter-widgets/controls",
      "_view_module_version": "1.5.0",
      "_view_name": "HBoxView",
      "box_style": "",
      "children": [
       "IPY_MODEL_3285c7a4726b490787b39bcf53b15766",
       "IPY_MODEL_df889bf082b049caa096edb0989545a7",
       "IPY_MODEL_d149ea70322345d4a3a3067c35f7194e"
      ],
      "layout": "IPY_MODEL_08b342b1e0e545b7a8e083386444a7c7"
     }
    },
    "a8240eecebd840c9b2b651cd17844943": {
     "model_module": "@jupyter-widgets/controls",
     "model_module_version": "1.5.0",
     "model_name": "HBoxModel",
     "state": {
      "_dom_classes": [],
      "_model_module": "@jupyter-widgets/controls",
      "_model_module_version": "1.5.0",
      "_model_name": "HBoxModel",
      "_view_count": null,
      "_view_module": "@jupyter-widgets/controls",
      "_view_module_version": "1.5.0",
      "_view_name": "HBoxView",
      "box_style": "",
      "children": [
       "IPY_MODEL_af6ba051204e4ebfbf76e6a12053cea9",
       "IPY_MODEL_865b9754e4a440d8931b6a9e7abdd048",
       "IPY_MODEL_fc291518f6a749cc8c30d4288cfd5062"
      ],
      "layout": "IPY_MODEL_b8bd021b032344e4a7e9b51b51c608dc"
     }
    },
    "af6ba051204e4ebfbf76e6a12053cea9": {
     "model_module": "@jupyter-widgets/controls",
     "model_module_version": "1.5.0",
     "model_name": "HTMLModel",
     "state": {
      "_dom_classes": [],
      "_model_module": "@jupyter-widgets/controls",
      "_model_module_version": "1.5.0",
      "_model_name": "HTMLModel",
      "_view_count": null,
      "_view_module": "@jupyter-widgets/controls",
      "_view_module_version": "1.5.0",
      "_view_name": "HTMLView",
      "description": "",
      "description_tooltip": null,
      "layout": "IPY_MODEL_bad7c7792c15448abaa7d392542a769a",
      "placeholder": "​",
      "style": "IPY_MODEL_e4c0b91472cf469ea74e89ee2d5e7298",
      "value": "Downloading (…)olve/main/merges.txt: 100%"
     }
    },
    "b22312c90cd9453cac241a6bea9c380e": {
     "model_module": "@jupyter-widgets/base",
     "model_module_version": "1.2.0",
     "model_name": "LayoutModel",
     "state": {
      "_model_module": "@jupyter-widgets/base",
      "_model_module_version": "1.2.0",
      "_model_name": "LayoutModel",
      "_view_count": null,
      "_view_module": "@jupyter-widgets/base",
      "_view_module_version": "1.2.0",
      "_view_name": "LayoutView",
      "align_content": null,
      "align_items": null,
      "align_self": null,
      "border": null,
      "bottom": null,
      "display": null,
      "flex": null,
      "flex_flow": null,
      "grid_area": null,
      "grid_auto_columns": null,
      "grid_auto_flow": null,
      "grid_auto_rows": null,
      "grid_column": null,
      "grid_gap": null,
      "grid_row": null,
      "grid_template_areas": null,
      "grid_template_columns": null,
      "grid_template_rows": null,
      "height": null,
      "justify_content": null,
      "justify_items": null,
      "left": null,
      "margin": null,
      "max_height": null,
      "max_width": null,
      "min_height": null,
      "min_width": null,
      "object_fit": null,
      "object_position": null,
      "order": null,
      "overflow": null,
      "overflow_x": null,
      "overflow_y": null,
      "padding": null,
      "right": null,
      "top": null,
      "visibility": null,
      "width": null
     }
    },
    "b6ce5c46c5e542f8a3f521a4f600b425": {
     "model_module": "@jupyter-widgets/controls",
     "model_module_version": "1.5.0",
     "model_name": "HBoxModel",
     "state": {
      "_dom_classes": [],
      "_model_module": "@jupyter-widgets/controls",
      "_model_module_version": "1.5.0",
      "_model_name": "HBoxModel",
      "_view_count": null,
      "_view_module": "@jupyter-widgets/controls",
      "_view_module_version": "1.5.0",
      "_view_name": "HBoxView",
      "box_style": "",
      "children": [
       "IPY_MODEL_1b8488c5d4274335ba6dc8d678b8dbbe",
       "IPY_MODEL_4f9db88babf043bd991d3d92dfa4d366",
       "IPY_MODEL_f98257c88e0b4f52a80971aca76294fb"
      ],
      "layout": "IPY_MODEL_a10748f379b64b0cb59a5742c8e9639d"
     }
    },
    "b8bd021b032344e4a7e9b51b51c608dc": {
     "model_module": "@jupyter-widgets/base",
     "model_module_version": "1.2.0",
     "model_name": "LayoutModel",
     "state": {
      "_model_module": "@jupyter-widgets/base",
      "_model_module_version": "1.2.0",
      "_model_name": "LayoutModel",
      "_view_count": null,
      "_view_module": "@jupyter-widgets/base",
      "_view_module_version": "1.2.0",
      "_view_name": "LayoutView",
      "align_content": null,
      "align_items": null,
      "align_self": null,
      "border": null,
      "bottom": null,
      "display": null,
      "flex": null,
      "flex_flow": null,
      "grid_area": null,
      "grid_auto_columns": null,
      "grid_auto_flow": null,
      "grid_auto_rows": null,
      "grid_column": null,
      "grid_gap": null,
      "grid_row": null,
      "grid_template_areas": null,
      "grid_template_columns": null,
      "grid_template_rows": null,
      "height": null,
      "justify_content": null,
      "justify_items": null,
      "left": null,
      "margin": null,
      "max_height": null,
      "max_width": null,
      "min_height": null,
      "min_width": null,
      "object_fit": null,
      "object_position": null,
      "order": null,
      "overflow": null,
      "overflow_x": null,
      "overflow_y": null,
      "padding": null,
      "right": null,
      "top": null,
      "visibility": null,
      "width": null
     }
    },
    "b960464ab32a4fc88c0be0c77afb84fa": {
     "model_module": "@jupyter-widgets/controls",
     "model_module_version": "1.5.0",
     "model_name": "HTMLModel",
     "state": {
      "_dom_classes": [],
      "_model_module": "@jupyter-widgets/controls",
      "_model_module_version": "1.5.0",
      "_model_name": "HTMLModel",
      "_view_count": null,
      "_view_module": "@jupyter-widgets/controls",
      "_view_module_version": "1.5.0",
      "_view_name": "HTMLView",
      "description": "",
      "description_tooltip": null,
      "layout": "IPY_MODEL_f702029535584b468759a44c4b67a4a0",
      "placeholder": "​",
      "style": "IPY_MODEL_922f06228cc24a81b7ea7ac76421df83",
      "value": "Downloading pytorch_model.bin: 100%"
     }
    },
    "bad7c7792c15448abaa7d392542a769a": {
     "model_module": "@jupyter-widgets/base",
     "model_module_version": "1.2.0",
     "model_name": "LayoutModel",
     "state": {
      "_model_module": "@jupyter-widgets/base",
      "_model_module_version": "1.2.0",
      "_model_name": "LayoutModel",
      "_view_count": null,
      "_view_module": "@jupyter-widgets/base",
      "_view_module_version": "1.2.0",
      "_view_name": "LayoutView",
      "align_content": null,
      "align_items": null,
      "align_self": null,
      "border": null,
      "bottom": null,
      "display": null,
      "flex": null,
      "flex_flow": null,
      "grid_area": null,
      "grid_auto_columns": null,
      "grid_auto_flow": null,
      "grid_auto_rows": null,
      "grid_column": null,
      "grid_gap": null,
      "grid_row": null,
      "grid_template_areas": null,
      "grid_template_columns": null,
      "grid_template_rows": null,
      "height": null,
      "justify_content": null,
      "justify_items": null,
      "left": null,
      "margin": null,
      "max_height": null,
      "max_width": null,
      "min_height": null,
      "min_width": null,
      "object_fit": null,
      "object_position": null,
      "order": null,
      "overflow": null,
      "overflow_x": null,
      "overflow_y": null,
      "padding": null,
      "right": null,
      "top": null,
      "visibility": null,
      "width": null
     }
    },
    "bec62f817d96476b92b363676ef709af": {
     "model_module": "@jupyter-widgets/controls",
     "model_module_version": "1.5.0",
     "model_name": "DescriptionStyleModel",
     "state": {
      "_model_module": "@jupyter-widgets/controls",
      "_model_module_version": "1.5.0",
      "_model_name": "DescriptionStyleModel",
      "_view_count": null,
      "_view_module": "@jupyter-widgets/base",
      "_view_module_version": "1.2.0",
      "_view_name": "StyleView",
      "description_width": ""
     }
    },
    "c8e7591baac84fe7ab6db89d0d588cd2": {
     "model_module": "@jupyter-widgets/base",
     "model_module_version": "1.2.0",
     "model_name": "LayoutModel",
     "state": {
      "_model_module": "@jupyter-widgets/base",
      "_model_module_version": "1.2.0",
      "_model_name": "LayoutModel",
      "_view_count": null,
      "_view_module": "@jupyter-widgets/base",
      "_view_module_version": "1.2.0",
      "_view_name": "LayoutView",
      "align_content": null,
      "align_items": null,
      "align_self": null,
      "border": null,
      "bottom": null,
      "display": null,
      "flex": null,
      "flex_flow": null,
      "grid_area": null,
      "grid_auto_columns": null,
      "grid_auto_flow": null,
      "grid_auto_rows": null,
      "grid_column": null,
      "grid_gap": null,
      "grid_row": null,
      "grid_template_areas": null,
      "grid_template_columns": null,
      "grid_template_rows": null,
      "height": null,
      "justify_content": null,
      "justify_items": null,
      "left": null,
      "margin": null,
      "max_height": null,
      "max_width": null,
      "min_height": null,
      "min_width": null,
      "object_fit": null,
      "object_position": null,
      "order": null,
      "overflow": null,
      "overflow_x": null,
      "overflow_y": null,
      "padding": null,
      "right": null,
      "top": null,
      "visibility": null,
      "width": null
     }
    },
    "cd1a613970554a10bfafb67f160a2f3f": {
     "model_module": "@jupyter-widgets/base",
     "model_module_version": "1.2.0",
     "model_name": "LayoutModel",
     "state": {
      "_model_module": "@jupyter-widgets/base",
      "_model_module_version": "1.2.0",
      "_model_name": "LayoutModel",
      "_view_count": null,
      "_view_module": "@jupyter-widgets/base",
      "_view_module_version": "1.2.0",
      "_view_name": "LayoutView",
      "align_content": null,
      "align_items": null,
      "align_self": null,
      "border": null,
      "bottom": null,
      "display": null,
      "flex": null,
      "flex_flow": null,
      "grid_area": null,
      "grid_auto_columns": null,
      "grid_auto_flow": null,
      "grid_auto_rows": null,
      "grid_column": null,
      "grid_gap": null,
      "grid_row": null,
      "grid_template_areas": null,
      "grid_template_columns": null,
      "grid_template_rows": null,
      "height": null,
      "justify_content": null,
      "justify_items": null,
      "left": null,
      "margin": null,
      "max_height": null,
      "max_width": null,
      "min_height": null,
      "min_width": null,
      "object_fit": null,
      "object_position": null,
      "order": null,
      "overflow": null,
      "overflow_x": null,
      "overflow_y": null,
      "padding": null,
      "right": null,
      "top": null,
      "visibility": null,
      "width": null
     }
    },
    "d149ea70322345d4a3a3067c35f7194e": {
     "model_module": "@jupyter-widgets/controls",
     "model_module_version": "1.5.0",
     "model_name": "HTMLModel",
     "state": {
      "_dom_classes": [],
      "_model_module": "@jupyter-widgets/controls",
      "_model_module_version": "1.5.0",
      "_model_name": "HTMLModel",
      "_view_count": null,
      "_view_module": "@jupyter-widgets/controls",
      "_view_module_version": "1.5.0",
      "_view_name": "HTMLView",
      "description": "",
      "description_tooltip": null,
      "layout": "IPY_MODEL_f4bb91379a424523b284a56abf6ef442",
      "placeholder": "​",
      "style": "IPY_MODEL_bec62f817d96476b92b363676ef709af",
      "value": " 1.42k/1.42k [00:00&lt;00:00, 134kB/s]"
     }
    },
    "da97092b31314d2fa95ef84203541dc7": {
     "model_module": "@jupyter-widgets/controls",
     "model_module_version": "1.5.0",
     "model_name": "HBoxModel",
     "state": {
      "_dom_classes": [],
      "_model_module": "@jupyter-widgets/controls",
      "_model_module_version": "1.5.0",
      "_model_name": "HBoxModel",
      "_view_count": null,
      "_view_module": "@jupyter-widgets/controls",
      "_view_module_version": "1.5.0",
      "_view_name": "HBoxView",
      "box_style": "",
      "children": [
       "IPY_MODEL_723e1ebf82bb43dd9ad9e18d06ca92f7",
       "IPY_MODEL_ec2fd67b130f426fa4d28b93ab3966d2",
       "IPY_MODEL_055439f636fa4f2d9091e04f9e07ef0a"
      ],
      "layout": "IPY_MODEL_7226fbcb04cf4601b45cbc2a3605c22d"
     }
    },
    "dc790c3698304027a03bf55d91c17842": {
     "model_module": "@jupyter-widgets/controls",
     "model_module_version": "1.5.0",
     "model_name": "ProgressStyleModel",
     "state": {
      "_model_module": "@jupyter-widgets/controls",
      "_model_module_version": "1.5.0",
      "_model_name": "ProgressStyleModel",
      "_view_count": null,
      "_view_module": "@jupyter-widgets/base",
      "_view_module_version": "1.2.0",
      "_view_name": "StyleView",
      "bar_color": null,
      "description_width": ""
     }
    },
    "dd149c1ee35f46f1917f1396ceab6611": {
     "model_module": "@jupyter-widgets/base",
     "model_module_version": "1.2.0",
     "model_name": "LayoutModel",
     "state": {
      "_model_module": "@jupyter-widgets/base",
      "_model_module_version": "1.2.0",
      "_model_name": "LayoutModel",
      "_view_count": null,
      "_view_module": "@jupyter-widgets/base",
      "_view_module_version": "1.2.0",
      "_view_name": "LayoutView",
      "align_content": null,
      "align_items": null,
      "align_self": null,
      "border": null,
      "bottom": null,
      "display": null,
      "flex": null,
      "flex_flow": null,
      "grid_area": null,
      "grid_auto_columns": null,
      "grid_auto_flow": null,
      "grid_auto_rows": null,
      "grid_column": null,
      "grid_gap": null,
      "grid_row": null,
      "grid_template_areas": null,
      "grid_template_columns": null,
      "grid_template_rows": null,
      "height": null,
      "justify_content": null,
      "justify_items": null,
      "left": null,
      "margin": null,
      "max_height": null,
      "max_width": null,
      "min_height": null,
      "min_width": null,
      "object_fit": null,
      "object_position": null,
      "order": null,
      "overflow": null,
      "overflow_x": null,
      "overflow_y": null,
      "padding": null,
      "right": null,
      "top": null,
      "visibility": null,
      "width": null
     }
    },
    "df889bf082b049caa096edb0989545a7": {
     "model_module": "@jupyter-widgets/controls",
     "model_module_version": "1.5.0",
     "model_name": "FloatProgressModel",
     "state": {
      "_dom_classes": [],
      "_model_module": "@jupyter-widgets/controls",
      "_model_module_version": "1.5.0",
      "_model_name": "FloatProgressModel",
      "_view_count": null,
      "_view_module": "@jupyter-widgets/controls",
      "_view_module_version": "1.5.0",
      "_view_name": "ProgressView",
      "bar_style": "success",
      "description": "",
      "description_tooltip": null,
      "layout": "IPY_MODEL_a05ffb185a9c47bcb0a3047333067b0d",
      "max": 1423,
      "min": 0,
      "orientation": "horizontal",
      "style": "IPY_MODEL_7355f3cf1bdb414c9e80ef2effa419cd",
      "value": 1423
     }
    },
    "e0bb225e25394924bf7a6948c2a2acbf": {
     "model_module": "@jupyter-widgets/base",
     "model_module_version": "1.2.0",
     "model_name": "LayoutModel",
     "state": {
      "_model_module": "@jupyter-widgets/base",
      "_model_module_version": "1.2.0",
      "_model_name": "LayoutModel",
      "_view_count": null,
      "_view_module": "@jupyter-widgets/base",
      "_view_module_version": "1.2.0",
      "_view_name": "LayoutView",
      "align_content": null,
      "align_items": null,
      "align_self": null,
      "border": null,
      "bottom": null,
      "display": null,
      "flex": null,
      "flex_flow": null,
      "grid_area": null,
      "grid_auto_columns": null,
      "grid_auto_flow": null,
      "grid_auto_rows": null,
      "grid_column": null,
      "grid_gap": null,
      "grid_row": null,
      "grid_template_areas": null,
      "grid_template_columns": null,
      "grid_template_rows": null,
      "height": null,
      "justify_content": null,
      "justify_items": null,
      "left": null,
      "margin": null,
      "max_height": null,
      "max_width": null,
      "min_height": null,
      "min_width": null,
      "object_fit": null,
      "object_position": null,
      "order": null,
      "overflow": null,
      "overflow_x": null,
      "overflow_y": null,
      "padding": null,
      "right": null,
      "top": null,
      "visibility": null,
      "width": null
     }
    },
    "e16e440c9cb54ab7899b687205aeaeda": {
     "model_module": "@jupyter-widgets/controls",
     "model_module_version": "1.5.0",
     "model_name": "ProgressStyleModel",
     "state": {
      "_model_module": "@jupyter-widgets/controls",
      "_model_module_version": "1.5.0",
      "_model_name": "ProgressStyleModel",
      "_view_count": null,
      "_view_module": "@jupyter-widgets/base",
      "_view_module_version": "1.2.0",
      "_view_name": "StyleView",
      "bar_color": null,
      "description_width": ""
     }
    },
    "e4c0b91472cf469ea74e89ee2d5e7298": {
     "model_module": "@jupyter-widgets/controls",
     "model_module_version": "1.5.0",
     "model_name": "DescriptionStyleModel",
     "state": {
      "_model_module": "@jupyter-widgets/controls",
      "_model_module_version": "1.5.0",
      "_model_name": "DescriptionStyleModel",
      "_view_count": null,
      "_view_module": "@jupyter-widgets/base",
      "_view_module_version": "1.2.0",
      "_view_name": "StyleView",
      "description_width": ""
     }
    },
    "e5118923e52e4d27a9dc2b4b39029427": {
     "model_module": "@jupyter-widgets/base",
     "model_module_version": "1.2.0",
     "model_name": "LayoutModel",
     "state": {
      "_model_module": "@jupyter-widgets/base",
      "_model_module_version": "1.2.0",
      "_model_name": "LayoutModel",
      "_view_count": null,
      "_view_module": "@jupyter-widgets/base",
      "_view_module_version": "1.2.0",
      "_view_name": "LayoutView",
      "align_content": null,
      "align_items": null,
      "align_self": null,
      "border": null,
      "bottom": null,
      "display": null,
      "flex": null,
      "flex_flow": null,
      "grid_area": null,
      "grid_auto_columns": null,
      "grid_auto_flow": null,
      "grid_auto_rows": null,
      "grid_column": null,
      "grid_gap": null,
      "grid_row": null,
      "grid_template_areas": null,
      "grid_template_columns": null,
      "grid_template_rows": null,
      "height": null,
      "justify_content": null,
      "justify_items": null,
      "left": null,
      "margin": null,
      "max_height": null,
      "max_width": null,
      "min_height": null,
      "min_width": null,
      "object_fit": null,
      "object_position": null,
      "order": null,
      "overflow": null,
      "overflow_x": null,
      "overflow_y": null,
      "padding": null,
      "right": null,
      "top": null,
      "visibility": null,
      "width": null
     }
    },
    "eb989c9b96b6446fa50715999eebb858": {
     "model_module": "@jupyter-widgets/controls",
     "model_module_version": "1.5.0",
     "model_name": "ProgressStyleModel",
     "state": {
      "_model_module": "@jupyter-widgets/controls",
      "_model_module_version": "1.5.0",
      "_model_name": "ProgressStyleModel",
      "_view_count": null,
      "_view_module": "@jupyter-widgets/base",
      "_view_module_version": "1.2.0",
      "_view_name": "StyleView",
      "bar_color": null,
      "description_width": ""
     }
    },
    "ec2fd67b130f426fa4d28b93ab3966d2": {
     "model_module": "@jupyter-widgets/controls",
     "model_module_version": "1.5.0",
     "model_name": "FloatProgressModel",
     "state": {
      "_dom_classes": [],
      "_model_module": "@jupyter-widgets/controls",
      "_model_module_version": "1.5.0",
      "_model_name": "FloatProgressModel",
      "_view_count": null,
      "_view_module": "@jupyter-widgets/controls",
      "_view_module_version": "1.5.0",
      "_view_name": "ProgressView",
      "bar_style": "success",
      "description": "",
      "description_tooltip": null,
      "layout": "IPY_MODEL_0c804d3052de49a696552861120d2851",
      "max": 670,
      "min": 0,
      "orientation": "horizontal",
      "style": "IPY_MODEL_dc790c3698304027a03bf55d91c17842",
      "value": 670
     }
    },
    "ef9a82e86658488c811f02d6c65bdd51": {
     "model_module": "@jupyter-widgets/controls",
     "model_module_version": "1.5.0",
     "model_name": "DescriptionStyleModel",
     "state": {
      "_model_module": "@jupyter-widgets/controls",
      "_model_module_version": "1.5.0",
      "_model_name": "DescriptionStyleModel",
      "_view_count": null,
      "_view_module": "@jupyter-widgets/base",
      "_view_module_version": "1.2.0",
      "_view_name": "StyleView",
      "description_width": ""
     }
    },
    "f4bb91379a424523b284a56abf6ef442": {
     "model_module": "@jupyter-widgets/base",
     "model_module_version": "1.2.0",
     "model_name": "LayoutModel",
     "state": {
      "_model_module": "@jupyter-widgets/base",
      "_model_module_version": "1.2.0",
      "_model_name": "LayoutModel",
      "_view_count": null,
      "_view_module": "@jupyter-widgets/base",
      "_view_module_version": "1.2.0",
      "_view_name": "LayoutView",
      "align_content": null,
      "align_items": null,
      "align_self": null,
      "border": null,
      "bottom": null,
      "display": null,
      "flex": null,
      "flex_flow": null,
      "grid_area": null,
      "grid_auto_columns": null,
      "grid_auto_flow": null,
      "grid_auto_rows": null,
      "grid_column": null,
      "grid_gap": null,
      "grid_row": null,
      "grid_template_areas": null,
      "grid_template_columns": null,
      "grid_template_rows": null,
      "height": null,
      "justify_content": null,
      "justify_items": null,
      "left": null,
      "margin": null,
      "max_height": null,
      "max_width": null,
      "min_height": null,
      "min_width": null,
      "object_fit": null,
      "object_position": null,
      "order": null,
      "overflow": null,
      "overflow_x": null,
      "overflow_y": null,
      "padding": null,
      "right": null,
      "top": null,
      "visibility": null,
      "width": null
     }
    },
    "f702029535584b468759a44c4b67a4a0": {
     "model_module": "@jupyter-widgets/base",
     "model_module_version": "1.2.0",
     "model_name": "LayoutModel",
     "state": {
      "_model_module": "@jupyter-widgets/base",
      "_model_module_version": "1.2.0",
      "_model_name": "LayoutModel",
      "_view_count": null,
      "_view_module": "@jupyter-widgets/base",
      "_view_module_version": "1.2.0",
      "_view_name": "LayoutView",
      "align_content": null,
      "align_items": null,
      "align_self": null,
      "border": null,
      "bottom": null,
      "display": null,
      "flex": null,
      "flex_flow": null,
      "grid_area": null,
      "grid_auto_columns": null,
      "grid_auto_flow": null,
      "grid_auto_rows": null,
      "grid_column": null,
      "grid_gap": null,
      "grid_row": null,
      "grid_template_areas": null,
      "grid_template_columns": null,
      "grid_template_rows": null,
      "height": null,
      "justify_content": null,
      "justify_items": null,
      "left": null,
      "margin": null,
      "max_height": null,
      "max_width": null,
      "min_height": null,
      "min_width": null,
      "object_fit": null,
      "object_position": null,
      "order": null,
      "overflow": null,
      "overflow_x": null,
      "overflow_y": null,
      "padding": null,
      "right": null,
      "top": null,
      "visibility": null,
      "width": null
     }
    },
    "f98257c88e0b4f52a80971aca76294fb": {
     "model_module": "@jupyter-widgets/controls",
     "model_module_version": "1.5.0",
     "model_name": "HTMLModel",
     "state": {
      "_dom_classes": [],
      "_model_module": "@jupyter-widgets/controls",
      "_model_module_version": "1.5.0",
      "_model_name": "HTMLModel",
      "_view_count": null,
      "_view_module": "@jupyter-widgets/controls",
      "_view_module_version": "1.5.0",
      "_view_name": "HTMLView",
      "description": "",
      "description_tooltip": null,
      "layout": "IPY_MODEL_e0bb225e25394924bf7a6948c2a2acbf",
      "placeholder": "​",
      "style": "IPY_MODEL_11f2f14be684474494a1f7deaca19896",
      "value": " 180k/180k [00:00&lt;00:00, 5.23MB/s]"
     }
    },
    "fc291518f6a749cc8c30d4288cfd5062": {
     "model_module": "@jupyter-widgets/controls",
     "model_module_version": "1.5.0",
     "model_name": "HTMLModel",
     "state": {
      "_dom_classes": [],
      "_model_module": "@jupyter-widgets/controls",
      "_model_module_version": "1.5.0",
      "_model_name": "HTMLModel",
      "_view_count": null,
      "_view_module": "@jupyter-widgets/controls",
      "_view_module_version": "1.5.0",
      "_view_name": "HTMLView",
      "description": "",
      "description_tooltip": null,
      "layout": "IPY_MODEL_2b0b6cfe5ca04f838502d4fcd8e331fb",
      "placeholder": "​",
      "style": "IPY_MODEL_20d72d8868234307a26639476fb31603",
      "value": " 101k/101k [00:00&lt;00:00, 9.91MB/s]"
     }
    }
   }
  }
 },
 "nbformat": 4,
 "nbformat_minor": 1
}
